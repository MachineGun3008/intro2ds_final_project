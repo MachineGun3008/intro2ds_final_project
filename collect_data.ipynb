{
 "cells": [
  {
   "cell_type": "markdown",
   "id": "3d5d895c",
   "metadata": {},
   "source": [
    "# Collect data"
   ]
  },
  {
   "cell_type": "markdown",
   "id": "e54149e3",
   "metadata": {},
   "source": [
    "* Import packages"
   ]
  },
  {
   "cell_type": "code",
   "execution_count": 1,
   "id": "f574335f",
   "metadata": {
    "executionInfo": {
     "elapsed": 614,
     "status": "ok",
     "timestamp": 1630775395121,
     "user": {
      "displayName": "Anh Lam",
      "photoUrl": "https://lh3.googleusercontent.com/a/default-user=s64",
      "userId": "07410893557959528581"
     },
     "user_tz": -420
    },
    "id": "f574335f"
   },
   "outputs": [],
   "source": [
    "import json\n",
    "import time\n",
    "import pandas as pd\n",
    "from datetime import datetime, timedelta\n",
    "from datetime import date\n",
    "from selenium import webdriver"
   ]
  },
  {
   "cell_type": "markdown",
   "id": "33768432",
   "metadata": {},
   "source": [
    "* `collect_one_day_hist` function is in charge of parsing HTML to get weather data of a determined date, each row of data is got every 30 minutes on the day. Each row of data will be saved as a dictionary and then added into a list named `data`. Because we cannot use the `requests` package so we crawl data using `selenium` instead.\n",
    "\n",
    "* Parameters:\n",
    "\n",
    "1. `dt`: the date that we will crawl data (YYYY-MM-DD)\n",
    "2. `data`: store the list of dictionaries\n",
    "3. `driver`: the Chrome webdriver"
   ]
  },
  {
   "cell_type": "code",
   "execution_count": 24,
   "id": "781c3117",
   "metadata": {},
   "outputs": [],
   "source": [
    "def collect_one_day_hist(dt,data,driver):\n",
    "    url = f'https://www.wunderground.com/history/daily/vn/quận-tân-bình/VVTS/date/{dt}'\n",
    "    driver.get(url)\n",
    "    time.sleep(10)\n",
    "    rows = driver.find_elements_by_xpath('//tr[@class=\"mat-row cdk-row ng-star-inserted\"]')\n",
    "    for r in rows:\n",
    "        dict_ = {}\n",
    "        temp = (r.text).split()\n",
    "        dict_['date'] = dt\n",
    "        dict_['time'] = ' '.join(temp[:2])\n",
    "        dict_['temperature'] = temp[2]\n",
    "        dict_['dew_point'] = temp[4]\n",
    "        dict_['humidity'] = temp[6]\n",
    "        dict_['wind'] = temp[8]\n",
    "        dict_['wind_speed'] = temp[9]\n",
    "        dict_['wind_gust'] = temp[11]\n",
    "        dict_['pressure'] = temp[13]\n",
    "        dict_['precip.'] = temp[15]\n",
    "        dict_['condition'] = ' '.join(temp[17:])\n",
    "        data.append(dict_)\n",
    "    return data"
   ]
  },
  {
   "cell_type": "markdown",
   "id": "27810289",
   "metadata": {},
   "source": [
    "* `collect_weather_hist` function will invoke `collect_one_day_hist` function until `start_date` equal to `end_date` and we will have the weather data from `start_date` to `end_date` (contain `end_date`).\n",
    "\n",
    "* Parameters:\n",
    "\n",
    "1. `start_date`: the date that we begin get data (YYYY-MM-DD)\n",
    "2. `end_date`: the date that we stop getting data. (YYYY-MM-DD)"
   ]
  },
  {
   "cell_type": "code",
   "execution_count": 25,
   "id": "0965bbe9",
   "metadata": {},
   "outputs": [],
   "source": [
    "def collect_weather_hist(start_date, end_date):\n",
    "    data = []\n",
    "    date_s, date_e = date.fromisoformat(start_date), date.fromisoformat(end_date)\n",
    "    s = timedelta(days = 1)\n",
    "    driver = webdriver.Chrome('./chromedriver')\n",
    "    while date_s <= date_e:\n",
    "        data = collect_one_day_hist(str(date_s),data,driver)\n",
    "        date_s += s\n",
    "    driver.quit()\n",
    "    return data"
   ]
  },
  {
   "cell_type": "code",
   "execution_count": 33,
   "id": "5d784e0c",
   "metadata": {},
   "outputs": [],
   "source": [
    "start_date = '2021-07-01'\n",
    "end_date = '2021-09-04'"
   ]
  },
  {
   "cell_type": "markdown",
   "id": "d545f819",
   "metadata": {},
   "source": [
    "* Invoke `collect_weather_hist` function and store the data into `data_weather`."
   ]
  },
  {
   "cell_type": "code",
   "execution_count": 34,
   "id": "b566614b",
   "metadata": {},
   "outputs": [],
   "source": [
    "data_weather = collect_weather_hist(start_date, end_date)"
   ]
  },
  {
   "cell_type": "markdown",
   "id": "cff18b3f",
   "metadata": {},
   "source": [
    "* Convert a list of dictionaries to pandas DataFrame"
   ]
  },
  {
   "cell_type": "code",
   "execution_count": 36,
   "id": "eeaf4309",
   "metadata": {},
   "outputs": [],
   "source": [
    "df = pd.DataFrame(data_weather)"
   ]
  },
  {
   "cell_type": "code",
   "execution_count": 37,
   "id": "b61a3b6b",
   "metadata": {
    "scrolled": true
   },
   "outputs": [
    {
     "data": {
      "text/html": [
       "<div>\n",
       "<style scoped>\n",
       "    .dataframe tbody tr th:only-of-type {\n",
       "        vertical-align: middle;\n",
       "    }\n",
       "\n",
       "    .dataframe tbody tr th {\n",
       "        vertical-align: top;\n",
       "    }\n",
       "\n",
       "    .dataframe thead th {\n",
       "        text-align: right;\n",
       "    }\n",
       "</style>\n",
       "<table border=\"1\" class=\"dataframe\">\n",
       "  <thead>\n",
       "    <tr style=\"text-align: right;\">\n",
       "      <th></th>\n",
       "      <th>date</th>\n",
       "      <th>time</th>\n",
       "      <th>temperature</th>\n",
       "      <th>dew_point</th>\n",
       "      <th>humidity</th>\n",
       "      <th>wind</th>\n",
       "      <th>wind_speed</th>\n",
       "      <th>wind_gust</th>\n",
       "      <th>pressure</th>\n",
       "      <th>precip.</th>\n",
       "      <th>condition</th>\n",
       "    </tr>\n",
       "  </thead>\n",
       "  <tbody>\n",
       "    <tr>\n",
       "      <th>0</th>\n",
       "      <td>2021-07-01</td>\n",
       "      <td>12:00 AM</td>\n",
       "      <td>81</td>\n",
       "      <td>79</td>\n",
       "      <td>94</td>\n",
       "      <td>WSW</td>\n",
       "      <td>6</td>\n",
       "      <td>0</td>\n",
       "      <td>29.76</td>\n",
       "      <td>0.0</td>\n",
       "      <td>Partly Cloudy</td>\n",
       "    </tr>\n",
       "    <tr>\n",
       "      <th>1</th>\n",
       "      <td>2021-07-01</td>\n",
       "      <td>12:30 AM</td>\n",
       "      <td>81</td>\n",
       "      <td>79</td>\n",
       "      <td>94</td>\n",
       "      <td>WSW</td>\n",
       "      <td>7</td>\n",
       "      <td>0</td>\n",
       "      <td>29.76</td>\n",
       "      <td>0.0</td>\n",
       "      <td>Partly Cloudy</td>\n",
       "    </tr>\n",
       "    <tr>\n",
       "      <th>2</th>\n",
       "      <td>2021-07-01</td>\n",
       "      <td>1:00 AM</td>\n",
       "      <td>82</td>\n",
       "      <td>79</td>\n",
       "      <td>89</td>\n",
       "      <td>SW</td>\n",
       "      <td>6</td>\n",
       "      <td>0</td>\n",
       "      <td>29.76</td>\n",
       "      <td>0.0</td>\n",
       "      <td>Fair</td>\n",
       "    </tr>\n",
       "    <tr>\n",
       "      <th>3</th>\n",
       "      <td>2021-07-01</td>\n",
       "      <td>1:30 AM</td>\n",
       "      <td>81</td>\n",
       "      <td>79</td>\n",
       "      <td>94</td>\n",
       "      <td>SW</td>\n",
       "      <td>6</td>\n",
       "      <td>0</td>\n",
       "      <td>29.76</td>\n",
       "      <td>0.0</td>\n",
       "      <td>Fair</td>\n",
       "    </tr>\n",
       "    <tr>\n",
       "      <th>4</th>\n",
       "      <td>2021-07-01</td>\n",
       "      <td>2:00 AM</td>\n",
       "      <td>81</td>\n",
       "      <td>79</td>\n",
       "      <td>94</td>\n",
       "      <td>SSW</td>\n",
       "      <td>7</td>\n",
       "      <td>0</td>\n",
       "      <td>29.73</td>\n",
       "      <td>0.0</td>\n",
       "      <td>Fair</td>\n",
       "    </tr>\n",
       "  </tbody>\n",
       "</table>\n",
       "</div>"
      ],
      "text/plain": [
       "         date      time temperature dew_point humidity wind wind_speed  \\\n",
       "0  2021-07-01  12:00 AM          81        79       94  WSW          6   \n",
       "1  2021-07-01  12:30 AM          81        79       94  WSW          7   \n",
       "2  2021-07-01   1:00 AM          82        79       89   SW          6   \n",
       "3  2021-07-01   1:30 AM          81        79       94   SW          6   \n",
       "4  2021-07-01   2:00 AM          81        79       94  SSW          7   \n",
       "\n",
       "  wind_gust pressure precip.      condition  \n",
       "0         0    29.76     0.0  Partly Cloudy  \n",
       "1         0    29.76     0.0  Partly Cloudy  \n",
       "2         0    29.76     0.0           Fair  \n",
       "3         0    29.76     0.0           Fair  \n",
       "4         0    29.73     0.0           Fair  "
      ]
     },
     "execution_count": 37,
     "metadata": {},
     "output_type": "execute_result"
    }
   ],
   "source": [
    "df.head(5)"
   ]
  },
  {
   "cell_type": "markdown",
   "id": "86c23bfe",
   "metadata": {},
   "source": [
    "* Shape of dataframe"
   ]
  },
  {
   "cell_type": "code",
   "execution_count": 38,
   "id": "0a97dd0c",
   "metadata": {},
   "outputs": [
    {
     "data": {
      "text/plain": [
       "(3162, 11)"
      ]
     },
     "execution_count": 38,
     "metadata": {},
     "output_type": "execute_result"
    }
   ],
   "source": [
    "df.shape"
   ]
  },
  {
   "cell_type": "markdown",
   "id": "8400ff2b",
   "metadata": {},
   "source": [
    "* Save dataframe to excel file (`weather_hist.xlsx`)"
   ]
  },
  {
   "cell_type": "code",
   "execution_count": 42,
   "id": "8e49276d",
   "metadata": {},
   "outputs": [],
   "source": [
    "df.to_excel('./weather_hist.xlsx',index=False)"
   ]
  }
 ],
 "metadata": {
  "colab": {
   "collapsed_sections": [],
   "name": "DS_collect_data.ipynb",
   "provenance": []
  },
  "kernelspec": {
   "display_name": "Python 3 (ipykernel)",
   "language": "python",
   "name": "python3"
  },
  "language_info": {
   "codemirror_mode": {
    "name": "ipython",
    "version": 3
   },
   "file_extension": ".py",
   "mimetype": "text/x-python",
   "name": "python",
   "nbconvert_exporter": "python",
   "pygments_lexer": "ipython3",
   "version": "3.8.8"
  },
  "toc": {
   "base_numbering": "",
   "nav_menu": {},
   "number_sections": false,
   "sideBar": true,
   "skip_h1_title": false,
   "title_cell": "Table of Contents",
   "title_sidebar": "Contents",
   "toc_cell": false,
   "toc_position": {},
   "toc_section_display": true,
   "toc_window_display": false
  }
 },
 "nbformat": 4,
 "nbformat_minor": 5
}
