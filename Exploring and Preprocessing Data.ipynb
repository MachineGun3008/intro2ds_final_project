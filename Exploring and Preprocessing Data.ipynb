{
 "cells": [
  {
   "cell_type": "markdown",
   "metadata": {},
   "source": [
    "# Explore data\n",
    "we use [bag of words](https://en.wikipedia.org/wiki/Bag-of-words_model) as feature of comments. Firstly, we have to preprocess all text data. Steps to preprocess data:\n",
    "1. Convert upper letters to lower letters.\n",
    "2. Remove punctuations.\n",
    "3. Split all sentences into seperated words.\n",
    "4. Remove [stop words](https://en.wikipedia.org/wiki/Stop_word]).\n",
    "5. Remove words and digits containing digits.\n",
    "6. Stemming and Lemmatization.\n",
    "7. With a new comment, we remove words that model does not know."
   ]
  },
  {
   "cell_type": "markdown",
   "metadata": {},
   "source": [
    "First, read data, and explore it."
   ]
  },
  {
   "cell_type": "code",
   "execution_count": 18,
   "metadata": {},
   "outputs": [],
   "source": [
    "import numpy as np\n",
    "import pandas as pd\n",
    "from nltk.stem import PorterStemmer \n",
    "from nltk.corpus import stopwords\n",
    "from nltk.tokenize import word_tokenize\n",
    "import re\n",
    "import itertools"
   ]
  },
  {
   "cell_type": "code",
   "execution_count": 33,
   "metadata": {},
   "outputs": [
    {
     "data": {
      "text/html": [
       "<div>\n",
       "<style scoped>\n",
       "    .dataframe tbody tr th:only-of-type {\n",
       "        vertical-align: middle;\n",
       "    }\n",
       "\n",
       "    .dataframe tbody tr th {\n",
       "        vertical-align: top;\n",
       "    }\n",
       "\n",
       "    .dataframe thead th {\n",
       "        text-align: right;\n",
       "    }\n",
       "</style>\n",
       "<table border=\"1\" class=\"dataframe\">\n",
       "  <thead>\n",
       "    <tr style=\"text-align: right;\">\n",
       "      <th></th>\n",
       "      <th>Title</th>\n",
       "      <th>Content</th>\n",
       "      <th>Rate</th>\n",
       "    </tr>\n",
       "  </thead>\n",
       "  <tbody>\n",
       "    <tr>\n",
       "      <th>0</th>\n",
       "      <td>Good light hearted fun.</td>\n",
       "      <td>This is nowhere near as bad as some of the rev...</td>\n",
       "      <td>7.0</td>\n",
       "    </tr>\n",
       "    <tr>\n",
       "      <th>1</th>\n",
       "      <td>Wartime Themes</td>\n",
       "      <td>Love and sacrifice during WWII underlie the st...</td>\n",
       "      <td>NaN</td>\n",
       "    </tr>\n",
       "    <tr>\n",
       "      <th>2</th>\n",
       "      <td>\"Critics\" gave Gravity a 9, and flunked Area 51.</td>\n",
       "      <td>As a big sci-fi fan and UFO-enthusiast, I real...</td>\n",
       "      <td>9.0</td>\n",
       "    </tr>\n",
       "    <tr>\n",
       "      <th>3</th>\n",
       "      <td>A slow start builds to a riveting climax</td>\n",
       "      <td>At the beginning of this film I thought we wer...</td>\n",
       "      <td>NaN</td>\n",
       "    </tr>\n",
       "    <tr>\n",
       "      <th>4</th>\n",
       "      <td>If God is a movie, he's this one.</td>\n",
       "      <td>My moron friend John says that this movie is t...</td>\n",
       "      <td>9.0</td>\n",
       "    </tr>\n",
       "  </tbody>\n",
       "</table>\n",
       "</div>"
      ],
      "text/plain": [
       "                                              Title  \\\n",
       "0                           Good light hearted fun.   \n",
       "1                                    Wartime Themes   \n",
       "2  \"Critics\" gave Gravity a 9, and flunked Area 51.   \n",
       "3          A slow start builds to a riveting climax   \n",
       "4                 If God is a movie, he's this one.   \n",
       "\n",
       "                                             Content  Rate  \n",
       "0  This is nowhere near as bad as some of the rev...   7.0  \n",
       "1  Love and sacrifice during WWII underlie the st...   NaN  \n",
       "2  As a big sci-fi fan and UFO-enthusiast, I real...   9.0  \n",
       "3  At the beginning of this film I thought we wer...   NaN  \n",
       "4  My moron friend John says that this movie is t...   9.0  "
      ]
     },
     "execution_count": 33,
     "metadata": {},
     "output_type": "execute_result"
    }
   ],
   "source": [
    "# Read data\n",
    "data = pd.read_excel('data.xlsx')\n",
    "\n",
    "data.head()"
   ]
  },
  {
   "cell_type": "markdown",
   "metadata": {},
   "source": [
    "Number of columns and number of rows"
   ]
  },
  {
   "cell_type": "code",
   "execution_count": 26,
   "metadata": {},
   "outputs": [
    {
     "name": "stdout",
     "output_type": "stream",
     "text": [
      "Number of rows: 2451\n",
      "Number of cols: 3\n"
     ]
    }
   ],
   "source": [
    "(num_rows, num_cols) = data.shape\n",
    "print('Number of rows: {0}'.format(num_rows))\n",
    "print('Number of cols: {0}'.format(num_cols))"
   ]
  },
  {
   "cell_type": "markdown",
   "metadata": {},
   "source": [
    "Datatype of each column"
   ]
  },
  {
   "cell_type": "code",
   "execution_count": 27,
   "metadata": {},
   "outputs": [
    {
     "data": {
      "text/plain": [
       "Title       object\n",
       "Content     object\n",
       "Rate       float64\n",
       "dtype: object"
      ]
     },
     "execution_count": 27,
     "metadata": {},
     "output_type": "execute_result"
    }
   ],
   "source": [
    "data.dtypes"
   ]
  },
  {
   "cell_type": "markdown",
   "metadata": {},
   "source": [
    "# Preprocess data"
   ]
  },
  {
   "cell_type": "markdown",
   "metadata": {},
   "source": [
    "How many NaN values"
   ]
  },
  {
   "cell_type": "code",
   "execution_count": 29,
   "metadata": {},
   "outputs": [
    {
     "data": {
      "text/plain": [
       "Title        0\n",
       "Content    211\n",
       "Rate       263\n",
       "dtype: int64"
      ]
     },
     "execution_count": 29,
     "metadata": {},
     "output_type": "execute_result"
    }
   ],
   "source": [
    "data.isna().sum()"
   ]
  },
  {
   "cell_type": "markdown",
   "metadata": {},
   "source": [
    "Because we have 2451 rows and the number of missing values ($211+263=474$) is small, so that we decide to remove rows having missing values"
   ]
  },
  {
   "cell_type": "code",
   "execution_count": 30,
   "metadata": {},
   "outputs": [],
   "source": [
    "data.dropna(inplace=True)"
   ]
  },
  {
   "cell_type": "markdown",
   "metadata": {},
   "source": [
    "Update the number of columns and the number of rows"
   ]
  },
  {
   "cell_type": "code",
   "execution_count": 31,
   "metadata": {},
   "outputs": [
    {
     "name": "stdout",
     "output_type": "stream",
     "text": [
      "Number of rows: 2003\n",
      "Number of cols: 3\n"
     ]
    }
   ],
   "source": [
    "(num_rows, num_cols) = data.shape\n",
    "print('Number of rows: {0}'.format(num_rows))\n",
    "print('Number of cols: {0}'.format(num_cols))"
   ]
  },
  {
   "cell_type": "markdown",
   "metadata": {},
   "source": [
    "## Discorver numerical column\n",
    "With numerical column , we calculate:\n",
    "* Percent missing values\n",
    "* Minimum value\n",
    "* Maximum value\n",
    "* Lower quartile value\n",
    "* Median value\n",
    "* Upper quartile value\n",
    "* Maximum value\n",
    "\n",
    "We save the value in `nume_col_info_df`"
   ]
  },
  {
   "cell_type": "code",
   "execution_count": 38,
   "metadata": {},
   "outputs": [
    {
     "data": {
      "text/html": [
       "<div>\n",
       "<style scoped>\n",
       "    .dataframe tbody tr th:only-of-type {\n",
       "        vertical-align: middle;\n",
       "    }\n",
       "\n",
       "    .dataframe tbody tr th {\n",
       "        vertical-align: top;\n",
       "    }\n",
       "\n",
       "    .dataframe thead th {\n",
       "        text-align: right;\n",
       "    }\n",
       "</style>\n",
       "<table border=\"1\" class=\"dataframe\">\n",
       "  <thead>\n",
       "    <tr style=\"text-align: right;\">\n",
       "      <th></th>\n",
       "      <th>Rate</th>\n",
       "    </tr>\n",
       "  </thead>\n",
       "  <tbody>\n",
       "    <tr>\n",
       "      <th>missing_percentage</th>\n",
       "      <td>13.1303</td>\n",
       "    </tr>\n",
       "    <tr>\n",
       "      <th>min</th>\n",
       "      <td>1</td>\n",
       "    </tr>\n",
       "    <tr>\n",
       "      <th>lower_quartile</th>\n",
       "      <td>2</td>\n",
       "    </tr>\n",
       "    <tr>\n",
       "      <th>median</th>\n",
       "      <td>8</td>\n",
       "    </tr>\n",
       "    <tr>\n",
       "      <th>upper_quartile</th>\n",
       "      <td>10</td>\n",
       "    </tr>\n",
       "    <tr>\n",
       "      <th>max</th>\n",
       "      <td>10</td>\n",
       "    </tr>\n",
       "  </tbody>\n",
       "</table>\n",
       "</div>"
      ],
      "text/plain": [
       "                       Rate\n",
       "missing_percentage  13.1303\n",
       "min                       1\n",
       "lower_quartile            2\n",
       "median                    8\n",
       "upper_quartile           10\n",
       "max                      10"
      ]
     },
     "execution_count": 38,
     "metadata": {},
     "output_type": "execute_result"
    }
   ],
   "source": [
    "nume_col_info_df = pd.DataFrame(index = [\"missing_percentage\", \"min\", \"lower_quartile\", \"median\", \"upper_quartile\", \"max\"], columns=['Rate'])\n",
    "nume_col_info_df.loc['missing_percentage'] = data['Rate'].isnull().sum(axis = 0)/ num_rows * 100\n",
    "nume_col_info_df.loc['min'] = data['Rate'].min(axis = 0)\n",
    "nume_col_info_df.loc['max'] = data['Rate'].max(axis = 0)\n",
    "nume_col_info_df.loc['lower_quartile'] = data['Rate'].quantile(q=0.25)\n",
    "nume_col_info_df.loc['median'] = data['Rate'].quantile(q=0.5)\n",
    "nume_col_info_df.loc['upper_quartile'] = data['Rate'].quantile(q=0.75)\n",
    "# raise NotImplementedError()\n",
    "nume_col_info_df"
   ]
  },
  {
   "cell_type": "markdown",
   "metadata": {},
   "source": [
    "Plot data 'Rate' column"
   ]
  },
  {
   "cell_type": "code",
   "execution_count": 46,
   "metadata": {},
   "outputs": [
    {
     "data": {
      "text/plain": [
       "<AxesSubplot:>"
      ]
     },
     "execution_count": 46,
     "metadata": {},
     "output_type": "execute_result"
    },
    {
     "data": {
      "image/png": "[encoded data removed]",
      "text/plain": [
       "<Figure size 432x288 with 1 Axes>"
      ]
     },
     "metadata": {
      "needs_background": "light"
     },
     "output_type": "display_data"
    }
   ],
   "source": [
    "data['Rate'].value_counts().plot.bar()"
   ]
  },
  {
   "cell_type": "code",
   "execution_count": 39,
   "metadata": {},
   "outputs": [
    {
     "data": {
      "text/plain": [
       "array([ 7., nan,  9.,  3.,  1.,  2., 10.,  8.,  5.,  6.,  4.])"
      ]
     },
     "execution_count": 39,
     "metadata": {},
     "output_type": "execute_result"
    }
   ],
   "source": [
    "data['Rate'].unique()"
   ]
  },
  {
   "cell_type": "code",
   "execution_count": null,
   "metadata": {},
   "outputs": [],
   "source": [
    "# Stop words\n",
    "stop_words = set(stopwords.words('english'))\n",
    "\n",
    "# Set of words will be learned\n",
    "vocal_dict = dict()\n",
    "vocal_size = 0\n",
    "\n",
    "def preprocess(text, train):\n",
    "    # Convert upper letters to lower letters\n",
    "    text = text.lower()\n",
    "    \n",
    "    # Remove punctuations\n",
    "    text = re.sub(r'[^\\w\\s]', '', text)\n",
    "    \n",
    "    # Remove words and digits containing digits\n",
    "    text = re.sub('W*dw*','',text)\n",
    "    \n",
    "    # Split all sentences into seperated words\n",
    "    word_tokens = word_tokenize(text)\n",
    "    \n",
    "    # Remove stop words\n",
    "    words = [w for w in word_tokens if not w in stop_words]\n",
    "    \n",
    "    for i in range(len(words)):\n",
    "        # Stemming and Lemmatization\n",
    "        words[i] = PorterStemmer().stem(words[i])\n",
    "\n",
    "        if train and words[i] not in vocal_dict:\n",
    "            vocal_dict[words[i]] = vocal_size\n",
    "            vocal_size += 1\n",
    "        if not train and words[i] not in vocal_dict:\n",
    "            words[i] = 'unk'\n",
    "    return words"
   ]
  },
  {
   "cell_type": "code",
   "execution_count": null,
   "metadata": {},
   "outputs": [],
   "source": [
    "# Read data\n",
    "data = pd.read_excel('data.xls')\n",
    "\n",
    "# Random data\n",
    "data.sample(frac=1)\n",
    "\n"
   ]
  },
  {
   "cell_type": "code",
   "execution_count": 16,
   "metadata": {},
   "outputs": [
    {
     "name": "stdout",
     "output_type": "stream",
     "text": [
      "I go to school\n"
     ]
    }
   ],
   "source": [
    "print(re.sub(r'[^\\w\\s]', '', 'I go to school'))"
   ]
  }
 ],
 "metadata": {
  "kernelspec": {
   "display_name": "Python 3",
   "language": "python",
   "name": "python3"
  },
  "language_info": {
   "codemirror_mode": {
    "name": "ipython",
    "version": 3
   },
   "file_extension": ".py",
   "mimetype": "text/x-python",
   "name": "python",
   "nbconvert_exporter": "python",
   "pygments_lexer": "ipython3",
   "version": "3.8.5"
  }
 },
 "nbformat": 4,
 "nbformat_minor": 4
}
