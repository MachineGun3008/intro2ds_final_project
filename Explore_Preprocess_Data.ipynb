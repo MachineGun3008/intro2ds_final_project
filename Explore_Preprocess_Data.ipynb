{
 "cells": [
  {
   "cell_type": "markdown",
   "id": "f268c020",
   "metadata": {},
   "source": [
    "## Import packages"
   ]
  },
  {
   "cell_type": "code",
   "execution_count": 1,
   "id": "9293283f",
   "metadata": {},
   "outputs": [],
   "source": [
    "%matplotlib inline\n",
    "import matplotlib.pyplot as plt\n",
    "import numpy as np\n",
    "import pandas as pd\n",
    "import seaborn as sns\n",
    "\n",
    "import re\n",
    "\n",
    "from sklearn.model_selection import train_test_split\n",
    "from sklearn.preprocessing import OneHotEncoder, StandardScaler\n",
    "from sklearn.impute import SimpleImputer\n",
    "from sklearn.base import BaseEstimator, TransformerMixin\n",
    "from sklearn.pipeline import Pipeline, make_pipeline\n",
    "from sklearn.compose import ColumnTransformer, make_column_transformer\n",
    "from sklearn.neural_network import MLPClassifier\n",
    "from sklearn import set_config"
   ]
  },
  {
   "cell_type": "markdown",
   "id": "fb9bb5cd",
   "metadata": {},
   "source": [
    "# Explore data"
   ]
  },
  {
   "cell_type": "markdown",
   "id": "e036fd62",
   "metadata": {},
   "source": [
    "* Read file `weather_hist.xlsx`"
   ]
  },
  {
   "cell_type": "code",
   "execution_count": 2,
   "id": "3ef1c564",
   "metadata": {},
   "outputs": [
    {
     "data": {
      "text/html": [
       "<div>\n",
       "<style scoped>\n",
       "    .dataframe tbody tr th:only-of-type {\n",
       "        vertical-align: middle;\n",
       "    }\n",
       "\n",
       "    .dataframe tbody tr th {\n",
       "        vertical-align: top;\n",
       "    }\n",
       "\n",
       "    .dataframe thead th {\n",
       "        text-align: right;\n",
       "    }\n",
       "</style>\n",
       "<table border=\"1\" class=\"dataframe\">\n",
       "  <thead>\n",
       "    <tr style=\"text-align: right;\">\n",
       "      <th></th>\n",
       "      <th>date</th>\n",
       "      <th>time</th>\n",
       "      <th>temperature</th>\n",
       "      <th>dew_point</th>\n",
       "      <th>humidity</th>\n",
       "      <th>wind</th>\n",
       "      <th>wind_speed</th>\n",
       "      <th>wind_gust</th>\n",
       "      <th>pressure</th>\n",
       "      <th>precip.</th>\n",
       "      <th>condition</th>\n",
       "    </tr>\n",
       "  </thead>\n",
       "  <tbody>\n",
       "    <tr>\n",
       "      <th>0</th>\n",
       "      <td>2021-07-01</td>\n",
       "      <td>12:00 AM</td>\n",
       "      <td>81</td>\n",
       "      <td>79</td>\n",
       "      <td>94</td>\n",
       "      <td>WSW</td>\n",
       "      <td>6</td>\n",
       "      <td>0</td>\n",
       "      <td>29.76</td>\n",
       "      <td>0.0</td>\n",
       "      <td>Partly Cloudy</td>\n",
       "    </tr>\n",
       "    <tr>\n",
       "      <th>1</th>\n",
       "      <td>2021-07-01</td>\n",
       "      <td>12:30 AM</td>\n",
       "      <td>81</td>\n",
       "      <td>79</td>\n",
       "      <td>94</td>\n",
       "      <td>WSW</td>\n",
       "      <td>7</td>\n",
       "      <td>0</td>\n",
       "      <td>29.76</td>\n",
       "      <td>0.0</td>\n",
       "      <td>Partly Cloudy</td>\n",
       "    </tr>\n",
       "    <tr>\n",
       "      <th>2</th>\n",
       "      <td>2021-07-01</td>\n",
       "      <td>1:00 AM</td>\n",
       "      <td>82</td>\n",
       "      <td>79</td>\n",
       "      <td>89</td>\n",
       "      <td>SW</td>\n",
       "      <td>6</td>\n",
       "      <td>0</td>\n",
       "      <td>29.76</td>\n",
       "      <td>0.0</td>\n",
       "      <td>Fair</td>\n",
       "    </tr>\n",
       "    <tr>\n",
       "      <th>3</th>\n",
       "      <td>2021-07-01</td>\n",
       "      <td>1:30 AM</td>\n",
       "      <td>81</td>\n",
       "      <td>79</td>\n",
       "      <td>94</td>\n",
       "      <td>SW</td>\n",
       "      <td>6</td>\n",
       "      <td>0</td>\n",
       "      <td>29.76</td>\n",
       "      <td>0.0</td>\n",
       "      <td>Fair</td>\n",
       "    </tr>\n",
       "    <tr>\n",
       "      <th>4</th>\n",
       "      <td>2021-07-01</td>\n",
       "      <td>2:00 AM</td>\n",
       "      <td>81</td>\n",
       "      <td>79</td>\n",
       "      <td>94</td>\n",
       "      <td>SSW</td>\n",
       "      <td>7</td>\n",
       "      <td>0</td>\n",
       "      <td>29.73</td>\n",
       "      <td>0.0</td>\n",
       "      <td>Fair</td>\n",
       "    </tr>\n",
       "  </tbody>\n",
       "</table>\n",
       "</div>"
      ],
      "text/plain": [
       "         date      time  temperature  dew_point  humidity wind  wind_speed  \\\n",
       "0  2021-07-01  12:00 AM           81         79        94  WSW           6   \n",
       "1  2021-07-01  12:30 AM           81         79        94  WSW           7   \n",
       "2  2021-07-01   1:00 AM           82         79        89   SW           6   \n",
       "3  2021-07-01   1:30 AM           81         79        94   SW           6   \n",
       "4  2021-07-01   2:00 AM           81         79        94  SSW           7   \n",
       "\n",
       "   wind_gust  pressure  precip.      condition  \n",
       "0          0     29.76      0.0  Partly Cloudy  \n",
       "1          0     29.76      0.0  Partly Cloudy  \n",
       "2          0     29.76      0.0           Fair  \n",
       "3          0     29.76      0.0           Fair  \n",
       "4          0     29.73      0.0           Fair  "
      ]
     },
     "execution_count": 2,
     "metadata": {},
     "output_type": "execute_result"
    }
   ],
   "source": [
    "df = pd.read_excel('./data/weather_hist.xlsx')\n",
    "df.head(5)"
   ]
  },
  {
   "cell_type": "markdown",
   "id": "8fb5443d",
   "metadata": {},
   "source": [
    "* Data shape (rows, columns)"
   ]
  },
  {
   "cell_type": "code",
   "execution_count": 3,
   "id": "b71663cd",
   "metadata": {},
   "outputs": [
    {
     "data": {
      "text/plain": [
       "(3162, 11)"
      ]
     },
     "execution_count": 3,
     "metadata": {},
     "output_type": "execute_result"
    }
   ],
   "source": [
    "df.shape"
   ]
  },
  {
   "cell_type": "markdown",
   "id": "6ea56e20",
   "metadata": {},
   "source": [
    "### Are there any duplicate "
   ]
  },
  {
   "cell_type": "code",
   "execution_count": 4,
   "id": "3a1a2e41",
   "metadata": {},
   "outputs": [
    {
     "data": {
      "text/plain": [
       "0"
      ]
     },
     "execution_count": 4,
     "metadata": {},
     "output_type": "execute_result"
    }
   ],
   "source": [
    "num_duplicate_rows = df.index.duplicated(keep='first').sum()\n",
    "num_duplicate_rows"
   ]
  },
  {
   "cell_type": "markdown",
   "id": "792004d0",
   "metadata": {},
   "source": [
    "### Are there any missing values"
   ]
  },
  {
   "cell_type": "code",
   "execution_count": 5,
   "id": "9ab2bc09",
   "metadata": {},
   "outputs": [
    {
     "data": {
      "text/plain": [
       "date           0\n",
       "time           0\n",
       "temperature    0\n",
       "dew_point      0\n",
       "humidity       0\n",
       "wind           0\n",
       "wind_speed     0\n",
       "wind_gust      0\n",
       "pressure       0\n",
       "precip.        0\n",
       "condition      0\n",
       "dtype: int64"
      ]
     },
     "execution_count": 5,
     "metadata": {},
     "output_type": "execute_result"
    }
   ],
   "source": [
    "missing_values = df.isna().sum()\n",
    "missing_values"
   ]
  },
  {
   "cell_type": "markdown",
   "id": "334e5717",
   "metadata": {},
   "source": [
    "### What is the meaning of each row?\n",
    "\n",
    "Each row is the weather condition at a determined time of the date, which is collected every 30 minutes."
   ]
  },
  {
   "cell_type": "markdown",
   "id": "ae5a4f4a",
   "metadata": {},
   "source": [
    "### What is the meaning of each column?\n",
    "\n",
    "There are 11 columns:\n",
    "\n",
    "* `date`: date that data is collected (YYYY-MM-DD)\n",
    "* `time`: 12:00 AM -> 11:30 PM\n",
    "* `temperature`: Fahrenheit\n",
    "* `dew_point`: the atmospheric temperature (varying according to pressure and humidity) below which water droplets begin to condense and dew can form. (Fahrenheit)\n",
    "* `humidity`: atmospheric moisture (percentage)\n",
    "* `wind`: wind's direction code\n",
    "* `wind_speed`: the rate at which the wind passes a given point (mph : miles per hour)\n",
    "* `wind_gust`: a brief increase in the speed of the wind (mph)\n",
    "* `pressure`: sea level pressure (inches Hg)\n",
    "* `precip.`: any liquid or frozen water that forms in the atmosphere and falls to the Earth (inches)\n",
    "* `condition`: description of the weather"
   ]
  },
  {
   "cell_type": "markdown",
   "id": "84dbcd5d",
   "metadata": {},
   "source": [
    "### What are the data types of these columns?"
   ]
  },
  {
   "cell_type": "code",
   "execution_count": 6,
   "id": "9a97f361",
   "metadata": {},
   "outputs": [
    {
     "data": {
      "text/plain": [
       "date            object\n",
       "time            object\n",
       "temperature      int64\n",
       "dew_point        int64\n",
       "humidity         int64\n",
       "wind            object\n",
       "wind_speed       int64\n",
       "wind_gust        int64\n",
       "pressure       float64\n",
       "precip.        float64\n",
       "condition       object\n",
       "dtype: object"
      ]
     },
     "execution_count": 6,
     "metadata": {},
     "output_type": "execute_result"
    }
   ],
   "source": [
    "df.dtypes"
   ]
  },
  {
   "cell_type": "code",
   "execution_count": 7,
   "id": "fc25328c",
   "metadata": {},
   "outputs": [],
   "source": [
    "num_cols = list(df.select_dtypes(exclude='object').columns)\n",
    "cate_cols = list(df.select_dtypes(include='object').columns)"
   ]
  },
  {
   "cell_type": "markdown",
   "id": "286dc925",
   "metadata": {},
   "source": [
    "### How data distribution of each numerical column"
   ]
  },
  {
   "cell_type": "code",
   "execution_count": 8,
   "id": "0e5fd91a",
   "metadata": {},
   "outputs": [
    {
     "data": {
      "text/html": [
       "<div>\n",
       "<style scoped>\n",
       "    .dataframe tbody tr th:only-of-type {\n",
       "        vertical-align: middle;\n",
       "    }\n",
       "\n",
       "    .dataframe tbody tr th {\n",
       "        vertical-align: top;\n",
       "    }\n",
       "\n",
       "    .dataframe thead th {\n",
       "        text-align: right;\n",
       "    }\n",
       "</style>\n",
       "<table border=\"1\" class=\"dataframe\">\n",
       "  <thead>\n",
       "    <tr style=\"text-align: right;\">\n",
       "      <th></th>\n",
       "      <th>temperature</th>\n",
       "      <th>dew_point</th>\n",
       "      <th>humidity</th>\n",
       "      <th>wind_speed</th>\n",
       "      <th>wind_gust</th>\n",
       "      <th>pressure</th>\n",
       "      <th>precip.</th>\n",
       "    </tr>\n",
       "  </thead>\n",
       "  <tbody>\n",
       "    <tr>\n",
       "      <th>count</th>\n",
       "      <td>3162.000000</td>\n",
       "      <td>3162.000000</td>\n",
       "      <td>3162.000000</td>\n",
       "      <td>3162.000000</td>\n",
       "      <td>3162.000000</td>\n",
       "      <td>3162.000000</td>\n",
       "      <td>3162.0</td>\n",
       "    </tr>\n",
       "    <tr>\n",
       "      <th>mean</th>\n",
       "      <td>82.981341</td>\n",
       "      <td>77.075901</td>\n",
       "      <td>83.554396</td>\n",
       "      <td>7.094877</td>\n",
       "      <td>0.288741</td>\n",
       "      <td>29.716860</td>\n",
       "      <td>0.0</td>\n",
       "    </tr>\n",
       "    <tr>\n",
       "      <th>std</th>\n",
       "      <td>4.785956</td>\n",
       "      <td>2.033863</td>\n",
       "      <td>12.999929</td>\n",
       "      <td>4.719783</td>\n",
       "      <td>3.124810</td>\n",
       "      <td>0.531235</td>\n",
       "      <td>0.0</td>\n",
       "    </tr>\n",
       "    <tr>\n",
       "      <th>min</th>\n",
       "      <td>72.000000</td>\n",
       "      <td>70.000000</td>\n",
       "      <td>44.000000</td>\n",
       "      <td>0.000000</td>\n",
       "      <td>0.000000</td>\n",
       "      <td>0.000000</td>\n",
       "      <td>0.0</td>\n",
       "    </tr>\n",
       "    <tr>\n",
       "      <th>25%</th>\n",
       "      <td>79.000000</td>\n",
       "      <td>75.000000</td>\n",
       "      <td>74.000000</td>\n",
       "      <td>3.000000</td>\n",
       "      <td>0.000000</td>\n",
       "      <td>29.700000</td>\n",
       "      <td>0.0</td>\n",
       "    </tr>\n",
       "    <tr>\n",
       "      <th>50%</th>\n",
       "      <td>82.000000</td>\n",
       "      <td>77.000000</td>\n",
       "      <td>89.000000</td>\n",
       "      <td>7.000000</td>\n",
       "      <td>0.000000</td>\n",
       "      <td>29.730000</td>\n",
       "      <td>0.0</td>\n",
       "    </tr>\n",
       "    <tr>\n",
       "      <th>75%</th>\n",
       "      <td>86.000000</td>\n",
       "      <td>79.000000</td>\n",
       "      <td>94.000000</td>\n",
       "      <td>10.000000</td>\n",
       "      <td>0.000000</td>\n",
       "      <td>29.760000</td>\n",
       "      <td>0.0</td>\n",
       "    </tr>\n",
       "    <tr>\n",
       "      <th>max</th>\n",
       "      <td>97.000000</td>\n",
       "      <td>84.000000</td>\n",
       "      <td>100.000000</td>\n",
       "      <td>26.000000</td>\n",
       "      <td>45.000000</td>\n",
       "      <td>29.910000</td>\n",
       "      <td>0.0</td>\n",
       "    </tr>\n",
       "  </tbody>\n",
       "</table>\n",
       "</div>"
      ],
      "text/plain": [
       "       temperature    dew_point     humidity   wind_speed    wind_gust  \\\n",
       "count  3162.000000  3162.000000  3162.000000  3162.000000  3162.000000   \n",
       "mean     82.981341    77.075901    83.554396     7.094877     0.288741   \n",
       "std       4.785956     2.033863    12.999929     4.719783     3.124810   \n",
       "min      72.000000    70.000000    44.000000     0.000000     0.000000   \n",
       "25%      79.000000    75.000000    74.000000     3.000000     0.000000   \n",
       "50%      82.000000    77.000000    89.000000     7.000000     0.000000   \n",
       "75%      86.000000    79.000000    94.000000    10.000000     0.000000   \n",
       "max      97.000000    84.000000   100.000000    26.000000    45.000000   \n",
       "\n",
       "          pressure  precip.  \n",
       "count  3162.000000   3162.0  \n",
       "mean     29.716860      0.0  \n",
       "std       0.531235      0.0  \n",
       "min       0.000000      0.0  \n",
       "25%      29.700000      0.0  \n",
       "50%      29.730000      0.0  \n",
       "75%      29.760000      0.0  \n",
       "max      29.910000      0.0  "
      ]
     },
     "execution_count": 8,
     "metadata": {},
     "output_type": "execute_result"
    }
   ],
   "source": [
    "df[num_cols].describe()"
   ]
  },
  {
   "cell_type": "markdown",
   "id": "ced13bd1",
   "metadata": {},
   "source": [
    "We visualize the histogram to have a better look"
   ]
  },
  {
   "cell_type": "code",
   "execution_count": 9,
   "id": "3fea7e23",
   "metadata": {},
   "outputs": [
    {
     "data": {
      "image/png": "[encoded data removed]",
      "text/plain": [
       "<Figure size 1440x1080 with 9 Axes>"
      ]
     },
     "metadata": {
      "needs_background": "light"
     },
     "output_type": "display_data"
    }
   ],
   "source": [
    "df[num_cols].hist(bins=50, figsize=(20, 15))\n",
    "plt.show()"
   ]
  },
  {
   "cell_type": "markdown",
   "id": "0e9afe1f",
   "metadata": {},
   "source": [
    "We have few observations:\n",
    "* These attributes have very different scales.\n",
    "* `precip` column is all $0$, so this attribute does not supply any information.\n",
    "* Daa in `wind_gust` and `pressure` are weird, most of values are in the smaller certain range, so that we think there are outlier."
   ]
  },
  {
   "cell_type": "markdown",
   "id": "f7de4c88",
   "metadata": {},
   "source": [
    "### How data distribute of each categorical column\n",
    "\n"
   ]
  },
  {
   "cell_type": "code",
   "execution_count": 10,
   "id": "540f3512",
   "metadata": {},
   "outputs": [
    {
     "data": {
      "text/html": [
       "<div>\n",
       "<style scoped>\n",
       "    .dataframe tbody tr th:only-of-type {\n",
       "        vertical-align: middle;\n",
       "    }\n",
       "\n",
       "    .dataframe tbody tr th {\n",
       "        vertical-align: top;\n",
       "    }\n",
       "\n",
       "    .dataframe thead th {\n",
       "        text-align: right;\n",
       "    }\n",
       "</style>\n",
       "<table border=\"1\" class=\"dataframe\">\n",
       "  <thead>\n",
       "    <tr style=\"text-align: right;\">\n",
       "      <th></th>\n",
       "      <th>date</th>\n",
       "      <th>time</th>\n",
       "      <th>wind</th>\n",
       "      <th>condition</th>\n",
       "    </tr>\n",
       "  </thead>\n",
       "  <tbody>\n",
       "    <tr>\n",
       "      <th>missing_percentage</th>\n",
       "      <td>0.0</td>\n",
       "      <td>0.0</td>\n",
       "      <td>0.0</td>\n",
       "      <td>0.0</td>\n",
       "    </tr>\n",
       "    <tr>\n",
       "      <th>num_values</th>\n",
       "      <td>66</td>\n",
       "      <td>48</td>\n",
       "      <td>18</td>\n",
       "      <td>20</td>\n",
       "    </tr>\n",
       "    <tr>\n",
       "      <th>value_percentages</th>\n",
       "      <td>{'2021-07-01': 1.5, '2021-08-02': 1.5, '2021-08-04': 1.5, '2021-08-05': 1.5, '2021-08-06': 1.5, ...</td>\n",
       "      <td>{'12:00 PM': 2.1, '4:00 PM': 2.1, '12:30 AM': 2.1, '12:30 PM': 2.1, '1:00 PM': 2.1, '1:30 PM': 2...</td>\n",
       "      <td>{'WSW': 25.6, 'VAR': 20.5, 'W': 16.8, 'SW': 11.6, 'WNW': 4.3, 'S': 3.1, 'SSW': 3.1, 'CALM': 2.8,...</td>\n",
       "      <td>{'Partly Cloudy': 54.0, 'Mostly Cloudy': 28.5, 'Fair': 6.0, 'Light Rain': 4.8, 'Light Rain Showe...</td>\n",
       "    </tr>\n",
       "  </tbody>\n",
       "</table>\n",
       "</div>"
      ],
      "text/plain": [
       "                                                                                                                   date  \\\n",
       "missing_percentage                                                                                                  0.0   \n",
       "num_values                                                                                                           66   \n",
       "value_percentages   {'2021-07-01': 1.5, '2021-08-02': 1.5, '2021-08-04': 1.5, '2021-08-05': 1.5, '2021-08-06': 1.5, ...   \n",
       "\n",
       "                                                                                                                   time  \\\n",
       "missing_percentage                                                                                                  0.0   \n",
       "num_values                                                                                                           48   \n",
       "value_percentages   {'12:00 PM': 2.1, '4:00 PM': 2.1, '12:30 AM': 2.1, '12:30 PM': 2.1, '1:00 PM': 2.1, '1:30 PM': 2...   \n",
       "\n",
       "                                                                                                                   wind  \\\n",
       "missing_percentage                                                                                                  0.0   \n",
       "num_values                                                                                                           18   \n",
       "value_percentages   {'WSW': 25.6, 'VAR': 20.5, 'W': 16.8, 'SW': 11.6, 'WNW': 4.3, 'S': 3.1, 'SSW': 3.1, 'CALM': 2.8,...   \n",
       "\n",
       "                                                                                                              condition  \n",
       "missing_percentage                                                                                                  0.0  \n",
       "num_values                                                                                                           20  \n",
       "value_percentages   {'Partly Cloudy': 54.0, 'Mostly Cloudy': 28.5, 'Fair': 6.0, 'Light Rain': 4.8, 'Light Rain Showe...  "
      ]
     },
     "execution_count": 10,
     "metadata": {},
     "output_type": "execute_result"
    }
   ],
   "source": [
    "pd.set_option('display.max_colwidth', 100) # Để dễ nhìn\n",
    "pd.set_option('display.max_columns', None) # Để dễ nhìn\n",
    "\n",
    "def CountUniqueValues(s):\n",
    "    s = s.dropna().str.split(';').explode()\n",
    "    return len(s.unique())\n",
    "def CountFrequenciesSeries(s):\n",
    "    s = s.dropna().str.split(';').explode()\n",
    "    return (s.value_counts(normalize = True)*100).round(1).to_dict()\n",
    "\n",
    "cate_col_info_df = pd.DataFrame(index=['missing_percentage', 'num_values', 'value_percentages'], columns=cate_cols)\n",
    "cate_col_info_df.loc['missing_percentage'] = df[cate_cols].isnull().sum(axis = 0).divide(len(df) / 100).round(1)\n",
    "cate_col_info_df.loc['num_values'] = df[cate_cols].apply(CountUniqueValues)\n",
    "cate_col_info_df.loc['value_percentages'] = df[cate_cols].apply(CountFrequenciesSeries)\n",
    "cate_col_info_df"
   ]
  },
  {
   "cell_type": "markdown",
   "id": "646ab92f",
   "metadata": {},
   "source": [
    "We visualize data for better looking"
   ]
  },
  {
   "cell_type": "code",
   "execution_count": 11,
   "id": "35c4c013",
   "metadata": {},
   "outputs": [
    {
     "name": "stderr",
     "output_type": "stream",
     "text": [
      "/home/ubuntu/miniconda3/envs/min_ds-env/lib/python3.8/site-packages/seaborn/_decorators.py:36: FutureWarning: Pass the following variables as keyword args: x, y. From version 0.12, the only valid positional argument will be `data`, and passing other arguments without an explicit keyword will result in an error or misinterpretation.\n",
      "  warnings.warn(\n"
     ]
    },
    {
     "data": {
      "image/png": "[encoded data removed]",
      "text/plain": [
       "<Figure size 432x288 with 1 Axes>"
      ]
     },
     "metadata": {},
     "output_type": "display_data"
    }
   ],
   "source": [
    "count = df['date'].value_counts()\n",
    "sns.set(style=\"darkgrid\")\n",
    "sns.barplot(count.index, count.values, alpha=0.9)\n",
    "plt.title('Frequency Distribution of date')\n",
    "plt.ylabel('Number of Occurrences', fontsize=12)\n",
    "plt.xlabel('date', fontsize=12)\n",
    "plt.show()"
   ]
  },
  {
   "cell_type": "code",
   "execution_count": 12,
   "id": "3841c918",
   "metadata": {},
   "outputs": [
    {
     "name": "stderr",
     "output_type": "stream",
     "text": [
      "/home/ubuntu/miniconda3/envs/min_ds-env/lib/python3.8/site-packages/seaborn/_decorators.py:36: FutureWarning: Pass the following variables as keyword args: x, y. From version 0.12, the only valid positional argument will be `data`, and passing other arguments without an explicit keyword will result in an error or misinterpretation.\n",
      "  warnings.warn(\n"
     ]
    },
    {
     "data": {
      "image/png": "[encoded data removed]",
      "text/plain": [
       "<Figure size 432x288 with 1 Axes>"
      ]
     },
     "metadata": {},
     "output_type": "display_data"
    }
   ],
   "source": [
    "count = df['time'].value_counts()\n",
    "sns.set(style=\"darkgrid\")\n",
    "sns.barplot(count.index, count.values, alpha=0.9)\n",
    "plt.title('Frequency Distribution of date')\n",
    "plt.ylabel('Number of Occurrences', fontsize=12)\n",
    "plt.xlabel('time', fontsize=12)\n",
    "plt.show()"
   ]
  },
  {
   "cell_type": "code",
   "execution_count": 13,
   "id": "4b915eae",
   "metadata": {},
   "outputs": [
    {
     "name": "stderr",
     "output_type": "stream",
     "text": [
      "/home/ubuntu/miniconda3/envs/min_ds-env/lib/python3.8/site-packages/seaborn/_decorators.py:36: FutureWarning: Pass the following variables as keyword args: x, y. From version 0.12, the only valid positional argument will be `data`, and passing other arguments without an explicit keyword will result in an error or misinterpretation.\n",
      "  warnings.warn(\n"
     ]
    },
    {
     "data": {
      "image/png": "[encoded data removed]",
      "text/plain": [
       "<Figure size 432x288 with 1 Axes>"
      ]
     },
     "metadata": {},
     "output_type": "display_data"
    },
    {
     "data": {
      "text/plain": [
       "<Figure size 17280x8640 with 0 Axes>"
      ]
     },
     "metadata": {},
     "output_type": "display_data"
    }
   ],
   "source": [
    "count = df['wind'].value_counts()\n",
    "sns.set(style=\"darkgrid\")\n",
    "sns.barplot(count.index, count.values, alpha=0.9)\n",
    "plt.title('Frequency Distribution of date')\n",
    "plt.ylabel('Number of Occurrences', fontsize=12)\n",
    "plt.xlabel('wind', fontsize=12)\n",
    "plt.figure(figsize=(240, 120))\n",
    "plt.show()"
   ]
  },
  {
   "cell_type": "code",
   "execution_count": 14,
   "id": "20f66795",
   "metadata": {},
   "outputs": [
    {
     "name": "stderr",
     "output_type": "stream",
     "text": [
      "/home/ubuntu/miniconda3/envs/min_ds-env/lib/python3.8/site-packages/seaborn/_decorators.py:36: FutureWarning: Pass the following variables as keyword args: x, y. From version 0.12, the only valid positional argument will be `data`, and passing other arguments without an explicit keyword will result in an error or misinterpretation.\n",
      "  warnings.warn(\n"
     ]
    },
    {
     "data": {
      "image/png": "[encoded data removed]",
      "text/plain": [
       "<Figure size 432x288 with 1 Axes>"
      ]
     },
     "metadata": {},
     "output_type": "display_data"
    },
    {
     "data": {
      "text/plain": [
       "<Figure size 17280x8640 with 0 Axes>"
      ]
     },
     "metadata": {},
     "output_type": "display_data"
    }
   ],
   "source": [
    "count = df['condition'].value_counts()\n",
    "sns.set(style=\"darkgrid\")\n",
    "sns.barplot(count.index, count.values, alpha=0.9)\n",
    "plt.title('Frequency Distribution of date')\n",
    "plt.ylabel('Number of Occurrences', fontsize=12)\n",
    "plt.xlabel('condition', fontsize=12)\n",
    "plt.figure(figsize=(240, 120))\n",
    "plt.show()"
   ]
  },
  {
   "cell_type": "markdown",
   "id": "b045fd88",
   "metadata": {},
   "source": [
    "We have some observations:\n",
    "* Distribution of date and time is uniform.\n",
    "* `wind` and `condition` have some values which frequency is low"
   ]
  },
  {
   "cell_type": "markdown",
   "id": "f6dfd813",
   "metadata": {},
   "source": [
    "## A question\n",
    "\n",
    "Predict whether it will rain or not in the following 30 minutes based on data about weather conditions of that time.\n",
    "\n",
    "This prediction is helpful because it helps us be proactive in preparation to avoid being wet when going out, brings an umbrella or wearing a raincoat."
   ]
  },
  {
   "cell_type": "markdown",
   "id": "db6d3854",
   "metadata": {},
   "source": [
    "## Preprocess\n",
    "\n",
    "What we are going to do:\n",
    "* Preprocessing `condition` data\n",
    "* Remove outlier from `\n",
    "\n",
    "First, we have to preprocess `condition` column. Because we want to predict the future weather but it now shows the current condition. We realize that `date` and `time` likely are sorted, so that we need to check is it already arranged"
   ]
  },
  {
   "cell_type": "code",
   "execution_count": 15,
   "id": "78e68aea",
   "metadata": {},
   "outputs": [],
   "source": [
    "rain = ['Light Rain','Light Rain Shower','Light Rain with Thunder','T-Storm','Rain Shower','Heavy T-Storm','Showers in the Vicinity','Light Rain Shower / Windy','Heavy Rain Shower','Heavy T-Storm / Windy','Heavy Rain Shower / Windy','Rain Shower / Windy']\n",
    "n_rain = ['Partly Cloudy','Mostly Cloudy','Fair','Thunder in the Vicinity','Thunder','Partly Cloudy / Windy','Fog','Mostly Cloudy / Windy']"
   ]
  },
  {
   "cell_type": "code",
   "execution_count": 16,
   "id": "c26da07a",
   "metadata": {},
   "outputs": [],
   "source": [
    "df.loc[df.condition.isin(rain),'condition'] = 'Rain'\n",
    "df.loc[df.condition.isin(n_rain),'condition'] = 'Others'"
   ]
  },
  {
   "cell_type": "code",
   "execution_count": 17,
   "id": "35e0439f",
   "metadata": {},
   "outputs": [
    {
     "data": {
      "text/html": [
       "<div>\n",
       "<style scoped>\n",
       "    .dataframe tbody tr th:only-of-type {\n",
       "        vertical-align: middle;\n",
       "    }\n",
       "\n",
       "    .dataframe tbody tr th {\n",
       "        vertical-align: top;\n",
       "    }\n",
       "\n",
       "    .dataframe thead th {\n",
       "        text-align: right;\n",
       "    }\n",
       "</style>\n",
       "<table border=\"1\" class=\"dataframe\">\n",
       "  <thead>\n",
       "    <tr style=\"text-align: right;\">\n",
       "      <th></th>\n",
       "      <th>date</th>\n",
       "      <th>time</th>\n",
       "      <th>temperature</th>\n",
       "      <th>dew_point</th>\n",
       "      <th>humidity</th>\n",
       "      <th>wind</th>\n",
       "      <th>wind_speed</th>\n",
       "      <th>wind_gust</th>\n",
       "      <th>pressure</th>\n",
       "      <th>precip.</th>\n",
       "      <th>condition</th>\n",
       "    </tr>\n",
       "  </thead>\n",
       "  <tbody>\n",
       "    <tr>\n",
       "      <th>0</th>\n",
       "      <td>2021-07-01</td>\n",
       "      <td>12:00 AM</td>\n",
       "      <td>81</td>\n",
       "      <td>79</td>\n",
       "      <td>94</td>\n",
       "      <td>WSW</td>\n",
       "      <td>6</td>\n",
       "      <td>0</td>\n",
       "      <td>29.76</td>\n",
       "      <td>0.0</td>\n",
       "      <td>Others</td>\n",
       "    </tr>\n",
       "    <tr>\n",
       "      <th>1</th>\n",
       "      <td>2021-07-01</td>\n",
       "      <td>12:30 AM</td>\n",
       "      <td>81</td>\n",
       "      <td>79</td>\n",
       "      <td>94</td>\n",
       "      <td>WSW</td>\n",
       "      <td>7</td>\n",
       "      <td>0</td>\n",
       "      <td>29.76</td>\n",
       "      <td>0.0</td>\n",
       "      <td>Others</td>\n",
       "    </tr>\n",
       "    <tr>\n",
       "      <th>2</th>\n",
       "      <td>2021-07-01</td>\n",
       "      <td>1:00 AM</td>\n",
       "      <td>82</td>\n",
       "      <td>79</td>\n",
       "      <td>89</td>\n",
       "      <td>SW</td>\n",
       "      <td>6</td>\n",
       "      <td>0</td>\n",
       "      <td>29.76</td>\n",
       "      <td>0.0</td>\n",
       "      <td>Others</td>\n",
       "    </tr>\n",
       "    <tr>\n",
       "      <th>3</th>\n",
       "      <td>2021-07-01</td>\n",
       "      <td>1:30 AM</td>\n",
       "      <td>81</td>\n",
       "      <td>79</td>\n",
       "      <td>94</td>\n",
       "      <td>SW</td>\n",
       "      <td>6</td>\n",
       "      <td>0</td>\n",
       "      <td>29.76</td>\n",
       "      <td>0.0</td>\n",
       "      <td>Others</td>\n",
       "    </tr>\n",
       "    <tr>\n",
       "      <th>4</th>\n",
       "      <td>2021-07-01</td>\n",
       "      <td>2:00 AM</td>\n",
       "      <td>81</td>\n",
       "      <td>79</td>\n",
       "      <td>94</td>\n",
       "      <td>SSW</td>\n",
       "      <td>7</td>\n",
       "      <td>0</td>\n",
       "      <td>29.73</td>\n",
       "      <td>0.0</td>\n",
       "      <td>Others</td>\n",
       "    </tr>\n",
       "  </tbody>\n",
       "</table>\n",
       "</div>"
      ],
      "text/plain": [
       "         date      time  temperature  dew_point  humidity wind  wind_speed  \\\n",
       "0  2021-07-01  12:00 AM           81         79        94  WSW           6   \n",
       "1  2021-07-01  12:30 AM           81         79        94  WSW           7   \n",
       "2  2021-07-01   1:00 AM           82         79        89   SW           6   \n",
       "3  2021-07-01   1:30 AM           81         79        94   SW           6   \n",
       "4  2021-07-01   2:00 AM           81         79        94  SSW           7   \n",
       "\n",
       "   wind_gust  pressure  precip. condition  \n",
       "0          0     29.76      0.0    Others  \n",
       "1          0     29.76      0.0    Others  \n",
       "2          0     29.76      0.0    Others  \n",
       "3          0     29.76      0.0    Others  \n",
       "4          0     29.73      0.0    Others  "
      ]
     },
     "execution_count": 17,
     "metadata": {},
     "output_type": "execute_result"
    }
   ],
   "source": [
    "df.head(5)"
   ]
  },
  {
   "cell_type": "code",
   "execution_count": 18,
   "id": "828297b6",
   "metadata": {},
   "outputs": [
    {
     "data": {
      "text/plain": [
       "True"
      ]
     },
     "execution_count": 18,
     "metadata": {},
     "output_type": "execute_result"
    }
   ],
   "source": [
    "def CheckDate(date_df):\n",
    "    max_day = [0, 31, 28, 31, 30, 31, 30, 31, 31, 30, 31, 30, 31]\n",
    "    days=[0, 31, 28, 31, 30, 31, 30, 31, 31, 30, 31, 30, 31]\n",
    "    for i in range(1, len(days)):\n",
    "        days[i] += days[i - 1]\n",
    "    previous, pyear, pday, pmonth = None, None, None, None\n",
    "    for index, value in date_df.items():\n",
    "        ymd = value.split('-')\n",
    "        year, month, day = int(ymd[0]), int(ymd[1]), int(ymd[2])\n",
    "        now = (year-1) * 365 + days[month - 1] + day\n",
    "        if index != 0:\n",
    "            if now != previous:\n",
    "                if month == 2 and days == 29:\n",
    "                    if year % 4 != 0 or pyear != year or pmonth != month or pday != 28:\n",
    "                        return False\n",
    "                if month > 12 or day > max_day[month]:\n",
    "                    return False\n",
    "                if now - previous != 1:\n",
    "                    return False\n",
    "        previous, pyear, pmonth, pday = now, year, month, day\n",
    "    return True\n",
    "\n",
    "CheckDate(df['date'])"
   ]
  },
  {
   "cell_type": "code",
   "execution_count": 19,
   "id": "2a2b77e3",
   "metadata": {},
   "outputs": [
    {
     "name": "stdout",
     "output_type": "stream",
     "text": [
      "1247\n"
     ]
    },
    {
     "data": {
      "text/plain": [
       "False"
      ]
     },
     "execution_count": 19,
     "metadata": {},
     "output_type": "execute_result"
    }
   ],
   "source": [
    "def CheckTime(time_df):\n",
    "    previous, pdn = None, None\n",
    "    for index, value in time_df.items():\n",
    "        dn = value[-2:]\n",
    "        hm = value[:-3].split(':')\n",
    "        hour, minute = int(hm[0]) % 12, int(hm[1]) % 60\n",
    "        now = hour * 60 + minute\n",
    "        if index != 0:\n",
    "            if dn == pdn:\n",
    "                if now - previous != 30:\n",
    "                    print(index)\n",
    "                    return False\n",
    "            else:\n",
    "                if (hour + 12) * 60 + minute - previous != 30:\n",
    "                    print(index)\n",
    "                    return False\n",
    "        previous, pdn = now, dn\n",
    "    return True\n",
    "\n",
    "CheckTime(df.time)"
   ]
  },
  {
   "cell_type": "code",
   "execution_count": 20,
   "id": "e37bea2e",
   "metadata": {},
   "outputs": [
    {
     "name": "stdout",
     "output_type": "stream",
     "text": [
      "(3161,)\n"
     ]
    },
    {
     "data": {
      "text/plain": [
       "0    Others\n",
       "1    Others\n",
       "2    Others\n",
       "3    Others\n",
       "4    Others\n",
       "Name: condition, dtype: object"
      ]
     },
     "execution_count": 20,
     "metadata": {},
     "output_type": "execute_result"
    }
   ],
   "source": [
    "condition_temp = df.condition.drop(index=[0], inplace = False)\n",
    "# condition_temp.head(5)\n",
    "condition_temp.reset_index(drop = True, inplace = True)\n",
    "print(condition_temp.shape)\n",
    "df.drop(index = df.shape[0] - 1, inplace = True)\n",
    "df['condition'] = condition_temp\n",
    "df['condition'].head(5)"
   ]
  },
  {
   "cell_type": "code",
   "execution_count": 21,
   "id": "031a089e",
   "metadata": {},
   "outputs": [
    {
     "data": {
      "text/plain": [
       "0     Others\n",
       "1     Others\n",
       "2     Others\n",
       "3     Others\n",
       "4     Others\n",
       "5     Others\n",
       "6     Others\n",
       "7     Others\n",
       "8     Others\n",
       "9     Others\n",
       "10    Others\n",
       "11    Others\n",
       "12    Others\n",
       "13    Others\n",
       "14    Others\n",
       "15    Others\n",
       "16    Others\n",
       "17    Others\n",
       "Name: condition, dtype: object"
      ]
     },
     "execution_count": 21,
     "metadata": {},
     "output_type": "execute_result"
    }
   ],
   "source": [
    "df['condition'].head(18)"
   ]
  },
  {
   "cell_type": "code",
   "execution_count": 22,
   "id": "dca55871",
   "metadata": {},
   "outputs": [],
   "source": [
    "def CheckDateTime(time_df):\n",
    "    ans = np.ones(time_df.shape[0])\n",
    "    previous, pdn = None, None\n",
    "    for index, value in time_df.items():\n",
    "        dn = value[-2:]\n",
    "        hm = value[:-3].split(':')\n",
    "        hour, minute = int(hm[0]) % 12, int(hm[1]) % 60\n",
    "        now = hour * 60 + minute\n",
    "        if index != 0:\n",
    "            if dn == pdn:\n",
    "                if now - previous != 30:\n",
    "#                     print(index)\n",
    "                    ans[index] = 0\n",
    "            else:\n",
    "                if (hour + 12) * 60 + minute - previous != 30:\n",
    "                    ans[index] = 0\n",
    "        previous, pdn = now, dn\n",
    "    return ans\n",
    "\n",
    "ans = CheckDateTime(df['time'])\n",
    "df.drop(np.where(ans==0)[0], axis=0, inplace=True)\n",
    "df.reset_index(inplace=True)"
   ]
  },
  {
   "cell_type": "markdown",
   "id": "8aceff7d",
   "metadata": {},
   "source": [
    "Next, we preprocess `pressure` column"
   ]
  },
  {
   "cell_type": "code",
   "execution_count": 23,
   "id": "1d21d0ab",
   "metadata": {},
   "outputs": [
    {
     "data": {
      "text/plain": [
       "29.73    681\n",
       "29.76    640\n",
       "29.70    606\n",
       "29.67    417\n",
       "29.79    337\n",
       "29.64    224\n",
       "29.82    105\n",
       "29.85     65\n",
       "29.61     63\n",
       "29.88     13\n",
       "29.91      2\n",
       "29.58      1\n",
       "0.00       1\n",
       "Name: pressure, dtype: int64"
      ]
     },
     "execution_count": 23,
     "metadata": {},
     "output_type": "execute_result"
    }
   ],
   "source": [
    "df['pressure'].value_counts()"
   ]
  },
  {
   "cell_type": "markdown",
   "id": "0673b54f",
   "metadata": {},
   "source": [
    "We see that most of values are from $29.61$ to $29.91$, but there is a row which has $0$ value, therefore, we decide it is the outlier"
   ]
  },
  {
   "cell_type": "code",
   "execution_count": 24,
   "id": "38c2ecde",
   "metadata": {},
   "outputs": [
    {
     "data": {
      "text/plain": [
       "(3154, 12)"
      ]
     },
     "execution_count": 24,
     "metadata": {},
     "output_type": "execute_result"
    }
   ],
   "source": [
    "df.drop(np.where(df['pressure']==0)[0], inplace = True)\n",
    "df.shape"
   ]
  },
  {
   "cell_type": "markdown",
   "id": "86e1c3ca",
   "metadata": {},
   "source": [
    "Finnal, we preprocess `wind_gust` column"
   ]
  },
  {
   "cell_type": "code",
   "execution_count": 25,
   "id": "0751c2fe",
   "metadata": {
    "scrolled": true
   },
   "outputs": [
    {
     "data": {
      "text/plain": [
       "0     3126\n",
       "31       4\n",
       "36       3\n",
       "32       3\n",
       "22       2\n",
       "24       2\n",
       "20       2\n",
       "37       2\n",
       "33       1\n",
       "41       1\n",
       "40       1\n",
       "43       1\n",
       "29       1\n",
       "30       1\n",
       "44       1\n",
       "35       1\n",
       "45       1\n",
       "39       1\n",
       "Name: wind_gust, dtype: int64"
      ]
     },
     "execution_count": 25,
     "metadata": {},
     "output_type": "execute_result"
    }
   ],
   "source": [
    "df['wind_gust'].value_counts()"
   ]
  },
  {
   "cell_type": "markdown",
   "id": "c15b4f20",
   "metadata": {},
   "source": [
    "We see that $0$ is dominated in this column, the other is very few, and we afraid of overfitting, therefore, we decide to remove this column."
   ]
  },
  {
   "cell_type": "code",
   "execution_count": 26,
   "id": "b9429fd6",
   "metadata": {},
   "outputs": [],
   "source": [
    "df.drop(columns='index', inplace=True)\n",
    "df.to_csv('data/Preprossing_data.csv', index=False)"
   ]
  },
  {
   "cell_type": "code",
   "execution_count": 27,
   "id": "76595f8d",
   "metadata": {},
   "outputs": [
    {
     "data": {
      "text/plain": [
       "Index(['date', 'time', 'temperature', 'dew_point', 'humidity', 'wind',\n",
       "       'wind_speed', 'wind_gust', 'pressure', 'precip.', 'condition'],\n",
       "      dtype='object')"
      ]
     },
     "execution_count": 27,
     "metadata": {},
     "output_type": "execute_result"
    }
   ],
   "source": [
    "df.columns"
   ]
  },
  {
   "cell_type": "markdown",
   "id": "1fea454b",
   "metadata": {},
   "source": [
    "### What we will predict"
   ]
  },
  {
   "cell_type": "code",
   "execution_count": 28,
   "id": "98d42754",
   "metadata": {},
   "outputs": [
    {
     "data": {
      "text/plain": [
       "Others    2831\n",
       "Rain       323\n",
       "Name: condition, dtype: int64"
      ]
     },
     "execution_count": 28,
     "metadata": {},
     "output_type": "execute_result"
    }
   ],
   "source": [
    "df.condition.value_counts()"
   ]
  },
  {
   "cell_type": "code",
   "execution_count": null,
   "id": "09d473bb",
   "metadata": {},
   "outputs": [],
   "source": []
  }
 ],
 "metadata": {
  "kernelspec": {
   "display_name": "Python 3 (ipykernel)",
   "language": "python",
   "name": "python3"
  },
  "language_info": {
   "codemirror_mode": {
    "name": "ipython",
    "version": 3
   },
   "file_extension": ".py",
   "mimetype": "text/x-python",
   "name": "python",
   "nbconvert_exporter": "python",
   "pygments_lexer": "ipython3",
   "version": "3.8.3"
  },
  "toc": {
   "base_numbering": 1,
   "nav_menu": {},
   "number_sections": false,
   "sideBar": true,
   "skip_h1_title": false,
   "title_cell": "Table of Contents",
   "title_sidebar": "Contents",
   "toc_cell": false,
   "toc_position": {},
   "toc_section_display": true,
   "toc_window_display": false
  }
 },
 "nbformat": 4,
 "nbformat_minor": 5
}
