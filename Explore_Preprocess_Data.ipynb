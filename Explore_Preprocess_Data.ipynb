{
 "cells": [
  {
   "cell_type": "markdown",
   "id": "f268c020",
   "metadata": {},
   "source": [
    "## Import packages"
   ]
  },
  {
   "cell_type": "code",
   "execution_count": 1,
   "id": "9293283f",
   "metadata": {},
   "outputs": [],
   "source": [
    "import numpy as np\n",
    "import pandas as pd\n",
    "\n",
    "import re\n",
    "\n",
    "from sklearn.model_selection import train_test_split\n",
    "from sklearn.preprocessing import OneHotEncoder, StandardScaler\n",
    "from sklearn.impute import SimpleImputer\n",
    "from sklearn.base import BaseEstimator, TransformerMixin\n",
    "from sklearn.pipeline import Pipeline, make_pipeline\n",
    "from sklearn.compose import ColumnTransformer, make_column_transformer\n",
    "from sklearn.neural_network import MLPClassifier\n",
    "from sklearn import set_config"
   ]
  },
  {
   "cell_type": "markdown",
   "id": "fb9bb5cd",
   "metadata": {},
   "source": [
    "# Explore data"
   ]
  },
  {
   "cell_type": "markdown",
   "id": "e036fd62",
   "metadata": {},
   "source": [
    "* Read file `weather_hist.xlsx`"
   ]
  },
  {
   "cell_type": "code",
   "execution_count": 3,
   "id": "3ef1c564",
   "metadata": {},
   "outputs": [
    {
     "data": {
      "text/html": [
       "<div>\n",
       "<style scoped>\n",
       "    .dataframe tbody tr th:only-of-type {\n",
       "        vertical-align: middle;\n",
       "    }\n",
       "\n",
       "    .dataframe tbody tr th {\n",
       "        vertical-align: top;\n",
       "    }\n",
       "\n",
       "    .dataframe thead th {\n",
       "        text-align: right;\n",
       "    }\n",
       "</style>\n",
       "<table border=\"1\" class=\"dataframe\">\n",
       "  <thead>\n",
       "    <tr style=\"text-align: right;\">\n",
       "      <th></th>\n",
       "      <th>date</th>\n",
       "      <th>time</th>\n",
       "      <th>temperature</th>\n",
       "      <th>dew_point</th>\n",
       "      <th>humidity</th>\n",
       "      <th>wind</th>\n",
       "      <th>wind_speed</th>\n",
       "      <th>wind_gust</th>\n",
       "      <th>pressure</th>\n",
       "      <th>precip.</th>\n",
       "      <th>condition</th>\n",
       "    </tr>\n",
       "  </thead>\n",
       "  <tbody>\n",
       "    <tr>\n",
       "      <th>0</th>\n",
       "      <td>2021-07-01</td>\n",
       "      <td>12:00 AM</td>\n",
       "      <td>81</td>\n",
       "      <td>79</td>\n",
       "      <td>94</td>\n",
       "      <td>WSW</td>\n",
       "      <td>6</td>\n",
       "      <td>0</td>\n",
       "      <td>29.76</td>\n",
       "      <td>0.0</td>\n",
       "      <td>Partly Cloudy</td>\n",
       "    </tr>\n",
       "    <tr>\n",
       "      <th>1</th>\n",
       "      <td>2021-07-01</td>\n",
       "      <td>12:30 AM</td>\n",
       "      <td>81</td>\n",
       "      <td>79</td>\n",
       "      <td>94</td>\n",
       "      <td>WSW</td>\n",
       "      <td>7</td>\n",
       "      <td>0</td>\n",
       "      <td>29.76</td>\n",
       "      <td>0.0</td>\n",
       "      <td>Partly Cloudy</td>\n",
       "    </tr>\n",
       "    <tr>\n",
       "      <th>2</th>\n",
       "      <td>2021-07-01</td>\n",
       "      <td>1:00 AM</td>\n",
       "      <td>82</td>\n",
       "      <td>79</td>\n",
       "      <td>89</td>\n",
       "      <td>SW</td>\n",
       "      <td>6</td>\n",
       "      <td>0</td>\n",
       "      <td>29.76</td>\n",
       "      <td>0.0</td>\n",
       "      <td>Fair</td>\n",
       "    </tr>\n",
       "    <tr>\n",
       "      <th>3</th>\n",
       "      <td>2021-07-01</td>\n",
       "      <td>1:30 AM</td>\n",
       "      <td>81</td>\n",
       "      <td>79</td>\n",
       "      <td>94</td>\n",
       "      <td>SW</td>\n",
       "      <td>6</td>\n",
       "      <td>0</td>\n",
       "      <td>29.76</td>\n",
       "      <td>0.0</td>\n",
       "      <td>Fair</td>\n",
       "    </tr>\n",
       "    <tr>\n",
       "      <th>4</th>\n",
       "      <td>2021-07-01</td>\n",
       "      <td>2:00 AM</td>\n",
       "      <td>81</td>\n",
       "      <td>79</td>\n",
       "      <td>94</td>\n",
       "      <td>SSW</td>\n",
       "      <td>7</td>\n",
       "      <td>0</td>\n",
       "      <td>29.73</td>\n",
       "      <td>0.0</td>\n",
       "      <td>Fair</td>\n",
       "    </tr>\n",
       "  </tbody>\n",
       "</table>\n",
       "</div>"
      ],
      "text/plain": [
       "         date      time  temperature  dew_point  humidity wind  wind_speed  \\\n",
       "0  2021-07-01  12:00 AM           81         79        94  WSW           6   \n",
       "1  2021-07-01  12:30 AM           81         79        94  WSW           7   \n",
       "2  2021-07-01   1:00 AM           82         79        89   SW           6   \n",
       "3  2021-07-01   1:30 AM           81         79        94   SW           6   \n",
       "4  2021-07-01   2:00 AM           81         79        94  SSW           7   \n",
       "\n",
       "   wind_gust  pressure  precip.      condition  \n",
       "0          0     29.76      0.0  Partly Cloudy  \n",
       "1          0     29.76      0.0  Partly Cloudy  \n",
       "2          0     29.76      0.0           Fair  \n",
       "3          0     29.76      0.0           Fair  \n",
       "4          0     29.73      0.0           Fair  "
      ]
     },
     "execution_count": 3,
     "metadata": {},
     "output_type": "execute_result"
    }
   ],
   "source": [
    "df = pd.read_excel('./data/weather_hist.xlsx')\n",
    "df.head(5)"
   ]
  },
  {
   "cell_type": "markdown",
   "id": "8fb5443d",
   "metadata": {},
   "source": [
    "* Data shape (rows, columns)"
   ]
  },
  {
   "cell_type": "code",
   "execution_count": 4,
   "id": "b71663cd",
   "metadata": {},
   "outputs": [
    {
     "data": {
      "text/plain": [
       "(3162, 11)"
      ]
     },
     "execution_count": 4,
     "metadata": {},
     "output_type": "execute_result"
    }
   ],
   "source": [
    "df.shape"
   ]
  },
  {
   "cell_type": "markdown",
   "id": "334e5717",
   "metadata": {},
   "source": [
    "### What is the meaning of each row?\n",
    "\n",
    "Each row is the weather condition at a determined time of the date, which is collected every 30 minutes."
   ]
  },
  {
   "cell_type": "markdown",
   "id": "ae5a4f4a",
   "metadata": {},
   "source": [
    "### What is the meaning of each column?\n",
    "\n",
    "There are 11 columns:\n",
    "\n",
    "* `date`: date that data is collected (YYYY-MM-DD)\n",
    "* `time`: 12:00 AM -> 11:30 PM\n",
    "* `temperature`: Fahrenheit\n",
    "* `dew_point`: the atmospheric temperature (varying according to pressure and humidity) below which water droplets begin to condense and dew can form. (Fahrenheit)\n",
    "* `humidity`: atmospheric moisture (percentage)\n",
    "* `wind`: wind's direction code\n",
    "* `wind_speed`: the rate at which the wind passes a given point (mph : miles per hour)\n",
    "* `wind_gust`: a brief increase in the speed of the wind (mph)\n",
    "* `pressure`: sea level pressure (inches Hg)\n",
    "* `precip.`: any liquid or frozen water that forms in the atmosphere and falls to the Earth (inches)\n",
    "* `condition`: description of the weather\n",
    "\n",
    "<h1>???</h1>\n",
    "\n",
    "`condition` is the attribute we want to predict\n"
   ]
  },
  {
   "cell_type": "markdown",
   "id": "84dbcd5d",
   "metadata": {},
   "source": [
    "### What are the data types of these columns?"
   ]
  },
  {
   "cell_type": "code",
   "execution_count": 5,
   "id": "9a97f361",
   "metadata": {},
   "outputs": [
    {
     "data": {
      "text/plain": [
       "date            object\n",
       "time            object\n",
       "temperature      int64\n",
       "dew_point        int64\n",
       "humidity         int64\n",
       "wind            object\n",
       "wind_speed       int64\n",
       "wind_gust        int64\n",
       "pressure       float64\n",
       "precip.        float64\n",
       "condition       object\n",
       "dtype: object"
      ]
     },
     "execution_count": 5,
     "metadata": {},
     "output_type": "execute_result"
    }
   ],
   "source": [
    "df.dtypes"
   ]
  },
  {
   "cell_type": "code",
   "execution_count": 12,
   "id": "fc25328c",
   "metadata": {},
   "outputs": [],
   "source": [
    "num_cols = list(df.select_dtypes(exclude='object').columns)\n",
    "cate_cols = list(df.select_dtypes(include='object').columns)"
   ]
  },
  {
   "cell_type": "markdown",
   "id": "1fea454b",
   "metadata": {},
   "source": [
    "### What we will predict"
   ]
  },
  {
   "cell_type": "code",
   "execution_count": 13,
   "id": "98d42754",
   "metadata": {},
   "outputs": [
    {
     "data": {
      "text/plain": [
       "Partly Cloudy                1709\n",
       "Mostly Cloudy                 900\n",
       "Fair                          190\n",
       "Light Rain                    153\n",
       "Light Rain Shower              71\n",
       "Light Rain with Thunder        42\n",
       "T-Storm                        20\n",
       "Thunder in the Vicinity        16\n",
       "Rain Shower                     8\n",
       "Heavy T-Storm                   8\n",
       "Thunder                         7\n",
       "Showers in the Vicinity         7\n",
       "Fog                             6\n",
       "Partly Cloudy / Windy           6\n",
       "Light Rain Shower / Windy       5\n",
       "Heavy T-Storm / Windy           4\n",
       "Heavy Rain Shower               4\n",
       "Heavy Rain Shower / Windy       2\n",
       "Mostly Cloudy / Windy           2\n",
       "Rain Shower / Windy             2\n",
       "Name: condition, dtype: int64"
      ]
     },
     "execution_count": 13,
     "metadata": {},
     "output_type": "execute_result"
    }
   ],
   "source": [
    "df.condition.value_counts()"
   ]
  },
  {
   "cell_type": "code",
   "execution_count": null,
   "id": "3a21a0d8",
   "metadata": {},
   "outputs": [],
   "source": []
  },
  {
   "cell_type": "code",
   "execution_count": null,
   "id": "3590f39c",
   "metadata": {},
   "outputs": [],
   "source": []
  },
  {
   "cell_type": "code",
   "execution_count": null,
   "id": "a6211217",
   "metadata": {},
   "outputs": [],
   "source": []
  },
  {
   "cell_type": "code",
   "execution_count": null,
   "id": "f6617444",
   "metadata": {},
   "outputs": [],
   "source": []
  },
  {
   "cell_type": "code",
   "execution_count": null,
   "id": "6ca0cdd9",
   "metadata": {},
   "outputs": [],
   "source": []
  },
  {
   "cell_type": "code",
   "execution_count": null,
   "id": "6caf5a79",
   "metadata": {},
   "outputs": [],
   "source": []
  },
  {
   "cell_type": "code",
   "execution_count": null,
   "id": "d791754b",
   "metadata": {},
   "outputs": [],
   "source": []
  },
  {
   "cell_type": "code",
   "execution_count": null,
   "id": "7d495a33",
   "metadata": {},
   "outputs": [],
   "source": []
  },
  {
   "cell_type": "code",
   "execution_count": null,
   "id": "b9bab05c",
   "metadata": {},
   "outputs": [],
   "source": []
  },
  {
   "cell_type": "code",
   "execution_count": null,
   "id": "c2d8c5a6",
   "metadata": {},
   "outputs": [],
   "source": []
  },
  {
   "cell_type": "code",
   "execution_count": null,
   "id": "fc17027f",
   "metadata": {},
   "outputs": [],
   "source": []
  },
  {
   "cell_type": "code",
   "execution_count": null,
   "id": "91c5b39c",
   "metadata": {},
   "outputs": [],
   "source": []
  }
 ],
 "metadata": {
  "kernelspec": {
   "display_name": "Python 3 (ipykernel)",
   "language": "python",
   "name": "python3"
  },
  "language_info": {
   "codemirror_mode": {
    "name": "ipython",
    "version": 3
   },
   "file_extension": ".py",
   "mimetype": "text/x-python",
   "name": "python",
   "nbconvert_exporter": "python",
   "pygments_lexer": "ipython3",
   "version": "3.8.8"
  },
  "toc": {
   "base_numbering": 1,
   "nav_menu": {},
   "number_sections": false,
   "sideBar": true,
   "skip_h1_title": false,
   "title_cell": "Table of Contents",
   "title_sidebar": "Contents",
   "toc_cell": false,
   "toc_position": {},
   "toc_section_display": true,
   "toc_window_display": false
  }
 },
 "nbformat": 4,
 "nbformat_minor": 5
}
