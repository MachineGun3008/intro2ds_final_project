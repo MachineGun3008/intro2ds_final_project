{
 "cells": [
  {
   "cell_type": "markdown",
   "id": "f268c020",
   "metadata": {},
   "source": [
    "## Import packages"
   ]
  },
  {
   "cell_type": "code",
   "execution_count": 1,
   "id": "9293283f",
   "metadata": {},
   "outputs": [],
   "source": [
    "%matplotlib inline\n",
    "import matplotlib.pyplot as plt\n",
    "import numpy as np\n",
    "import pandas as pd\n",
    "import seaborn as sns\n",
    "\n",
    "import re\n",
    "\n",
    "from sklearn.model_selection import train_test_split\n",
    "from sklearn.preprocessing import OneHotEncoder, StandardScaler\n",
    "from sklearn.impute import SimpleImputer\n",
    "from sklearn.base import BaseEstimator, TransformerMixin\n",
    "from sklearn.pipeline import Pipeline, make_pipeline\n",
    "from sklearn.compose import ColumnTransformer, make_column_transformer\n",
    "from sklearn.neural_network import MLPClassifier\n",
    "from sklearn import set_config\n",
    "from sklearn.utils import shuffle"
   ]
  },
  {
   "cell_type": "markdown",
   "id": "fb9bb5cd",
   "metadata": {},
   "source": [
    "# Explore data"
   ]
  },
  {
   "cell_type": "markdown",
   "id": "e036fd62",
   "metadata": {},
   "source": [
    "* Read file `weather_hist.xlsx`"
   ]
  },
  {
   "cell_type": "code",
   "execution_count": 2,
   "id": "3ef1c564",
   "metadata": {},
   "outputs": [
    {
     "data": {
      "text/html": [
       "<div>\n",
       "<style scoped>\n",
       "    .dataframe tbody tr th:only-of-type {\n",
       "        vertical-align: middle;\n",
       "    }\n",
       "\n",
       "    .dataframe tbody tr th {\n",
       "        vertical-align: top;\n",
       "    }\n",
       "\n",
       "    .dataframe thead th {\n",
       "        text-align: right;\n",
       "    }\n",
       "</style>\n",
       "<table border=\"1\" class=\"dataframe\">\n",
       "  <thead>\n",
       "    <tr style=\"text-align: right;\">\n",
       "      <th></th>\n",
       "      <th>date</th>\n",
       "      <th>time</th>\n",
       "      <th>temperature</th>\n",
       "      <th>dew_point</th>\n",
       "      <th>humidity</th>\n",
       "      <th>wind</th>\n",
       "      <th>wind_speed</th>\n",
       "      <th>wind_gust</th>\n",
       "      <th>pressure</th>\n",
       "      <th>precip.</th>\n",
       "      <th>condition</th>\n",
       "    </tr>\n",
       "  </thead>\n",
       "  <tbody>\n",
       "    <tr>\n",
       "      <th>0</th>\n",
       "      <td>2021-07-01</td>\n",
       "      <td>12:00 AM</td>\n",
       "      <td>81</td>\n",
       "      <td>79</td>\n",
       "      <td>94</td>\n",
       "      <td>WSW</td>\n",
       "      <td>6</td>\n",
       "      <td>0</td>\n",
       "      <td>29.76</td>\n",
       "      <td>0.0</td>\n",
       "      <td>Partly Cloudy</td>\n",
       "    </tr>\n",
       "    <tr>\n",
       "      <th>1</th>\n",
       "      <td>2021-07-01</td>\n",
       "      <td>12:30 AM</td>\n",
       "      <td>81</td>\n",
       "      <td>79</td>\n",
       "      <td>94</td>\n",
       "      <td>WSW</td>\n",
       "      <td>7</td>\n",
       "      <td>0</td>\n",
       "      <td>29.76</td>\n",
       "      <td>0.0</td>\n",
       "      <td>Partly Cloudy</td>\n",
       "    </tr>\n",
       "    <tr>\n",
       "      <th>2</th>\n",
       "      <td>2021-07-01</td>\n",
       "      <td>1:00 AM</td>\n",
       "      <td>82</td>\n",
       "      <td>79</td>\n",
       "      <td>89</td>\n",
       "      <td>SW</td>\n",
       "      <td>6</td>\n",
       "      <td>0</td>\n",
       "      <td>29.76</td>\n",
       "      <td>0.0</td>\n",
       "      <td>Fair</td>\n",
       "    </tr>\n",
       "    <tr>\n",
       "      <th>3</th>\n",
       "      <td>2021-07-01</td>\n",
       "      <td>1:30 AM</td>\n",
       "      <td>81</td>\n",
       "      <td>79</td>\n",
       "      <td>94</td>\n",
       "      <td>SW</td>\n",
       "      <td>6</td>\n",
       "      <td>0</td>\n",
       "      <td>29.76</td>\n",
       "      <td>0.0</td>\n",
       "      <td>Fair</td>\n",
       "    </tr>\n",
       "    <tr>\n",
       "      <th>4</th>\n",
       "      <td>2021-07-01</td>\n",
       "      <td>2:00 AM</td>\n",
       "      <td>81</td>\n",
       "      <td>79</td>\n",
       "      <td>94</td>\n",
       "      <td>SSW</td>\n",
       "      <td>7</td>\n",
       "      <td>0</td>\n",
       "      <td>29.73</td>\n",
       "      <td>0.0</td>\n",
       "      <td>Fair</td>\n",
       "    </tr>\n",
       "  </tbody>\n",
       "</table>\n",
       "</div>"
      ],
      "text/plain": [
       "         date      time  temperature  dew_point  humidity wind  wind_speed  \\\n",
       "0  2021-07-01  12:00 AM           81         79        94  WSW           6   \n",
       "1  2021-07-01  12:30 AM           81         79        94  WSW           7   \n",
       "2  2021-07-01   1:00 AM           82         79        89   SW           6   \n",
       "3  2021-07-01   1:30 AM           81         79        94   SW           6   \n",
       "4  2021-07-01   2:00 AM           81         79        94  SSW           7   \n",
       "\n",
       "   wind_gust  pressure  precip.      condition  \n",
       "0          0     29.76      0.0  Partly Cloudy  \n",
       "1          0     29.76      0.0  Partly Cloudy  \n",
       "2          0     29.76      0.0           Fair  \n",
       "3          0     29.76      0.0           Fair  \n",
       "4          0     29.73      0.0           Fair  "
      ]
     },
     "execution_count": 2,
     "metadata": {},
     "output_type": "execute_result"
    }
   ],
   "source": [
    "df = pd.read_excel('./data/weather_hist.xlsx')\n",
    "df.head(5)"
   ]
  },
  {
   "cell_type": "markdown",
   "id": "8fb5443d",
   "metadata": {},
   "source": [
    "* Data shape (rows, columns)"
   ]
  },
  {
   "cell_type": "code",
   "execution_count": 3,
   "id": "b71663cd",
   "metadata": {},
   "outputs": [
    {
     "data": {
      "text/plain": [
       "(3162, 11)"
      ]
     },
     "execution_count": 3,
     "metadata": {},
     "output_type": "execute_result"
    }
   ],
   "source": [
    "df.shape"
   ]
  },
  {
   "cell_type": "markdown",
   "id": "6ea56e20",
   "metadata": {},
   "source": [
    "### Are there any duplicate "
   ]
  },
  {
   "cell_type": "code",
   "execution_count": 4,
   "id": "3a1a2e41",
   "metadata": {},
   "outputs": [
    {
     "data": {
      "text/plain": [
       "0"
      ]
     },
     "execution_count": 4,
     "metadata": {},
     "output_type": "execute_result"
    }
   ],
   "source": [
    "num_duplicate_rows = df.index.duplicated(keep='first').sum()\n",
    "num_duplicate_rows"
   ]
  },
  {
   "cell_type": "markdown",
   "id": "792004d0",
   "metadata": {},
   "source": [
    "### Are there any missing values"
   ]
  },
  {
   "cell_type": "code",
   "execution_count": 5,
   "id": "9ab2bc09",
   "metadata": {},
   "outputs": [
    {
     "data": {
      "text/plain": [
       "date           0\n",
       "time           0\n",
       "temperature    0\n",
       "dew_point      0\n",
       "humidity       0\n",
       "wind           0\n",
       "wind_speed     0\n",
       "wind_gust      0\n",
       "pressure       0\n",
       "precip.        0\n",
       "condition      0\n",
       "dtype: int64"
      ]
     },
     "execution_count": 5,
     "metadata": {},
     "output_type": "execute_result"
    }
   ],
   "source": [
    "missing_values = df.isna().sum()\n",
    "missing_values"
   ]
  },
  {
   "cell_type": "markdown",
   "id": "334e5717",
   "metadata": {},
   "source": [
    "### What is the meaning of each row?\n",
    "\n",
    "Each row is the weather condition at a determined time of the date, which is collected every 30 minutes."
   ]
  },
  {
   "cell_type": "markdown",
   "id": "ae5a4f4a",
   "metadata": {},
   "source": [
    "### What is the meaning of each column?\n",
    "\n",
    "There are 11 columns:\n",
    "\n",
    "* `date`: date that data is collected (YYYY-MM-DD)\n",
    "* `time`: 12:00 AM -> 11:30 PM\n",
    "* `temperature`: Fahrenheit\n",
    "* `dew_point`: the atmospheric temperature (varying according to pressure and humidity) below which water droplets begin to condense and dew can form. (Fahrenheit)\n",
    "* `humidity`: atmospheric moisture (percentage)\n",
    "* `wind`: wind's direction code\n",
    "* `wind_speed`: the rate at which the wind passes a given point (mph : miles per hour)\n",
    "* `wind_gust`: a brief increase in the speed of the wind (mph)\n",
    "* `pressure`: sea level pressure (inches Hg)\n",
    "* `precip.`: any liquid or frozen water that forms in the atmosphere and falls to the Earth (inches)\n",
    "* `condition`: description of the weather"
   ]
  },
  {
   "cell_type": "markdown",
   "id": "84dbcd5d",
   "metadata": {},
   "source": [
    "### What are the data types of these columns?"
   ]
  },
  {
   "cell_type": "code",
   "execution_count": 6,
   "id": "9a97f361",
   "metadata": {},
   "outputs": [
    {
     "data": {
      "text/plain": [
       "date            object\n",
       "time            object\n",
       "temperature      int64\n",
       "dew_point        int64\n",
       "humidity         int64\n",
       "wind            object\n",
       "wind_speed       int64\n",
       "wind_gust        int64\n",
       "pressure       float64\n",
       "precip.        float64\n",
       "condition       object\n",
       "dtype: object"
      ]
     },
     "execution_count": 6,
     "metadata": {},
     "output_type": "execute_result"
    }
   ],
   "source": [
    "df.dtypes"
   ]
  },
  {
   "cell_type": "code",
   "execution_count": 7,
   "id": "fc25328c",
   "metadata": {},
   "outputs": [],
   "source": [
    "num_cols = list(df.select_dtypes(exclude='object').columns)\n",
    "cate_cols = list(df.select_dtypes(include='object').columns)"
   ]
  },
  {
   "cell_type": "markdown",
   "id": "f6dfd813",
   "metadata": {},
   "source": [
    "# A question\n",
    "\n",
    "Predict whether it will rain or not in the following 30 minutes based on data about weather conditions of that time.\n",
    "\n",
    "This prediction is helpful because it helps us be proactive in preparation to avoid being wet when going out, brings an umbrella or wearing a raincoat."
   ]
  },
  {
   "cell_type": "markdown",
   "id": "d813dbd3",
   "metadata": {},
   "source": [
    "# Preprocess Data\n",
    "\n",
    "Since the current records are weather conditions and corresponding weather labels, in order to serve the future weather prediction problem based on current information, we decided to shift the value of the \" condition\" column up based on the \"time\" and \"date\" columns. Each new row of data will be the current weather condition and the \"condition\" column value will be the data of the next 30 minutes.\n",
    "\n",
    "* We will check each row of the \"time\" and \"date\" columns to be continuous, eliminating the non-continuous rows since they don't have the corresponding \"condition\" column data. Then shift the values."
   ]
  },
  {
   "cell_type": "code",
   "execution_count": 8,
   "id": "35e0439f",
   "metadata": {},
   "outputs": [
    {
     "data": {
      "text/html": [
       "<div>\n",
       "<style scoped>\n",
       "    .dataframe tbody tr th:only-of-type {\n",
       "        vertical-align: middle;\n",
       "    }\n",
       "\n",
       "    .dataframe tbody tr th {\n",
       "        vertical-align: top;\n",
       "    }\n",
       "\n",
       "    .dataframe thead th {\n",
       "        text-align: right;\n",
       "    }\n",
       "</style>\n",
       "<table border=\"1\" class=\"dataframe\">\n",
       "  <thead>\n",
       "    <tr style=\"text-align: right;\">\n",
       "      <th></th>\n",
       "      <th>date</th>\n",
       "      <th>time</th>\n",
       "      <th>temperature</th>\n",
       "      <th>dew_point</th>\n",
       "      <th>humidity</th>\n",
       "      <th>wind</th>\n",
       "      <th>wind_speed</th>\n",
       "      <th>wind_gust</th>\n",
       "      <th>pressure</th>\n",
       "      <th>precip.</th>\n",
       "      <th>condition</th>\n",
       "    </tr>\n",
       "  </thead>\n",
       "  <tbody>\n",
       "    <tr>\n",
       "      <th>0</th>\n",
       "      <td>2021-07-01</td>\n",
       "      <td>12:00 AM</td>\n",
       "      <td>81</td>\n",
       "      <td>79</td>\n",
       "      <td>94</td>\n",
       "      <td>WSW</td>\n",
       "      <td>6</td>\n",
       "      <td>0</td>\n",
       "      <td>29.76</td>\n",
       "      <td>0.0</td>\n",
       "      <td>Partly Cloudy</td>\n",
       "    </tr>\n",
       "    <tr>\n",
       "      <th>1</th>\n",
       "      <td>2021-07-01</td>\n",
       "      <td>12:30 AM</td>\n",
       "      <td>81</td>\n",
       "      <td>79</td>\n",
       "      <td>94</td>\n",
       "      <td>WSW</td>\n",
       "      <td>7</td>\n",
       "      <td>0</td>\n",
       "      <td>29.76</td>\n",
       "      <td>0.0</td>\n",
       "      <td>Partly Cloudy</td>\n",
       "    </tr>\n",
       "    <tr>\n",
       "      <th>2</th>\n",
       "      <td>2021-07-01</td>\n",
       "      <td>1:00 AM</td>\n",
       "      <td>82</td>\n",
       "      <td>79</td>\n",
       "      <td>89</td>\n",
       "      <td>SW</td>\n",
       "      <td>6</td>\n",
       "      <td>0</td>\n",
       "      <td>29.76</td>\n",
       "      <td>0.0</td>\n",
       "      <td>Fair</td>\n",
       "    </tr>\n",
       "    <tr>\n",
       "      <th>3</th>\n",
       "      <td>2021-07-01</td>\n",
       "      <td>1:30 AM</td>\n",
       "      <td>81</td>\n",
       "      <td>79</td>\n",
       "      <td>94</td>\n",
       "      <td>SW</td>\n",
       "      <td>6</td>\n",
       "      <td>0</td>\n",
       "      <td>29.76</td>\n",
       "      <td>0.0</td>\n",
       "      <td>Fair</td>\n",
       "    </tr>\n",
       "    <tr>\n",
       "      <th>4</th>\n",
       "      <td>2021-07-01</td>\n",
       "      <td>2:00 AM</td>\n",
       "      <td>81</td>\n",
       "      <td>79</td>\n",
       "      <td>94</td>\n",
       "      <td>SSW</td>\n",
       "      <td>7</td>\n",
       "      <td>0</td>\n",
       "      <td>29.73</td>\n",
       "      <td>0.0</td>\n",
       "      <td>Fair</td>\n",
       "    </tr>\n",
       "  </tbody>\n",
       "</table>\n",
       "</div>"
      ],
      "text/plain": [
       "         date      time  temperature  dew_point  humidity wind  wind_speed  \\\n",
       "0  2021-07-01  12:00 AM           81         79        94  WSW           6   \n",
       "1  2021-07-01  12:30 AM           81         79        94  WSW           7   \n",
       "2  2021-07-01   1:00 AM           82         79        89   SW           6   \n",
       "3  2021-07-01   1:30 AM           81         79        94   SW           6   \n",
       "4  2021-07-01   2:00 AM           81         79        94  SSW           7   \n",
       "\n",
       "   wind_gust  pressure  precip.      condition  \n",
       "0          0     29.76      0.0  Partly Cloudy  \n",
       "1          0     29.76      0.0  Partly Cloudy  \n",
       "2          0     29.76      0.0           Fair  \n",
       "3          0     29.76      0.0           Fair  \n",
       "4          0     29.73      0.0           Fair  "
      ]
     },
     "execution_count": 8,
     "metadata": {},
     "output_type": "execute_result"
    }
   ],
   "source": [
    "df.head(5)"
   ]
  },
  {
   "cell_type": "code",
   "execution_count": 9,
   "id": "828297b6",
   "metadata": {},
   "outputs": [
    {
     "data": {
      "text/plain": [
       "True"
      ]
     },
     "execution_count": 9,
     "metadata": {},
     "output_type": "execute_result"
    }
   ],
   "source": [
    "def CheckDate(date_df):\n",
    "    max_day = [0, 31, 28, 31, 30, 31, 30, 31, 31, 30, 31, 30, 31]\n",
    "    days=[0, 31, 28, 31, 30, 31, 30, 31, 31, 30, 31, 30, 31]\n",
    "    for i in range(1, len(days)):\n",
    "        days[i] += days[i - 1]\n",
    "    previous, pyear, pday, pmonth = None, None, None, None\n",
    "    for index, value in date_df.items():\n",
    "        ymd = value.split('-')\n",
    "        year, month, day = int(ymd[0]), int(ymd[1]), int(ymd[2])\n",
    "        now = (year-1) * 365 + days[month - 1] + day\n",
    "        if index != 0:\n",
    "            if now != previous:\n",
    "                if month == 2 and days == 29:\n",
    "                    if year % 4 != 0 or pyear != year or pmonth != month or pday != 28:\n",
    "                        return False\n",
    "                if month > 12 or day > max_day[month]:\n",
    "                    return False\n",
    "                if now - previous != 1:\n",
    "                    return False\n",
    "        previous, pyear, pmonth, pday = now, year, month, day\n",
    "    return True\n",
    "\n",
    "CheckDate(df['date'])"
   ]
  },
  {
   "cell_type": "code",
   "execution_count": 10,
   "id": "2a2b77e3",
   "metadata": {},
   "outputs": [
    {
     "name": "stdout",
     "output_type": "stream",
     "text": [
      "1247\n"
     ]
    },
    {
     "data": {
      "text/plain": [
       "False"
      ]
     },
     "execution_count": 10,
     "metadata": {},
     "output_type": "execute_result"
    }
   ],
   "source": [
    "def CheckTime(time_df):\n",
    "    previous, pdn = None, None\n",
    "    for index, value in time_df.items():\n",
    "        dn = value[-2:]\n",
    "        hm = value[:-3].split(':')\n",
    "        hour, minute = int(hm[0]) % 12, int(hm[1]) % 60\n",
    "        now = hour * 60 + minute\n",
    "        if index != 0:\n",
    "            if dn == pdn:\n",
    "                if now - previous != 30:\n",
    "                    print(index)\n",
    "                    return False\n",
    "            else:\n",
    "                if (hour + 12) * 60 + minute - previous != 30:\n",
    "                    print(index)\n",
    "                    return False\n",
    "        previous, pdn = now, dn\n",
    "    return True\n",
    "\n",
    "CheckTime(df.time)"
   ]
  },
  {
   "cell_type": "code",
   "execution_count": 11,
   "id": "e37bea2e",
   "metadata": {},
   "outputs": [
    {
     "name": "stdout",
     "output_type": "stream",
     "text": [
      "(3161,)\n"
     ]
    }
   ],
   "source": [
    "condition_temp = df.condition.drop(index=[0], inplace = False)\n",
    "condition_temp.reset_index(drop = True, inplace = True)\n",
    "print(condition_temp.shape)\n",
    "df.drop(index = df.shape[0] - 1, inplace = True)\n",
    "df['condition'] = condition_temp"
   ]
  },
  {
   "cell_type": "code",
   "execution_count": 12,
   "id": "031a089e",
   "metadata": {},
   "outputs": [
    {
     "data": {
      "text/plain": [
       "0     Partly Cloudy\n",
       "1              Fair\n",
       "2              Fair\n",
       "3              Fair\n",
       "4              Fair\n",
       "5              Fair\n",
       "6              Fair\n",
       "7              Fair\n",
       "8              Fair\n",
       "9              Fair\n",
       "10             Fair\n",
       "11             Fair\n",
       "12             Fair\n",
       "13             Fair\n",
       "14             Fair\n",
       "15             Fair\n",
       "16    Partly Cloudy\n",
       "17    Partly Cloudy\n",
       "Name: condition, dtype: object"
      ]
     },
     "execution_count": 12,
     "metadata": {},
     "output_type": "execute_result"
    }
   ],
   "source": [
    "df['condition'].head(18)"
   ]
  },
  {
   "cell_type": "code",
   "execution_count": 13,
   "id": "dca55871",
   "metadata": {},
   "outputs": [],
   "source": [
    "def CheckDateTime(time_df):\n",
    "    ans = np.ones(time_df.shape[0])\n",
    "    previous, pdn = None, None\n",
    "    for index, value in time_df.items():\n",
    "        dn = value[-2:]\n",
    "        hm = value[:-3].split(':')\n",
    "        hour, minute = int(hm[0]) % 12, int(hm[1]) % 60\n",
    "        now = hour * 60 + minute\n",
    "        if index != 0:\n",
    "            if dn == pdn:\n",
    "                if now - previous != 30:\n",
    "                    ans[index] = 0\n",
    "            else:\n",
    "                if (hour + 12) * 60 + minute - previous != 30:\n",
    "                    ans[index] = 0\n",
    "        previous, pdn = now, dn\n",
    "    return ans\n",
    "\n",
    "ans = CheckDateTime(df['time'])\n",
    "df.drop(np.where(ans==0)[0], axis=0, inplace=True)\n",
    "df.reset_index(inplace=True)\n",
    "df.drop(columns='index',inplace=True)"
   ]
  },
  {
   "cell_type": "code",
   "execution_count": 14,
   "id": "0f445e41",
   "metadata": {},
   "outputs": [
    {
     "data": {
      "text/html": [
       "<div>\n",
       "<style scoped>\n",
       "    .dataframe tbody tr th:only-of-type {\n",
       "        vertical-align: middle;\n",
       "    }\n",
       "\n",
       "    .dataframe tbody tr th {\n",
       "        vertical-align: top;\n",
       "    }\n",
       "\n",
       "    .dataframe thead th {\n",
       "        text-align: right;\n",
       "    }\n",
       "</style>\n",
       "<table border=\"1\" class=\"dataframe\">\n",
       "  <thead>\n",
       "    <tr style=\"text-align: right;\">\n",
       "      <th></th>\n",
       "      <th>date</th>\n",
       "      <th>time</th>\n",
       "      <th>temperature</th>\n",
       "      <th>dew_point</th>\n",
       "      <th>humidity</th>\n",
       "      <th>wind</th>\n",
       "      <th>wind_speed</th>\n",
       "      <th>wind_gust</th>\n",
       "      <th>pressure</th>\n",
       "      <th>precip.</th>\n",
       "      <th>condition</th>\n",
       "    </tr>\n",
       "  </thead>\n",
       "  <tbody>\n",
       "    <tr>\n",
       "      <th>0</th>\n",
       "      <td>2021-07-01</td>\n",
       "      <td>12:00 AM</td>\n",
       "      <td>81</td>\n",
       "      <td>79</td>\n",
       "      <td>94</td>\n",
       "      <td>WSW</td>\n",
       "      <td>6</td>\n",
       "      <td>0</td>\n",
       "      <td>29.76</td>\n",
       "      <td>0.0</td>\n",
       "      <td>Partly Cloudy</td>\n",
       "    </tr>\n",
       "    <tr>\n",
       "      <th>1</th>\n",
       "      <td>2021-07-01</td>\n",
       "      <td>12:30 AM</td>\n",
       "      <td>81</td>\n",
       "      <td>79</td>\n",
       "      <td>94</td>\n",
       "      <td>WSW</td>\n",
       "      <td>7</td>\n",
       "      <td>0</td>\n",
       "      <td>29.76</td>\n",
       "      <td>0.0</td>\n",
       "      <td>Fair</td>\n",
       "    </tr>\n",
       "    <tr>\n",
       "      <th>2</th>\n",
       "      <td>2021-07-01</td>\n",
       "      <td>1:00 AM</td>\n",
       "      <td>82</td>\n",
       "      <td>79</td>\n",
       "      <td>89</td>\n",
       "      <td>SW</td>\n",
       "      <td>6</td>\n",
       "      <td>0</td>\n",
       "      <td>29.76</td>\n",
       "      <td>0.0</td>\n",
       "      <td>Fair</td>\n",
       "    </tr>\n",
       "    <tr>\n",
       "      <th>3</th>\n",
       "      <td>2021-07-01</td>\n",
       "      <td>1:30 AM</td>\n",
       "      <td>81</td>\n",
       "      <td>79</td>\n",
       "      <td>94</td>\n",
       "      <td>SW</td>\n",
       "      <td>6</td>\n",
       "      <td>0</td>\n",
       "      <td>29.76</td>\n",
       "      <td>0.0</td>\n",
       "      <td>Fair</td>\n",
       "    </tr>\n",
       "    <tr>\n",
       "      <th>4</th>\n",
       "      <td>2021-07-01</td>\n",
       "      <td>2:00 AM</td>\n",
       "      <td>81</td>\n",
       "      <td>79</td>\n",
       "      <td>94</td>\n",
       "      <td>SSW</td>\n",
       "      <td>7</td>\n",
       "      <td>0</td>\n",
       "      <td>29.73</td>\n",
       "      <td>0.0</td>\n",
       "      <td>Fair</td>\n",
       "    </tr>\n",
       "  </tbody>\n",
       "</table>\n",
       "</div>"
      ],
      "text/plain": [
       "         date      time  temperature  dew_point  humidity wind  wind_speed  \\\n",
       "0  2021-07-01  12:00 AM           81         79        94  WSW           6   \n",
       "1  2021-07-01  12:30 AM           81         79        94  WSW           7   \n",
       "2  2021-07-01   1:00 AM           82         79        89   SW           6   \n",
       "3  2021-07-01   1:30 AM           81         79        94   SW           6   \n",
       "4  2021-07-01   2:00 AM           81         79        94  SSW           7   \n",
       "\n",
       "   wind_gust  pressure  precip.      condition  \n",
       "0          0     29.76      0.0  Partly Cloudy  \n",
       "1          0     29.76      0.0           Fair  \n",
       "2          0     29.76      0.0           Fair  \n",
       "3          0     29.76      0.0           Fair  \n",
       "4          0     29.73      0.0           Fair  "
      ]
     },
     "execution_count": 14,
     "metadata": {},
     "output_type": "execute_result"
    }
   ],
   "source": [
    "df.head(5)"
   ]
  },
  {
   "cell_type": "markdown",
   "id": "05c016b3",
   "metadata": {},
   "source": [
    "# Split data into training, validation and testing sets"
   ]
  },
  {
   "cell_type": "markdown",
   "id": "3f67ea65",
   "metadata": {},
   "source": [
    "* We shuffle data"
   ]
  },
  {
   "cell_type": "code",
   "execution_count": 15,
   "id": "07ea79d0",
   "metadata": {},
   "outputs": [
    {
     "data": {
      "text/html": [
       "<div>\n",
       "<style scoped>\n",
       "    .dataframe tbody tr th:only-of-type {\n",
       "        vertical-align: middle;\n",
       "    }\n",
       "\n",
       "    .dataframe tbody tr th {\n",
       "        vertical-align: top;\n",
       "    }\n",
       "\n",
       "    .dataframe thead th {\n",
       "        text-align: right;\n",
       "    }\n",
       "</style>\n",
       "<table border=\"1\" class=\"dataframe\">\n",
       "  <thead>\n",
       "    <tr style=\"text-align: right;\">\n",
       "      <th></th>\n",
       "      <th>date</th>\n",
       "      <th>time</th>\n",
       "      <th>temperature</th>\n",
       "      <th>dew_point</th>\n",
       "      <th>humidity</th>\n",
       "      <th>wind</th>\n",
       "      <th>wind_speed</th>\n",
       "      <th>wind_gust</th>\n",
       "      <th>pressure</th>\n",
       "      <th>precip.</th>\n",
       "      <th>condition</th>\n",
       "    </tr>\n",
       "  </thead>\n",
       "  <tbody>\n",
       "    <tr>\n",
       "      <th>573</th>\n",
       "      <td>2021-07-12</td>\n",
       "      <td>10:30 PM</td>\n",
       "      <td>81</td>\n",
       "      <td>77</td>\n",
       "      <td>89</td>\n",
       "      <td>VAR</td>\n",
       "      <td>3</td>\n",
       "      <td>0</td>\n",
       "      <td>29.79</td>\n",
       "      <td>0.0</td>\n",
       "      <td>Partly Cloudy</td>\n",
       "    </tr>\n",
       "    <tr>\n",
       "      <th>1875</th>\n",
       "      <td>2021-08-09</td>\n",
       "      <td>4:30 AM</td>\n",
       "      <td>82</td>\n",
       "      <td>79</td>\n",
       "      <td>89</td>\n",
       "      <td>SW</td>\n",
       "      <td>7</td>\n",
       "      <td>0</td>\n",
       "      <td>29.73</td>\n",
       "      <td>0.0</td>\n",
       "      <td>Partly Cloudy</td>\n",
       "    </tr>\n",
       "    <tr>\n",
       "      <th>2966</th>\n",
       "      <td>2021-08-31</td>\n",
       "      <td>11:00 PM</td>\n",
       "      <td>79</td>\n",
       "      <td>77</td>\n",
       "      <td>94</td>\n",
       "      <td>CALM</td>\n",
       "      <td>0</td>\n",
       "      <td>0</td>\n",
       "      <td>29.79</td>\n",
       "      <td>0.0</td>\n",
       "      <td>Partly Cloudy</td>\n",
       "    </tr>\n",
       "    <tr>\n",
       "      <th>2791</th>\n",
       "      <td>2021-08-28</td>\n",
       "      <td>7:30 AM</td>\n",
       "      <td>79</td>\n",
       "      <td>77</td>\n",
       "      <td>94</td>\n",
       "      <td>CALM</td>\n",
       "      <td>0</td>\n",
       "      <td>0</td>\n",
       "      <td>29.73</td>\n",
       "      <td>0.0</td>\n",
       "      <td>Partly Cloudy</td>\n",
       "    </tr>\n",
       "    <tr>\n",
       "      <th>2056</th>\n",
       "      <td>2021-08-12</td>\n",
       "      <td>11:00 PM</td>\n",
       "      <td>82</td>\n",
       "      <td>77</td>\n",
       "      <td>84</td>\n",
       "      <td>SSW</td>\n",
       "      <td>5</td>\n",
       "      <td>0</td>\n",
       "      <td>29.82</td>\n",
       "      <td>0.0</td>\n",
       "      <td>Partly Cloudy</td>\n",
       "    </tr>\n",
       "  </tbody>\n",
       "</table>\n",
       "</div>"
      ],
      "text/plain": [
       "            date      time  temperature  dew_point  humidity  wind  \\\n",
       "573   2021-07-12  10:30 PM           81         77        89   VAR   \n",
       "1875  2021-08-09   4:30 AM           82         79        89    SW   \n",
       "2966  2021-08-31  11:00 PM           79         77        94  CALM   \n",
       "2791  2021-08-28   7:30 AM           79         77        94  CALM   \n",
       "2056  2021-08-12  11:00 PM           82         77        84   SSW   \n",
       "\n",
       "      wind_speed  wind_gust  pressure  precip.      condition  \n",
       "573            3          0     29.79      0.0  Partly Cloudy  \n",
       "1875           7          0     29.73      0.0  Partly Cloudy  \n",
       "2966           0          0     29.79      0.0  Partly Cloudy  \n",
       "2791           0          0     29.73      0.0  Partly Cloudy  \n",
       "2056           5          0     29.82      0.0  Partly Cloudy  "
      ]
     },
     "execution_count": 15,
     "metadata": {},
     "output_type": "execute_result"
    }
   ],
   "source": [
    "df_shuffle = shuffle(df, random_state=4)\n",
    "df_shuffle.head(5)"
   ]
  },
  {
   "cell_type": "markdown",
   "id": "069be447",
   "metadata": {},
   "source": [
    "* Separate `condition` column from data"
   ]
  },
  {
   "cell_type": "code",
   "execution_count": 16,
   "id": "e26ae595",
   "metadata": {},
   "outputs": [],
   "source": [
    "y_sr = df_shuffle['condition']\n",
    "X_df = df_shuffle.drop(columns='condition')"
   ]
  },
  {
   "cell_type": "markdown",
   "id": "b1524b81",
   "metadata": {},
   "source": [
    "* We split data into training and testing set with $80\\%$, $20\\%$ respectively"
   ]
  },
  {
   "cell_type": "code",
   "execution_count": 17,
   "id": "bb3fbe13",
   "metadata": {},
   "outputs": [],
   "source": [
    "X_df, test_X_df, y_sr, test_y_sr = train_test_split(X_df, y_sr, test_size=0.2, random_state=0)"
   ]
  },
  {
   "cell_type": "code",
   "execution_count": 18,
   "id": "ce317189",
   "metadata": {},
   "outputs": [
    {
     "data": {
      "text/plain": [
       "(2524, 10)"
      ]
     },
     "execution_count": 18,
     "metadata": {},
     "output_type": "execute_result"
    }
   ],
   "source": [
    "X_df.shape"
   ]
  },
  {
   "cell_type": "code",
   "execution_count": 19,
   "id": "c4f60200",
   "metadata": {},
   "outputs": [
    {
     "data": {
      "text/plain": [
       "(2524,)"
      ]
     },
     "execution_count": 19,
     "metadata": {},
     "output_type": "execute_result"
    }
   ],
   "source": [
    "y_sr.shape"
   ]
  },
  {
   "cell_type": "code",
   "execution_count": 20,
   "id": "e586fa1e",
   "metadata": {},
   "outputs": [
    {
     "data": {
      "text/plain": [
       "(631, 10)"
      ]
     },
     "execution_count": 20,
     "metadata": {},
     "output_type": "execute_result"
    }
   ],
   "source": [
    "test_X_df.shape"
   ]
  },
  {
   "cell_type": "code",
   "execution_count": 21,
   "id": "8d044ebf",
   "metadata": {},
   "outputs": [
    {
     "data": {
      "text/plain": [
       "(631,)"
      ]
     },
     "execution_count": 21,
     "metadata": {},
     "output_type": "execute_result"
    }
   ],
   "source": [
    "test_y_sr.shape"
   ]
  },
  {
   "cell_type": "markdown",
   "id": "22f6a979",
   "metadata": {},
   "source": [
    "* Next, we split training data into training and validation set"
   ]
  },
  {
   "cell_type": "code",
   "execution_count": 22,
   "id": "1b6cee7c",
   "metadata": {},
   "outputs": [],
   "source": [
    "train_X_df, val_X_df, train_y_sr, val_y_sr = train_test_split(X_df, y_sr, test_size=0.25, random_state=0)"
   ]
  },
  {
   "cell_type": "code",
   "execution_count": 23,
   "id": "916ae113",
   "metadata": {},
   "outputs": [
    {
     "data": {
      "text/plain": [
       "(1893, 10)"
      ]
     },
     "execution_count": 23,
     "metadata": {},
     "output_type": "execute_result"
    }
   ],
   "source": [
    "train_X_df.shape"
   ]
  },
  {
   "cell_type": "code",
   "execution_count": 24,
   "id": "b73c0983",
   "metadata": {},
   "outputs": [
    {
     "data": {
      "text/plain": [
       "(1893,)"
      ]
     },
     "execution_count": 24,
     "metadata": {},
     "output_type": "execute_result"
    }
   ],
   "source": [
    "train_y_sr.shape"
   ]
  },
  {
   "cell_type": "code",
   "execution_count": 25,
   "id": "f261e4b4",
   "metadata": {},
   "outputs": [
    {
     "data": {
      "text/plain": [
       "(631, 10)"
      ]
     },
     "execution_count": 25,
     "metadata": {},
     "output_type": "execute_result"
    }
   ],
   "source": [
    "val_X_df.shape"
   ]
  },
  {
   "cell_type": "code",
   "execution_count": 26,
   "id": "53b14627",
   "metadata": {},
   "outputs": [
    {
     "data": {
      "text/plain": [
       "(631,)"
      ]
     },
     "execution_count": 26,
     "metadata": {},
     "output_type": "execute_result"
    }
   ],
   "source": [
    "val_y_sr.shape"
   ]
  },
  {
   "cell_type": "markdown",
   "id": "1501a253",
   "metadata": {},
   "source": [
    "* Check the distribution of labels"
   ]
  },
  {
   "cell_type": "code",
   "execution_count": 27,
   "id": "b562d1a2",
   "metadata": {},
   "outputs": [
    {
     "data": {
      "text/plain": [
       "Partly Cloudy                1043\n",
       "Mostly Cloudy                 526\n",
       "Fair                          108\n",
       "Light Rain                     95\n",
       "Light Rain Shower              42\n",
       "Light Rain with Thunder        23\n",
       "T-Storm                        10\n",
       "Thunder in the Vicinity        10\n",
       "Showers in the Vicinity         4\n",
       "Fog                             4\n",
       "Thunder                         4\n",
       "Heavy T-Storm / Windy           4\n",
       "Heavy T-Storm                   4\n",
       "Light Rain Shower / Windy       3\n",
       "Rain Shower                     3\n",
       "Partly Cloudy / Windy           3\n",
       "Heavy Rain Shower               2\n",
       "Mostly Cloudy / Windy           2\n",
       "Heavy Rain Shower / Windy       2\n",
       "Rain Shower / Windy             1\n",
       "Name: condition, dtype: int64"
      ]
     },
     "execution_count": 27,
     "metadata": {},
     "output_type": "execute_result"
    }
   ],
   "source": [
    "train_y_sr.value_counts()"
   ]
  },
  {
   "cell_type": "code",
   "execution_count": 28,
   "id": "73b2f35e",
   "metadata": {},
   "outputs": [
    {
     "data": {
      "text/plain": [
       "Partly Cloudy                323\n",
       "Mostly Cloudy                195\n",
       "Fair                          36\n",
       "Light Rain                    31\n",
       "Light Rain Shower             14\n",
       "Light Rain with Thunder        7\n",
       "T-Storm                        5\n",
       "Thunder in the Vicinity        5\n",
       "Heavy T-Storm                  4\n",
       "Showers in the Vicinity        3\n",
       "Rain Shower                    2\n",
       "Partly Cloudy / Windy          2\n",
       "Light Rain Shower / Windy      1\n",
       "Thunder                        1\n",
       "Fog                            1\n",
       "Rain Shower / Windy            1\n",
       "Name: condition, dtype: int64"
      ]
     },
     "execution_count": 28,
     "metadata": {},
     "output_type": "execute_result"
    }
   ],
   "source": [
    "val_y_sr.value_counts()"
   ]
  },
  {
   "cell_type": "markdown",
   "id": "80044fd3",
   "metadata": {},
   "source": [
    "* Save training, validation, testing data"
   ]
  },
  {
   "cell_type": "code",
   "execution_count": 29,
   "id": "fc00429b",
   "metadata": {},
   "outputs": [],
   "source": [
    "pd.concat([train_X_df, train_y_sr], axis=1).to_csv('data/training.csv', index=False)\n",
    "pd.concat([val_X_df, val_y_sr], axis=1).to_csv('data/validation.csv', index=False)\n",
    "pd.concat([test_X_df, test_y_sr], axis=1).to_csv('data/testing.csv', index=False)"
   ]
  }
 ],
 "metadata": {
  "kernelspec": {
   "display_name": "Python 3 (ipykernel)",
   "language": "python",
   "name": "python3"
  },
  "language_info": {
   "codemirror_mode": {
    "name": "ipython",
    "version": 3
   },
   "file_extension": ".py",
   "mimetype": "text/x-python",
   "name": "python",
   "nbconvert_exporter": "python",
   "pygments_lexer": "ipython3",
   "version": "3.8.3"
  },
  "toc": {
   "base_numbering": 1,
   "nav_menu": {},
   "number_sections": false,
   "sideBar": true,
   "skip_h1_title": false,
   "title_cell": "Table of Contents",
   "title_sidebar": "Contents",
   "toc_cell": false,
   "toc_position": {},
   "toc_section_display": true,
   "toc_window_display": false
  }
 },
 "nbformat": 4,
 "nbformat_minor": 5
}
