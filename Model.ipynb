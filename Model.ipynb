{
 "cells": [
  {
   "cell_type": "markdown",
   "id": "e28d8aba",
   "metadata": {},
   "source": [
    "## Import packages"
   ]
  },
  {
   "cell_type": "code",
   "execution_count": 1,
   "id": "1fff9a17",
   "metadata": {},
   "outputs": [],
   "source": [
    "%matplotlib inline\n",
    "import matplotlib.pyplot as plt\n",
    "import numpy as np\n",
    "import pandas as pd\n",
    "import seaborn as sns\n",
    "\n",
    "import re\n",
    "\n",
    "from sklearn.model_selection import train_test_split\n",
    "from sklearn.preprocessing import OneHotEncoder, StandardScaler\n",
    "from sklearn.impute import SimpleImputer\n",
    "from sklearn.base import BaseEstimator, TransformerMixin\n",
    "from sklearn.pipeline import Pipeline, make_pipeline\n",
    "from sklearn.compose import ColumnTransformer, make_column_transformer\n",
    "from sklearn.neural_network import MLPClassifier\n",
    "from sklearn import set_config\n",
    "set_config(display='diagram')"
   ]
  },
  {
   "cell_type": "markdown",
   "id": "22c5f6fb",
   "metadata": {},
   "source": [
    "# Read Data From Files"
   ]
  },
  {
   "cell_type": "code",
   "execution_count": 2,
   "id": "d8b4fdf1",
   "metadata": {},
   "outputs": [],
   "source": [
    "train_X_df = pd.read_csv('data/training.csv')\n",
    "train_y_sr = train_X_df['condition']\n",
    "train_X_df.drop(columns='condition', inplace=True)\n",
    "\n",
    "val_X_df = pd.read_csv('data/validation.csv')\n",
    "val_y_sr = val_X_df['condition']\n",
    "val_X_df.drop(columns='condition', inplace=True)\n",
    "\n",
    "test_X_df = pd.read_csv('data/testing.csv')\n",
    "test_y_sr = test_X_df['condition']\n",
    "test_X_df.drop(columns='condition', inplace=True)"
   ]
  },
  {
   "cell_type": "markdown",
   "id": "a6213500",
   "metadata": {},
   "source": [
    "# Explore Training Data"
   ]
  },
  {
   "cell_type": "markdown",
   "id": "5d72a1a9",
   "metadata": {},
   "source": [
    "### What are the data types of these columns?"
   ]
  },
  {
   "cell_type": "code",
   "execution_count": 3,
   "id": "90f4b47d",
   "metadata": {},
   "outputs": [
    {
     "data": {
      "text/plain": [
       "date            object\n",
       "time            object\n",
       "temperature      int64\n",
       "dew_point        int64\n",
       "humidity         int64\n",
       "wind            object\n",
       "wind_speed       int64\n",
       "wind_gust        int64\n",
       "pressure       float64\n",
       "precip.        float64\n",
       "dtype: object"
      ]
     },
     "execution_count": 3,
     "metadata": {},
     "output_type": "execute_result"
    }
   ],
   "source": [
    "train_X_df.dtypes"
   ]
  },
  {
   "cell_type": "markdown",
   "id": "f3245fdf",
   "metadata": {},
   "source": [
    "### How data distributed on label column"
   ]
  },
  {
   "cell_type": "code",
   "execution_count": 4,
   "id": "f4876717",
   "metadata": {},
   "outputs": [
    {
     "data": {
      "text/plain": [
       "Partly Cloudy                1043\n",
       "Mostly Cloudy                 526\n",
       "Fair                          108\n",
       "Light Rain                     95\n",
       "Light Rain Shower              42\n",
       "Light Rain with Thunder        23\n",
       "T-Storm                        10\n",
       "Thunder in the Vicinity        10\n",
       "Showers in the Vicinity         4\n",
       "Fog                             4\n",
       "Thunder                         4\n",
       "Heavy T-Storm / Windy           4\n",
       "Heavy T-Storm                   4\n",
       "Light Rain Shower / Windy       3\n",
       "Rain Shower                     3\n",
       "Partly Cloudy / Windy           3\n",
       "Heavy Rain Shower               2\n",
       "Mostly Cloudy / Windy           2\n",
       "Heavy Rain Shower / Windy       2\n",
       "Rain Shower / Windy             1\n",
       "Name: condition, dtype: int64"
      ]
     },
     "execution_count": 4,
     "metadata": {},
     "output_type": "execute_result"
    }
   ],
   "source": [
    "train_y_sr.value_counts()"
   ]
  },
  {
   "cell_type": "markdown",
   "id": "bf0cd8e2",
   "metadata": {},
   "source": [
    "### How data distribution of each numerical column"
   ]
  },
  {
   "cell_type": "code",
   "execution_count": 5,
   "id": "9c8e0315",
   "metadata": {},
   "outputs": [],
   "source": [
    "num_cols = list(train_X_df.select_dtypes(exclude='object').columns)\n",
    "cate_cols = list(train_X_df.select_dtypes(include='object').columns)"
   ]
  },
  {
   "cell_type": "code",
   "execution_count": 6,
   "id": "c2a5eb8b",
   "metadata": {},
   "outputs": [
    {
     "data": {
      "text/html": [
       "<div>\n",
       "<style scoped>\n",
       "    .dataframe tbody tr th:only-of-type {\n",
       "        vertical-align: middle;\n",
       "    }\n",
       "\n",
       "    .dataframe tbody tr th {\n",
       "        vertical-align: top;\n",
       "    }\n",
       "\n",
       "    .dataframe thead th {\n",
       "        text-align: right;\n",
       "    }\n",
       "</style>\n",
       "<table border=\"1\" class=\"dataframe\">\n",
       "  <thead>\n",
       "    <tr style=\"text-align: right;\">\n",
       "      <th></th>\n",
       "      <th>temperature</th>\n",
       "      <th>dew_point</th>\n",
       "      <th>humidity</th>\n",
       "      <th>wind_speed</th>\n",
       "      <th>wind_gust</th>\n",
       "      <th>pressure</th>\n",
       "      <th>precip.</th>\n",
       "    </tr>\n",
       "  </thead>\n",
       "  <tbody>\n",
       "    <tr>\n",
       "      <th>count</th>\n",
       "      <td>1893.000000</td>\n",
       "      <td>1893.000000</td>\n",
       "      <td>1893.000000</td>\n",
       "      <td>1893.000000</td>\n",
       "      <td>1893.000000</td>\n",
       "      <td>1893.000000</td>\n",
       "      <td>1893.0</td>\n",
       "    </tr>\n",
       "    <tr>\n",
       "      <th>mean</th>\n",
       "      <td>83.156894</td>\n",
       "      <td>77.014263</td>\n",
       "      <td>82.961965</td>\n",
       "      <td>7.203909</td>\n",
       "      <td>0.354992</td>\n",
       "      <td>29.725436</td>\n",
       "      <td>0.0</td>\n",
       "    </tr>\n",
       "    <tr>\n",
       "      <th>std</th>\n",
       "      <td>4.893172</td>\n",
       "      <td>2.047870</td>\n",
       "      <td>13.290367</td>\n",
       "      <td>4.775471</td>\n",
       "      <td>3.429866</td>\n",
       "      <td>0.052933</td>\n",
       "      <td>0.0</td>\n",
       "    </tr>\n",
       "    <tr>\n",
       "      <th>min</th>\n",
       "      <td>72.000000</td>\n",
       "      <td>70.000000</td>\n",
       "      <td>44.000000</td>\n",
       "      <td>0.000000</td>\n",
       "      <td>0.000000</td>\n",
       "      <td>29.580000</td>\n",
       "      <td>0.0</td>\n",
       "    </tr>\n",
       "    <tr>\n",
       "      <th>25%</th>\n",
       "      <td>79.000000</td>\n",
       "      <td>75.000000</td>\n",
       "      <td>74.000000</td>\n",
       "      <td>3.000000</td>\n",
       "      <td>0.000000</td>\n",
       "      <td>29.700000</td>\n",
       "      <td>0.0</td>\n",
       "    </tr>\n",
       "    <tr>\n",
       "      <th>50%</th>\n",
       "      <td>82.000000</td>\n",
       "      <td>77.000000</td>\n",
       "      <td>89.000000</td>\n",
       "      <td>7.000000</td>\n",
       "      <td>0.000000</td>\n",
       "      <td>29.730000</td>\n",
       "      <td>0.0</td>\n",
       "    </tr>\n",
       "    <tr>\n",
       "      <th>75%</th>\n",
       "      <td>88.000000</td>\n",
       "      <td>79.000000</td>\n",
       "      <td>94.000000</td>\n",
       "      <td>10.000000</td>\n",
       "      <td>0.000000</td>\n",
       "      <td>29.760000</td>\n",
       "      <td>0.0</td>\n",
       "    </tr>\n",
       "    <tr>\n",
       "      <th>max</th>\n",
       "      <td>97.000000</td>\n",
       "      <td>82.000000</td>\n",
       "      <td>100.000000</td>\n",
       "      <td>25.000000</td>\n",
       "      <td>44.000000</td>\n",
       "      <td>29.910000</td>\n",
       "      <td>0.0</td>\n",
       "    </tr>\n",
       "  </tbody>\n",
       "</table>\n",
       "</div>"
      ],
      "text/plain": [
       "       temperature    dew_point     humidity   wind_speed    wind_gust  \\\n",
       "count  1893.000000  1893.000000  1893.000000  1893.000000  1893.000000   \n",
       "mean     83.156894    77.014263    82.961965     7.203909     0.354992   \n",
       "std       4.893172     2.047870    13.290367     4.775471     3.429866   \n",
       "min      72.000000    70.000000    44.000000     0.000000     0.000000   \n",
       "25%      79.000000    75.000000    74.000000     3.000000     0.000000   \n",
       "50%      82.000000    77.000000    89.000000     7.000000     0.000000   \n",
       "75%      88.000000    79.000000    94.000000    10.000000     0.000000   \n",
       "max      97.000000    82.000000   100.000000    25.000000    44.000000   \n",
       "\n",
       "          pressure  precip.  \n",
       "count  1893.000000   1893.0  \n",
       "mean     29.725436      0.0  \n",
       "std       0.052933      0.0  \n",
       "min      29.580000      0.0  \n",
       "25%      29.700000      0.0  \n",
       "50%      29.730000      0.0  \n",
       "75%      29.760000      0.0  \n",
       "max      29.910000      0.0  "
      ]
     },
     "execution_count": 6,
     "metadata": {},
     "output_type": "execute_result"
    }
   ],
   "source": [
    "train_X_df[num_cols].describe()"
   ]
  },
  {
   "cell_type": "markdown",
   "id": "337c465d",
   "metadata": {},
   "source": [
    "* We visualize the histogram to have a better look"
   ]
  },
  {
   "cell_type": "code",
   "execution_count": 7,
   "id": "84ad23bc",
   "metadata": {},
   "outputs": [
    {
     "data": {
      "image/png": "[encoded data removed]",
      "text/plain": [
       "<Figure size 1440x1080 with 9 Axes>"
      ]
     },
     "metadata": {
      "needs_background": "light"
     },
     "output_type": "display_data"
    }
   ],
   "source": [
    "train_X_df[num_cols].hist(bins=50, figsize=(20, 15))\n",
    "plt.show()"
   ]
  },
  {
   "cell_type": "markdown",
   "id": "33a94248",
   "metadata": {},
   "source": [
    "#### We have few observations:\n",
    "* These attributes have very different scales.\n",
    "* `precip` column is all $0$, so this attribute does not supply any information.\n",
    "* Data in `wind_gust` and `pressure` are weird, most of values are in the smaller certain range, so that we think there are outlier."
   ]
  },
  {
   "cell_type": "markdown",
   "id": "8d97e7a9",
   "metadata": {},
   "source": [
    "### How data distribute of each categorical column"
   ]
  },
  {
   "cell_type": "code",
   "execution_count": 8,
   "id": "e11c4830",
   "metadata": {},
   "outputs": [
    {
     "data": {
      "text/html": [
       "<div>\n",
       "<style scoped>\n",
       "    .dataframe tbody tr th:only-of-type {\n",
       "        vertical-align: middle;\n",
       "    }\n",
       "\n",
       "    .dataframe tbody tr th {\n",
       "        vertical-align: top;\n",
       "    }\n",
       "\n",
       "    .dataframe thead th {\n",
       "        text-align: right;\n",
       "    }\n",
       "</style>\n",
       "<table border=\"1\" class=\"dataframe\">\n",
       "  <thead>\n",
       "    <tr style=\"text-align: right;\">\n",
       "      <th></th>\n",
       "      <th>date</th>\n",
       "      <th>time</th>\n",
       "      <th>wind</th>\n",
       "    </tr>\n",
       "  </thead>\n",
       "  <tbody>\n",
       "    <tr>\n",
       "      <th>missing_percentage</th>\n",
       "      <td>0.0</td>\n",
       "      <td>0.0</td>\n",
       "      <td>0.0</td>\n",
       "    </tr>\n",
       "    <tr>\n",
       "      <th>num_values</th>\n",
       "      <td>66</td>\n",
       "      <td>48</td>\n",
       "      <td>18</td>\n",
       "    </tr>\n",
       "    <tr>\n",
       "      <th>value_percentages</th>\n",
       "      <td>{'2021-08-19': 2.0, '2021-08-07': 2.0, '2021-07-13': 1.8, '2021-07-24': 1.8, '2021-08-18': 1.7, ...</td>\n",
       "      <td>{'10:00 PM': 2.5, '2:30 PM': 2.4, '11:00 AM': 2.4, '10:30 AM': 2.4, '9:30 AM': 2.3, '3:00 PM': 2...</td>\n",
       "      <td>{'WSW': 24.9, 'VAR': 20.2, 'W': 18.3, 'SW': 11.0, 'WNW': 4.6, 'SSW': 3.2, 'S': 3.1, 'CALM': 2.3,...</td>\n",
       "    </tr>\n",
       "  </tbody>\n",
       "</table>\n",
       "</div>"
      ],
      "text/plain": [
       "                                                                                                                   date  \\\n",
       "missing_percentage                                                                                                  0.0   \n",
       "num_values                                                                                                           66   \n",
       "value_percentages   {'2021-08-19': 2.0, '2021-08-07': 2.0, '2021-07-13': 1.8, '2021-07-24': 1.8, '2021-08-18': 1.7, ...   \n",
       "\n",
       "                                                                                                                   time  \\\n",
       "missing_percentage                                                                                                  0.0   \n",
       "num_values                                                                                                           48   \n",
       "value_percentages   {'10:00 PM': 2.5, '2:30 PM': 2.4, '11:00 AM': 2.4, '10:30 AM': 2.4, '9:30 AM': 2.3, '3:00 PM': 2...   \n",
       "\n",
       "                                                                                                                   wind  \n",
       "missing_percentage                                                                                                  0.0  \n",
       "num_values                                                                                                           18  \n",
       "value_percentages   {'WSW': 24.9, 'VAR': 20.2, 'W': 18.3, 'SW': 11.0, 'WNW': 4.6, 'SSW': 3.2, 'S': 3.1, 'CALM': 2.3,...  "
      ]
     },
     "execution_count": 8,
     "metadata": {},
     "output_type": "execute_result"
    }
   ],
   "source": [
    "pd.set_option('display.max_colwidth', 100)\n",
    "pd.set_option('display.max_columns', None)\n",
    "\n",
    "def CountUniqueValues(s):\n",
    "    s = s.dropna().str.split(';').explode()\n",
    "    return len(s.unique())\n",
    "def CountFrequenciesSeries(s):\n",
    "    s = s.dropna().str.split(';').explode()\n",
    "    return (s.value_counts(normalize = True)*100).round(1).to_dict()\n",
    "\n",
    "cate_col_info_df = pd.DataFrame(index=['missing_percentage', 'num_values', 'value_percentages'], columns=cate_cols)\n",
    "cate_col_info_df.loc['missing_percentage'] = train_X_df[cate_cols].isnull().sum(axis = 0).divide(len(train_X_df) / 100).round(1)\n",
    "cate_col_info_df.loc['num_values'] = train_X_df[cate_cols].apply(CountUniqueValues)\n",
    "cate_col_info_df.loc['value_percentages'] = train_X_df[cate_cols].apply(CountFrequenciesSeries)\n",
    "cate_col_info_df"
   ]
  },
  {
   "cell_type": "markdown",
   "id": "65689bc3",
   "metadata": {},
   "source": [
    "* We visualize data for more obvious"
   ]
  },
  {
   "cell_type": "code",
   "execution_count": 9,
   "id": "e03384e1",
   "metadata": {},
   "outputs": [
    {
     "name": "stderr",
     "output_type": "stream",
     "text": [
      "/home/ubuntu/miniconda3/envs/min_ds-env/lib/python3.8/site-packages/seaborn/_decorators.py:36: FutureWarning: Pass the following variables as keyword args: x, y. From version 0.12, the only valid positional argument will be `data`, and passing other arguments without an explicit keyword will result in an error or misinterpretation.\n",
      "  warnings.warn(\n"
     ]
    },
    {
     "data": {
      "image/png": "[encoded data removed]",
      "text/plain": [
       "<Figure size 432x288 with 1 Axes>"
      ]
     },
     "metadata": {},
     "output_type": "display_data"
    }
   ],
   "source": [
    "count = train_X_df['date'].value_counts()\n",
    "sns.set(style=\"darkgrid\")\n",
    "sns.barplot(count.index, count.values, alpha=0.9)\n",
    "plt.title('Frequency Distribution of date')\n",
    "plt.ylabel('Number of Occurrences', fontsize=12)\n",
    "plt.xlabel('date', fontsize=12)\n",
    "plt.show()"
   ]
  },
  {
   "cell_type": "code",
   "execution_count": 10,
   "id": "667edf02",
   "metadata": {},
   "outputs": [
    {
     "name": "stderr",
     "output_type": "stream",
     "text": [
      "/home/ubuntu/miniconda3/envs/min_ds-env/lib/python3.8/site-packages/seaborn/_decorators.py:36: FutureWarning: Pass the following variables as keyword args: x, y. From version 0.12, the only valid positional argument will be `data`, and passing other arguments without an explicit keyword will result in an error or misinterpretation.\n",
      "  warnings.warn(\n"
     ]
    },
    {
     "data": {
      "image/png": "[encoded data removed]",
      "text/plain": [
       "<Figure size 432x288 with 1 Axes>"
      ]
     },
     "metadata": {},
     "output_type": "display_data"
    }
   ],
   "source": [
    "count = train_X_df['time'].value_counts()\n",
    "sns.set(style=\"darkgrid\")\n",
    "sns.barplot(count.index, count.values, alpha=0.9)\n",
    "plt.title('Frequency Distribution of date')\n",
    "plt.ylabel('Number of Occurrences', fontsize=12)\n",
    "plt.xlabel('time', fontsize=12)\n",
    "plt.show()"
   ]
  },
  {
   "cell_type": "code",
   "execution_count": 11,
   "id": "7bd83ca4",
   "metadata": {},
   "outputs": [
    {
     "name": "stderr",
     "output_type": "stream",
     "text": [
      "/home/ubuntu/miniconda3/envs/min_ds-env/lib/python3.8/site-packages/seaborn/_decorators.py:36: FutureWarning: Pass the following variables as keyword args: x, y. From version 0.12, the only valid positional argument will be `data`, and passing other arguments without an explicit keyword will result in an error or misinterpretation.\n",
      "  warnings.warn(\n"
     ]
    },
    {
     "data": {
      "image/png": "[encoded data removed]",
      "text/plain": [
       "<Figure size 432x288 with 1 Axes>"
      ]
     },
     "metadata": {},
     "output_type": "display_data"
    },
    {
     "data": {
      "text/plain": [
       "<Figure size 17280x8640 with 0 Axes>"
      ]
     },
     "metadata": {},
     "output_type": "display_data"
    }
   ],
   "source": [
    "count = train_X_df['wind'].value_counts()\n",
    "sns.set(style=\"darkgrid\")\n",
    "sns.barplot(count.index, count.values, alpha=0.9)\n",
    "plt.title('Frequency Distribution of date')\n",
    "plt.ylabel('Number of Occurrences', fontsize=12)\n",
    "plt.xlabel('wind', fontsize=12)\n",
    "plt.figure(figsize=(240, 120))\n",
    "plt.show()"
   ]
  },
  {
   "cell_type": "markdown",
   "id": "92dd3c7b",
   "metadata": {},
   "source": [
    "#### We have some observations:\n",
    "* Distribution of `date` and `time` is uniform.\n",
    "* `wind` has some values which frequency are low. As we observed, $0$ is dominated in this column. We are afraid of being overfitting, therefore, we decide to remove this column.\n",
    "* There are different weather labels that show it's raining."
   ]
  },
  {
   "cell_type": "markdown",
   "id": "47cdb151",
   "metadata": {},
   "source": [
    "# Preprocess data\n",
    "Accroding to analysis in exploring data. There are what we will do:\n",
    "* Remove `precip.`, `wind_gust` columns because it does not supply any useful information.\n",
    "* Remove `date` column. The month can effect on weather, but the data we have only 3 months (July, August, September), therfore with new data, which occure in another months, model can be confused. In addition, we want to make model learning online, it means the data and model will be updated frequently, so that we think `date` column is not useful.\n",
    "* With two unorder categorical columns `time` and `wind`, we use one hot encoding, in addition, because some values in wind appear very few, so that, we use a hyperparameter to keep the most frequent values.\n",
    "* Convert label values into \"Rain\" and \"Others\"."
   ]
  },
  {
   "cell_type": "code",
   "execution_count": 12,
   "id": "d1d3409a",
   "metadata": {},
   "outputs": [],
   "source": [
    "rain = {'Light Rain':\"Rain\",'Light Rain Shower':\"Rain\",'Light Rain with Thunder':\"Rain\",'T-Storm':\"Rain\",'Rain Shower':\"Rain\",'Heavy T-Storm':\"Rain\",'Showers in the Vicinity':\"Rain\",'Light Rain Shower / Windy':\"Rain\",'Heavy Rain Shower':\"Rain\",'Heavy T-Storm / Windy':\"Rain\",'Heavy Rain Shower / Windy':\"Rain\",'Rain Shower / Windy':\"Rain\",'Partly Cloudy':\"Others\",'Mostly Cloudy':\"Others\",'Fair':\"Others\",'Thunder in the Vicinity':\"Others\",'Thunder':\"Others\",'Partly Cloudy / Windy':\"Others\",'Fog':\"Others\",'Mostly Cloudy / Windy':\"Others\"}"
   ]
  },
  {
   "cell_type": "code",
   "execution_count": 13,
   "id": "65ade6b4",
   "metadata": {},
   "outputs": [],
   "source": [
    "train_y_sr = train_y_sr.replace(rain)\n",
    "val_y_sr = val_y_sr.replace(rain)\n",
    "test_y_sr = test_y_sr.replace(rain)"
   ]
  },
  {
   "cell_type": "code",
   "execution_count": 14,
   "id": "2807518d",
   "metadata": {},
   "outputs": [
    {
     "data": {
      "image/png": "[encoded data removed]",
      "text/plain": [
       "<Figure size 504x504 with 1 Axes>"
      ]
     },
     "metadata": {},
     "output_type": "display_data"
    }
   ],
   "source": [
    "train_y_sr.value_counts(normalize = True).plot.pie(figsize=(7, 7),autopct='%1.1f%%',explode=(0, 0.1))\n",
    "plt.show()"
   ]
  },
  {
   "cell_type": "code",
   "execution_count": 15,
   "id": "b0581dbf",
   "metadata": {},
   "outputs": [],
   "source": [
    "class Preprocess(BaseEstimator, TransformerMixin):\n",
    "    def __init__(self, num_top_wind=1):\n",
    "        self.num_top_wind = num_top_wind\n",
    "    def fit(self, X_df, y=None):\n",
    "        wind_col = X_df.wind\n",
    "        self.wind_counts_ = wind_col.value_counts()\n",
    "        wind = list(self.wind_counts_.index)\n",
    "        self.top_wind_ = wind[:max(1, min(self.num_top_wind, len(wind)))]\n",
    "        return self\n",
    "    def transform(self, X_df, y=None):\n",
    "        temp_df = X_df.copy(deep = True)\n",
    "        wind_col = temp_df.wind.str.extract(r'([A-Z]+)',expand = False)\n",
    "        wind_col[~wind_col.isin(self.top_wind_)] = 'Others'\n",
    "        temp = pd.DataFrame(temp_df.time.str.split().tolist(),columns = ['t','dn'])\n",
    "        temp_df['day_night'] =  list(temp['dn'])\n",
    "        temp_df['time'] = list(temp['t'])\n",
    "        temp_df.drop(['precip.','date','wind_gust'], axis=1, inplace=True)\n",
    "        return temp_df"
   ]
  },
  {
   "cell_type": "markdown",
   "id": "d59b59ea",
   "metadata": {},
   "source": [
    "* Test `Preprocess` class"
   ]
  },
  {
   "cell_type": "code",
   "execution_count": 16,
   "id": "7f950e19",
   "metadata": {},
   "outputs": [],
   "source": [
    "col_preprocess = Preprocess(num_top_wind=4)"
   ]
  },
  {
   "cell_type": "code",
   "execution_count": 17,
   "id": "63c87a6c",
   "metadata": {},
   "outputs": [],
   "source": [
    "fewer_cols_train_X_df = col_preprocess.fit_transform(train_X_df)"
   ]
  },
  {
   "cell_type": "code",
   "execution_count": 18,
   "id": "3ea56e87",
   "metadata": {},
   "outputs": [
    {
     "data": {
      "text/html": [
       "<div>\n",
       "<style scoped>\n",
       "    .dataframe tbody tr th:only-of-type {\n",
       "        vertical-align: middle;\n",
       "    }\n",
       "\n",
       "    .dataframe tbody tr th {\n",
       "        vertical-align: top;\n",
       "    }\n",
       "\n",
       "    .dataframe thead th {\n",
       "        text-align: right;\n",
       "    }\n",
       "</style>\n",
       "<table border=\"1\" class=\"dataframe\">\n",
       "  <thead>\n",
       "    <tr style=\"text-align: right;\">\n",
       "      <th></th>\n",
       "      <th>time</th>\n",
       "      <th>temperature</th>\n",
       "      <th>dew_point</th>\n",
       "      <th>humidity</th>\n",
       "      <th>wind</th>\n",
       "      <th>wind_speed</th>\n",
       "      <th>pressure</th>\n",
       "      <th>day_night</th>\n",
       "    </tr>\n",
       "  </thead>\n",
       "  <tbody>\n",
       "    <tr>\n",
       "      <th>0</th>\n",
       "      <td>8:00</td>\n",
       "      <td>82</td>\n",
       "      <td>75</td>\n",
       "      <td>79</td>\n",
       "      <td>VAR</td>\n",
       "      <td>2</td>\n",
       "      <td>29.79</td>\n",
       "      <td>AM</td>\n",
       "    </tr>\n",
       "    <tr>\n",
       "      <th>1</th>\n",
       "      <td>4:00</td>\n",
       "      <td>79</td>\n",
       "      <td>79</td>\n",
       "      <td>100</td>\n",
       "      <td>E</td>\n",
       "      <td>3</td>\n",
       "      <td>29.73</td>\n",
       "      <td>AM</td>\n",
       "    </tr>\n",
       "    <tr>\n",
       "      <th>2</th>\n",
       "      <td>4:30</td>\n",
       "      <td>79</td>\n",
       "      <td>75</td>\n",
       "      <td>89</td>\n",
       "      <td>W</td>\n",
       "      <td>7</td>\n",
       "      <td>29.67</td>\n",
       "      <td>PM</td>\n",
       "    </tr>\n",
       "    <tr>\n",
       "      <th>3</th>\n",
       "      <td>5:30</td>\n",
       "      <td>79</td>\n",
       "      <td>77</td>\n",
       "      <td>94</td>\n",
       "      <td>VAR</td>\n",
       "      <td>1</td>\n",
       "      <td>29.73</td>\n",
       "      <td>AM</td>\n",
       "    </tr>\n",
       "    <tr>\n",
       "      <th>4</th>\n",
       "      <td>2:30</td>\n",
       "      <td>79</td>\n",
       "      <td>75</td>\n",
       "      <td>89</td>\n",
       "      <td>VAR</td>\n",
       "      <td>2</td>\n",
       "      <td>29.73</td>\n",
       "      <td>AM</td>\n",
       "    </tr>\n",
       "  </tbody>\n",
       "</table>\n",
       "</div>"
      ],
      "text/plain": [
       "   time  temperature  dew_point  humidity wind  wind_speed  pressure day_night\n",
       "0  8:00           82         75        79  VAR           2     29.79        AM\n",
       "1  4:00           79         79       100    E           3     29.73        AM\n",
       "2  4:30           79         75        89    W           7     29.67        PM\n",
       "3  5:30           79         77        94  VAR           1     29.73        AM\n",
       "4  2:30           79         75        89  VAR           2     29.73        AM"
      ]
     },
     "execution_count": 18,
     "metadata": {},
     "output_type": "execute_result"
    }
   ],
   "source": [
    "fewer_cols_train_X_df.head(5)"
   ]
  },
  {
   "cell_type": "markdown",
   "id": "51cb0914",
   "metadata": {},
   "source": [
    "We will continue to preprocess following these steps:\n",
    "\n",
    "- Numerical columns, we will fill in missing values with mean value\n",
    "- Unorder categorical columns: `time` and `wind`: \n",
    "    - Convert to numerical using one-hot encoding method.\n",
    "- Normalize data.\n",
    "\n",
    "We will create a pipeline that executes these steps and also include the `Preprocess` class above."
   ]
  },
  {
   "cell_type": "code",
   "execution_count": 19,
   "id": "b40ed4f1",
   "metadata": {},
   "outputs": [],
   "source": [
    "num_cols = ['temperature','dew_point','humidity','wind_speed','pressure']\n",
    "cate_cols = ['time','wind','day_night']\n",
    "\n",
    "preprocess_pipeline = Pipeline(steps = [('preprocess_cate',Preprocess(num_top_wind=4)),\n",
    "                                    ('imputer', ColumnTransformer(transformers=[('nume', SimpleImputer(missing_values = np.nan, strategy='mean'),num_cols),\n",
    "                                        ('cate', OneHotEncoder(categories='auto', handle_unknown='ignore'), cate_cols)])),\n",
    "                                   ('scale', StandardScaler(with_mean=False))])"
   ]
  },
  {
   "cell_type": "code",
   "execution_count": 20,
   "id": "f9cd086d",
   "metadata": {},
   "outputs": [
    {
     "data": {
      "text/html": [
       "<style>#sk-1f03fd6d-397e-4f86-8b62-687cfdfc5184 {color: black;background-color: white;}#sk-1f03fd6d-397e-4f86-8b62-687cfdfc5184 pre{padding: 0;}#sk-1f03fd6d-397e-4f86-8b62-687cfdfc5184 div.sk-toggleable {background-color: white;}#sk-1f03fd6d-397e-4f86-8b62-687cfdfc5184 label.sk-toggleable__label {cursor: pointer;display: block;width: 100%;margin-bottom: 0;padding: 0.2em 0.3em;box-sizing: border-box;text-align: center;}#sk-1f03fd6d-397e-4f86-8b62-687cfdfc5184 div.sk-toggleable__content {max-height: 0;max-width: 0;overflow: hidden;text-align: left;background-color: #f0f8ff;}#sk-1f03fd6d-397e-4f86-8b62-687cfdfc5184 div.sk-toggleable__content pre {margin: 0.2em;color: black;border-radius: 0.25em;background-color: #f0f8ff;}#sk-1f03fd6d-397e-4f86-8b62-687cfdfc5184 input.sk-toggleable__control:checked~div.sk-toggleable__content {max-height: 200px;max-width: 100%;overflow: auto;}#sk-1f03fd6d-397e-4f86-8b62-687cfdfc5184 div.sk-estimator input.sk-toggleable__control:checked~label.sk-toggleable__label {background-color: #d4ebff;}#sk-1f03fd6d-397e-4f86-8b62-687cfdfc5184 div.sk-label input.sk-toggleable__control:checked~label.sk-toggleable__label {background-color: #d4ebff;}#sk-1f03fd6d-397e-4f86-8b62-687cfdfc5184 input.sk-hidden--visually {border: 0;clip: rect(1px 1px 1px 1px);clip: rect(1px, 1px, 1px, 1px);height: 1px;margin: -1px;overflow: hidden;padding: 0;position: absolute;width: 1px;}#sk-1f03fd6d-397e-4f86-8b62-687cfdfc5184 div.sk-estimator {font-family: monospace;background-color: #f0f8ff;margin: 0.25em 0.25em;border: 1px dotted black;border-radius: 0.25em;box-sizing: border-box;}#sk-1f03fd6d-397e-4f86-8b62-687cfdfc5184 div.sk-estimator:hover {background-color: #d4ebff;}#sk-1f03fd6d-397e-4f86-8b62-687cfdfc5184 div.sk-parallel-item::after {content: \"\";width: 100%;border-bottom: 1px solid gray;flex-grow: 1;}#sk-1f03fd6d-397e-4f86-8b62-687cfdfc5184 div.sk-label:hover label.sk-toggleable__label {background-color: #d4ebff;}#sk-1f03fd6d-397e-4f86-8b62-687cfdfc5184 div.sk-serial::before {content: \"\";position: absolute;border-left: 1px solid gray;box-sizing: border-box;top: 2em;bottom: 0;left: 50%;}#sk-1f03fd6d-397e-4f86-8b62-687cfdfc5184 div.sk-serial {display: flex;flex-direction: column;align-items: center;background-color: white;}#sk-1f03fd6d-397e-4f86-8b62-687cfdfc5184 div.sk-item {z-index: 1;}#sk-1f03fd6d-397e-4f86-8b62-687cfdfc5184 div.sk-parallel {display: flex;align-items: stretch;justify-content: center;background-color: white;}#sk-1f03fd6d-397e-4f86-8b62-687cfdfc5184 div.sk-parallel-item {display: flex;flex-direction: column;position: relative;background-color: white;}#sk-1f03fd6d-397e-4f86-8b62-687cfdfc5184 div.sk-parallel-item:first-child::after {align-self: flex-end;width: 50%;}#sk-1f03fd6d-397e-4f86-8b62-687cfdfc5184 div.sk-parallel-item:last-child::after {align-self: flex-start;width: 50%;}#sk-1f03fd6d-397e-4f86-8b62-687cfdfc5184 div.sk-parallel-item:only-child::after {width: 0;}#sk-1f03fd6d-397e-4f86-8b62-687cfdfc5184 div.sk-dashed-wrapped {border: 1px dashed gray;margin: 0.2em;box-sizing: border-box;padding-bottom: 0.1em;background-color: white;position: relative;}#sk-1f03fd6d-397e-4f86-8b62-687cfdfc5184 div.sk-label label {font-family: monospace;font-weight: bold;background-color: white;display: inline-block;line-height: 1.2em;}#sk-1f03fd6d-397e-4f86-8b62-687cfdfc5184 div.sk-label-container {position: relative;z-index: 2;text-align: center;}#sk-1f03fd6d-397e-4f86-8b62-687cfdfc5184 div.sk-container {display: inline-block;position: relative;}</style><div id=\"sk-1f03fd6d-397e-4f86-8b62-687cfdfc5184\" class\"sk-top-container\"><div class=\"sk-container\"><div class=\"sk-item sk-dashed-wrapped\"><div class=\"sk-label-container\"><div class=\"sk-label sk-toggleable\"><input class=\"sk-toggleable__control sk-hidden--visually\" id=\"3a9745c5-0802-4986-b46b-9c462d5d061c\" type=\"checkbox\" ><label class=\"sk-toggleable__label\" for=\"3a9745c5-0802-4986-b46b-9c462d5d061c\">Pipeline</label><div class=\"sk-toggleable__content\"><pre>Pipeline(steps=[('preprocess_cate', Preprocess(num_top_wind=4)),\n",
       "                ('imputer',\n",
       "                 ColumnTransformer(transformers=[('nume', SimpleImputer(),\n",
       "                                                  ['temperature', 'dew_point',\n",
       "                                                   'humidity', 'wind_speed',\n",
       "                                                   'pressure']),\n",
       "                                                 ('cate',\n",
       "                                                  OneHotEncoder(handle_unknown='ignore'),\n",
       "                                                  ['time', 'wind',\n",
       "                                                   'day_night'])])),\n",
       "                ('scale', StandardScaler(with_mean=False))])</pre></div></div></div><div class=\"sk-serial\"><div class=\"sk-item\"><div class=\"sk-estimator sk-toggleable\"><input class=\"sk-toggleable__control sk-hidden--visually\" id=\"5484a3ce-1f91-4bdc-a48e-95e232bda70a\" type=\"checkbox\" ><label class=\"sk-toggleable__label\" for=\"5484a3ce-1f91-4bdc-a48e-95e232bda70a\">Preprocess</label><div class=\"sk-toggleable__content\"><pre>Preprocess(num_top_wind=4)</pre></div></div></div><div class=\"sk-item sk-dashed-wrapped\"><div class=\"sk-label-container\"><div class=\"sk-label sk-toggleable\"><input class=\"sk-toggleable__control sk-hidden--visually\" id=\"0d2dd152-28d2-4349-897b-0b5a48f757dc\" type=\"checkbox\" ><label class=\"sk-toggleable__label\" for=\"0d2dd152-28d2-4349-897b-0b5a48f757dc\">imputer: ColumnTransformer</label><div class=\"sk-toggleable__content\"><pre>ColumnTransformer(transformers=[('nume', SimpleImputer(),\n",
       "                                 ['temperature', 'dew_point', 'humidity',\n",
       "                                  'wind_speed', 'pressure']),\n",
       "                                ('cate', OneHotEncoder(handle_unknown='ignore'),\n",
       "                                 ['time', 'wind', 'day_night'])])</pre></div></div></div><div class=\"sk-parallel\"><div class=\"sk-parallel-item\"><div class=\"sk-item\"><div class=\"sk-label-container\"><div class=\"sk-label sk-toggleable\"><input class=\"sk-toggleable__control sk-hidden--visually\" id=\"8124fc3b-c5bd-48dc-ad60-99fd11f0ff13\" type=\"checkbox\" ><label class=\"sk-toggleable__label\" for=\"8124fc3b-c5bd-48dc-ad60-99fd11f0ff13\">nume</label><div class=\"sk-toggleable__content\"><pre>['temperature', 'dew_point', 'humidity', 'wind_speed', 'pressure']</pre></div></div></div><div class=\"sk-serial\"><div class=\"sk-item\"><div class=\"sk-estimator sk-toggleable\"><input class=\"sk-toggleable__control sk-hidden--visually\" id=\"fd4e11b1-afda-41ed-b97e-fba10f8dc7c0\" type=\"checkbox\" ><label class=\"sk-toggleable__label\" for=\"fd4e11b1-afda-41ed-b97e-fba10f8dc7c0\">SimpleImputer</label><div class=\"sk-toggleable__content\"><pre>SimpleImputer()</pre></div></div></div></div></div></div><div class=\"sk-parallel-item\"><div class=\"sk-item\"><div class=\"sk-label-container\"><div class=\"sk-label sk-toggleable\"><input class=\"sk-toggleable__control sk-hidden--visually\" id=\"05eaaaa6-309e-428e-add3-c498d6e1fc87\" type=\"checkbox\" ><label class=\"sk-toggleable__label\" for=\"05eaaaa6-309e-428e-add3-c498d6e1fc87\">cate</label><div class=\"sk-toggleable__content\"><pre>['time', 'wind', 'day_night']</pre></div></div></div><div class=\"sk-serial\"><div class=\"sk-item\"><div class=\"sk-estimator sk-toggleable\"><input class=\"sk-toggleable__control sk-hidden--visually\" id=\"9343ec70-53a0-47af-91fd-3261bf530c16\" type=\"checkbox\" ><label class=\"sk-toggleable__label\" for=\"9343ec70-53a0-47af-91fd-3261bf530c16\">OneHotEncoder</label><div class=\"sk-toggleable__content\"><pre>OneHotEncoder(handle_unknown='ignore')</pre></div></div></div></div></div></div></div></div><div class=\"sk-item\"><div class=\"sk-estimator sk-toggleable\"><input class=\"sk-toggleable__control sk-hidden--visually\" id=\"e834e14f-0768-4974-8eac-a37d960010be\" type=\"checkbox\" ><label class=\"sk-toggleable__label\" for=\"e834e14f-0768-4974-8eac-a37d960010be\">StandardScaler</label><div class=\"sk-toggleable__content\"><pre>StandardScaler(with_mean=False)</pre></div></div></div></div></div></div></div>"
      ],
      "text/plain": [
       "Pipeline(steps=[('preprocess_cate', Preprocess(num_top_wind=4)),\n",
       "                ('imputer',\n",
       "                 ColumnTransformer(transformers=[('nume', SimpleImputer(),\n",
       "                                                  ['temperature', 'dew_point',\n",
       "                                                   'humidity', 'wind_speed',\n",
       "                                                   'pressure']),\n",
       "                                                 ('cate',\n",
       "                                                  OneHotEncoder(handle_unknown='ignore'),\n",
       "                                                  ['time', 'wind',\n",
       "                                                   'day_night'])])),\n",
       "                ('scale', StandardScaler(with_mean=False))])"
      ]
     },
     "execution_count": 20,
     "metadata": {},
     "output_type": "execute_result"
    }
   ],
   "source": [
    "preprocess_pipeline"
   ]
  },
  {
   "cell_type": "markdown",
   "id": "d33902f8",
   "metadata": {},
   "source": [
    "* Test `preprocess_pipeline`"
   ]
  },
  {
   "cell_type": "code",
   "execution_count": 21,
   "id": "d6fc98fb",
   "metadata": {},
   "outputs": [],
   "source": [
    "preprocessed_train_X = preprocess_pipeline.fit_transform(train_X_df)"
   ]
  },
  {
   "cell_type": "code",
   "execution_count": 22,
   "id": "9f5f5fef",
   "metadata": {},
   "outputs": [
    {
     "data": {
      "text/plain": [
       "(1893, 49)"
      ]
     },
     "execution_count": 22,
     "metadata": {},
     "output_type": "execute_result"
    }
   ],
   "source": [
    "preprocessed_train_X.shape"
   ]
  },
  {
   "cell_type": "markdown",
   "id": "ee91ace2",
   "metadata": {},
   "source": [
    "# Models\n",
    "We will try some models and evaluate them to get a good model. There are models we will run:\n",
    "* Traditional Machine Learning:\n",
    "    * Linear model:\n",
    "        * Logistic model\n",
    "        * Linear SVM\n",
    "    * Non-linear model:\n",
    "        * kNN\n",
    "        * Nonlinear SVM\n",
    "    * Tree:\n",
    "        * Decision tree\n",
    "        * Random Forest\n",
    "* Deep learning: Neural network\n",
    "\n",
    "Because we focus on forcast raining weather, and in our data, raining condition is minoriy. Therefore, we use f1 score of raining class to be our metric.\n",
    "Each model, we iterate hyperparameters and calculate the score on training and validation, then we choose hyparameters get the best result. The number of hyperparameters depends on models"
   ]
  },
  {
   "cell_type": "code",
   "execution_count": 23,
   "id": "9bb9b81e",
   "metadata": {},
   "outputs": [],
   "source": [
    "from sklearn.linear_model import LogisticRegression\n",
    "from sklearn import tree\n",
    "from sklearn.svm import SVC\n",
    "from sklearn.metrics import classification_report, f1_score"
   ]
  },
  {
   "cell_type": "markdown",
   "id": "1371f9d9",
   "metadata": {},
   "source": [
    "## Linear models\n",
    "### Logistic model\n",
    "Create pipeline for logisstic model"
   ]
  },
  {
   "cell_type": "code",
   "execution_count": 24,
   "id": "fc103dcd",
   "metadata": {},
   "outputs": [],
   "source": [
    "logistic_model = make_pipeline(preprocess_pipeline, LogisticRegression(max_iter=500))"
   ]
  },
  {
   "cell_type": "code",
   "execution_count": 25,
   "id": "ac04d58e",
   "metadata": {},
   "outputs": [
    {
     "data": {
      "text/html": [
       "<style>#sk-574ce0fb-3629-4ec0-adc4-5032c46fd922 {color: black;background-color: white;}#sk-574ce0fb-3629-4ec0-adc4-5032c46fd922 pre{padding: 0;}#sk-574ce0fb-3629-4ec0-adc4-5032c46fd922 div.sk-toggleable {background-color: white;}#sk-574ce0fb-3629-4ec0-adc4-5032c46fd922 label.sk-toggleable__label {cursor: pointer;display: block;width: 100%;margin-bottom: 0;padding: 0.2em 0.3em;box-sizing: border-box;text-align: center;}#sk-574ce0fb-3629-4ec0-adc4-5032c46fd922 div.sk-toggleable__content {max-height: 0;max-width: 0;overflow: hidden;text-align: left;background-color: #f0f8ff;}#sk-574ce0fb-3629-4ec0-adc4-5032c46fd922 div.sk-toggleable__content pre {margin: 0.2em;color: black;border-radius: 0.25em;background-color: #f0f8ff;}#sk-574ce0fb-3629-4ec0-adc4-5032c46fd922 input.sk-toggleable__control:checked~div.sk-toggleable__content {max-height: 200px;max-width: 100%;overflow: auto;}#sk-574ce0fb-3629-4ec0-adc4-5032c46fd922 div.sk-estimator input.sk-toggleable__control:checked~label.sk-toggleable__label {background-color: #d4ebff;}#sk-574ce0fb-3629-4ec0-adc4-5032c46fd922 div.sk-label input.sk-toggleable__control:checked~label.sk-toggleable__label {background-color: #d4ebff;}#sk-574ce0fb-3629-4ec0-adc4-5032c46fd922 input.sk-hidden--visually {border: 0;clip: rect(1px 1px 1px 1px);clip: rect(1px, 1px, 1px, 1px);height: 1px;margin: -1px;overflow: hidden;padding: 0;position: absolute;width: 1px;}#sk-574ce0fb-3629-4ec0-adc4-5032c46fd922 div.sk-estimator {font-family: monospace;background-color: #f0f8ff;margin: 0.25em 0.25em;border: 1px dotted black;border-radius: 0.25em;box-sizing: border-box;}#sk-574ce0fb-3629-4ec0-adc4-5032c46fd922 div.sk-estimator:hover {background-color: #d4ebff;}#sk-574ce0fb-3629-4ec0-adc4-5032c46fd922 div.sk-parallel-item::after {content: \"\";width: 100%;border-bottom: 1px solid gray;flex-grow: 1;}#sk-574ce0fb-3629-4ec0-adc4-5032c46fd922 div.sk-label:hover label.sk-toggleable__label {background-color: #d4ebff;}#sk-574ce0fb-3629-4ec0-adc4-5032c46fd922 div.sk-serial::before {content: \"\";position: absolute;border-left: 1px solid gray;box-sizing: border-box;top: 2em;bottom: 0;left: 50%;}#sk-574ce0fb-3629-4ec0-adc4-5032c46fd922 div.sk-serial {display: flex;flex-direction: column;align-items: center;background-color: white;}#sk-574ce0fb-3629-4ec0-adc4-5032c46fd922 div.sk-item {z-index: 1;}#sk-574ce0fb-3629-4ec0-adc4-5032c46fd922 div.sk-parallel {display: flex;align-items: stretch;justify-content: center;background-color: white;}#sk-574ce0fb-3629-4ec0-adc4-5032c46fd922 div.sk-parallel-item {display: flex;flex-direction: column;position: relative;background-color: white;}#sk-574ce0fb-3629-4ec0-adc4-5032c46fd922 div.sk-parallel-item:first-child::after {align-self: flex-end;width: 50%;}#sk-574ce0fb-3629-4ec0-adc4-5032c46fd922 div.sk-parallel-item:last-child::after {align-self: flex-start;width: 50%;}#sk-574ce0fb-3629-4ec0-adc4-5032c46fd922 div.sk-parallel-item:only-child::after {width: 0;}#sk-574ce0fb-3629-4ec0-adc4-5032c46fd922 div.sk-dashed-wrapped {border: 1px dashed gray;margin: 0.2em;box-sizing: border-box;padding-bottom: 0.1em;background-color: white;position: relative;}#sk-574ce0fb-3629-4ec0-adc4-5032c46fd922 div.sk-label label {font-family: monospace;font-weight: bold;background-color: white;display: inline-block;line-height: 1.2em;}#sk-574ce0fb-3629-4ec0-adc4-5032c46fd922 div.sk-label-container {position: relative;z-index: 2;text-align: center;}#sk-574ce0fb-3629-4ec0-adc4-5032c46fd922 div.sk-container {display: inline-block;position: relative;}</style><div id=\"sk-574ce0fb-3629-4ec0-adc4-5032c46fd922\" class\"sk-top-container\"><div class=\"sk-container\"><div class=\"sk-item sk-dashed-wrapped\"><div class=\"sk-label-container\"><div class=\"sk-label sk-toggleable\"><input class=\"sk-toggleable__control sk-hidden--visually\" id=\"68b99173-cbc2-4549-b6aa-18c084222d07\" type=\"checkbox\" ><label class=\"sk-toggleable__label\" for=\"68b99173-cbc2-4549-b6aa-18c084222d07\">Pipeline</label><div class=\"sk-toggleable__content\"><pre>Pipeline(steps=[('pipeline',\n",
       "                 Pipeline(steps=[('preprocess_cate',\n",
       "                                  Preprocess(num_top_wind=4)),\n",
       "                                 ('imputer',\n",
       "                                  ColumnTransformer(transformers=[('nume',\n",
       "                                                                   SimpleImputer(),\n",
       "                                                                   ['temperature',\n",
       "                                                                    'dew_point',\n",
       "                                                                    'humidity',\n",
       "                                                                    'wind_speed',\n",
       "                                                                    'pressure']),\n",
       "                                                                  ('cate',\n",
       "                                                                   OneHotEncoder(handle_unknown='ignore'),\n",
       "                                                                   ['time',\n",
       "                                                                    'wind',\n",
       "                                                                    'day_night'])])),\n",
       "                                 ('scale', StandardScaler(with_mean=False))])),\n",
       "                ('logisticregression', LogisticRegression(max_iter=500))])</pre></div></div></div><div class=\"sk-serial\"><div class=\"sk-item\"><div class=\"sk-label-container\"><div class=\"sk-label sk-toggleable\"><input class=\"sk-toggleable__control sk-hidden--visually\" id=\"2ec376c5-166c-4cb2-b222-b7fb4081edf7\" type=\"checkbox\" ><label class=\"sk-toggleable__label\" for=\"2ec376c5-166c-4cb2-b222-b7fb4081edf7\">pipeline: Pipeline</label><div class=\"sk-toggleable__content\"><pre>Pipeline(steps=[('preprocess_cate', Preprocess(num_top_wind=4)),\n",
       "                ('imputer',\n",
       "                 ColumnTransformer(transformers=[('nume', SimpleImputer(),\n",
       "                                                  ['temperature', 'dew_point',\n",
       "                                                   'humidity', 'wind_speed',\n",
       "                                                   'pressure']),\n",
       "                                                 ('cate',\n",
       "                                                  OneHotEncoder(handle_unknown='ignore'),\n",
       "                                                  ['time', 'wind',\n",
       "                                                   'day_night'])])),\n",
       "                ('scale', StandardScaler(with_mean=False))])</pre></div></div></div><div class=\"sk-serial\"><div class=\"sk-item\"><div class=\"sk-estimator sk-toggleable\"><input class=\"sk-toggleable__control sk-hidden--visually\" id=\"9090a14d-4d9a-4490-b64e-6bee2ff11554\" type=\"checkbox\" ><label class=\"sk-toggleable__label\" for=\"9090a14d-4d9a-4490-b64e-6bee2ff11554\">Preprocess</label><div class=\"sk-toggleable__content\"><pre>Preprocess(num_top_wind=4)</pre></div></div></div><div class=\"sk-item sk-dashed-wrapped\"><div class=\"sk-label-container\"><div class=\"sk-label sk-toggleable\"><input class=\"sk-toggleable__control sk-hidden--visually\" id=\"efeb17e6-7307-4dc5-8244-c2979ad73b3a\" type=\"checkbox\" ><label class=\"sk-toggleable__label\" for=\"efeb17e6-7307-4dc5-8244-c2979ad73b3a\">imputer: ColumnTransformer</label><div class=\"sk-toggleable__content\"><pre>ColumnTransformer(transformers=[('nume', SimpleImputer(),\n",
       "                                 ['temperature', 'dew_point', 'humidity',\n",
       "                                  'wind_speed', 'pressure']),\n",
       "                                ('cate', OneHotEncoder(handle_unknown='ignore'),\n",
       "                                 ['time', 'wind', 'day_night'])])</pre></div></div></div><div class=\"sk-parallel\"><div class=\"sk-parallel-item\"><div class=\"sk-item\"><div class=\"sk-label-container\"><div class=\"sk-label sk-toggleable\"><input class=\"sk-toggleable__control sk-hidden--visually\" id=\"ec9609ff-af47-45e3-ad5d-9f32b7d545aa\" type=\"checkbox\" ><label class=\"sk-toggleable__label\" for=\"ec9609ff-af47-45e3-ad5d-9f32b7d545aa\">nume</label><div class=\"sk-toggleable__content\"><pre>['temperature', 'dew_point', 'humidity', 'wind_speed', 'pressure']</pre></div></div></div><div class=\"sk-serial\"><div class=\"sk-item\"><div class=\"sk-estimator sk-toggleable\"><input class=\"sk-toggleable__control sk-hidden--visually\" id=\"5f87b744-174a-4a59-93b7-c0ef1ded7202\" type=\"checkbox\" ><label class=\"sk-toggleable__label\" for=\"5f87b744-174a-4a59-93b7-c0ef1ded7202\">SimpleImputer</label><div class=\"sk-toggleable__content\"><pre>SimpleImputer()</pre></div></div></div></div></div></div><div class=\"sk-parallel-item\"><div class=\"sk-item\"><div class=\"sk-label-container\"><div class=\"sk-label sk-toggleable\"><input class=\"sk-toggleable__control sk-hidden--visually\" id=\"555e38e5-8d68-4538-bcb3-7eb47618048e\" type=\"checkbox\" ><label class=\"sk-toggleable__label\" for=\"555e38e5-8d68-4538-bcb3-7eb47618048e\">cate</label><div class=\"sk-toggleable__content\"><pre>['time', 'wind', 'day_night']</pre></div></div></div><div class=\"sk-serial\"><div class=\"sk-item\"><div class=\"sk-estimator sk-toggleable\"><input class=\"sk-toggleable__control sk-hidden--visually\" id=\"f8620e42-a14d-4917-9bbd-e6bfdaa02dac\" type=\"checkbox\" ><label class=\"sk-toggleable__label\" for=\"f8620e42-a14d-4917-9bbd-e6bfdaa02dac\">OneHotEncoder</label><div class=\"sk-toggleable__content\"><pre>OneHotEncoder(handle_unknown='ignore')</pre></div></div></div></div></div></div></div></div><div class=\"sk-item\"><div class=\"sk-estimator sk-toggleable\"><input class=\"sk-toggleable__control sk-hidden--visually\" id=\"2bb6897a-4505-4ba7-8b2d-d96a877840d1\" type=\"checkbox\" ><label class=\"sk-toggleable__label\" for=\"2bb6897a-4505-4ba7-8b2d-d96a877840d1\">StandardScaler</label><div class=\"sk-toggleable__content\"><pre>StandardScaler(with_mean=False)</pre></div></div></div></div></div><div class=\"sk-item\"><div class=\"sk-estimator sk-toggleable\"><input class=\"sk-toggleable__control sk-hidden--visually\" id=\"40bd2a8f-79b4-4b41-bba5-f21d4a9f33db\" type=\"checkbox\" ><label class=\"sk-toggleable__label\" for=\"40bd2a8f-79b4-4b41-bba5-f21d4a9f33db\">LogisticRegression</label><div class=\"sk-toggleable__content\"><pre>LogisticRegression(max_iter=500)</pre></div></div></div></div></div></div></div>"
      ],
      "text/plain": [
       "Pipeline(steps=[('pipeline',\n",
       "                 Pipeline(steps=[('preprocess_cate',\n",
       "                                  Preprocess(num_top_wind=4)),\n",
       "                                 ('imputer',\n",
       "                                  ColumnTransformer(transformers=[('nume',\n",
       "                                                                   SimpleImputer(),\n",
       "                                                                   ['temperature',\n",
       "                                                                    'dew_point',\n",
       "                                                                    'humidity',\n",
       "                                                                    'wind_speed',\n",
       "                                                                    'pressure']),\n",
       "                                                                  ('cate',\n",
       "                                                                   OneHotEncoder(handle_unknown='ignore'),\n",
       "                                                                   ['time',\n",
       "                                                                    'wind',\n",
       "                                                                    'day_night'])])),\n",
       "                                 ('scale', StandardScaler(with_mean=False))])),\n",
       "                ('logisticregression', LogisticRegression(max_iter=500))])"
      ]
     },
     "execution_count": 25,
     "metadata": {},
     "output_type": "execute_result"
    }
   ],
   "source": [
    "logistic_model"
   ]
  },
  {
   "cell_type": "markdown",
   "id": "557018cf",
   "metadata": {},
   "source": [
    "Because most of algorithms we use have only one hyperparameter, we write function `Run_One_Hyper_Model` to train and evaluate that algorithms. The function takes `top_winds` and `model` as the parameters. `top_winds` is a list of `num_top_wind`. The function returns traning errors, validation errors, the best validation error and the best value of hyperparameter."
   ]
  },
  {
   "cell_type": "code",
   "execution_count": 26,
   "id": "193c4024",
   "metadata": {},
   "outputs": [],
   "source": [
    "# logistic_model.get_params().keys()\n",
    "def Run_One_Hyper_Model(top_winds, model):\n",
    "    train_errs = []\n",
    "    val_errs = []\n",
    "    best_val_err = -float('inf')\n",
    "    best_num_top_wind = None\n",
    "#     top_winds = [4, 6, 8, 10, 14]\n",
    "    for num_top_wind in top_winds:\n",
    "        model.set_params(pipeline__preprocess_cate__num_top_wind=num_top_wind)\n",
    "        model.fit(train_X_df, train_y_sr)\n",
    "        train_preds = model.predict(train_X_df)\n",
    "        train_errs.append(f1_score(train_y_sr, train_preds, pos_label = 'Rain'))\n",
    "        val_preds = model.predict(val_X_df)\n",
    "        val_errs.append(f1_score(val_y_sr, val_preds,  pos_label = 'Rain'))\n",
    "        if val_errs[-1] > best_val_err:\n",
    "            best_val_err = val_errs[-1]\n",
    "            best_num_top_wind = num_top_wind\n",
    "      \n",
    "    return train_errs, val_errs, best_val_err, best_num_top_wind\n",
    "\n",
    "# logistic_train_errs, logistic_val_errs, logistic_best, best_num_top_wind = Run_Linear_Model([1, 2, 3, 4, 5, 6, 7, 8, 10, 14, 18], logistic_model)\n",
    "# logistic_model.fit(train_X_df, train_y_sr)"
   ]
  },
  {
   "cell_type": "markdown",
   "id": "dc1553c3",
   "metadata": {},
   "source": [
    "`Draw_Train_Val_errs` is the function to plot training and validation errors for easlier judge model."
   ]
  },
  {
   "cell_type": "code",
   "execution_count": 27,
   "id": "61ff1b8b",
   "metadata": {},
   "outputs": [],
   "source": [
    "def Draw_Train_Val_errs(train_errs, val_errs, top_winds):\n",
    "    plt.figure(figsize=(10, 5))\n",
    "    plt.plot(top_winds, train_errs, 'o-', color = 'red')\n",
    "    plt.plot(top_winds, val_errs, 'o-', color='blue')\n",
    "    plt.show()\n",
    "    \n",
    "# Draw_Train_Val_errs(logistic_train_errs, logistic_val_errs, [1, 2, 3, 4, 5, 6, 7, 8, 10, 14, 18])"
   ]
  },
  {
   "cell_type": "markdown",
   "id": "144da1b8",
   "metadata": {},
   "source": [
    "The result of logistic regression model"
   ]
  },
  {
   "cell_type": "code",
   "execution_count": 28,
   "id": "8782bb2f",
   "metadata": {},
   "outputs": [
    {
     "name": "stdout",
     "output_type": "stream",
     "text": [
      "Best hyperparameter: 1\n",
      "Best validation errors: 0.2\n"
     ]
    },
    {
     "data": {
      "image/png": "[encoded data removed]",
      "text/plain": [
       "<Figure size 720x360 with 1 Axes>"
      ]
     },
     "metadata": {},
     "output_type": "display_data"
    }
   ],
   "source": [
    "logistic_train_errs, logistic_val_errs, logistic_best, logistic_wind = Run_One_Hyper_Model([1, 2, 3, 4, 5, 6, 7, 8, 10, 14, 18], logistic_model)\n",
    "print('Best hyperparameter: {0}'.format(logistic_wind))\n",
    "print('Best validation errors: {0}'.format(logistic_best))\n",
    "Draw_Train_Val_errs(logistic_train_errs, logistic_val_errs, [1, 2, 3, 4, 5, 6, 7, 8, 10, 14, 18])"
   ]
  },
  {
   "cell_type": "markdown",
   "id": "478e51ad",
   "metadata": {},
   "source": [
    "**Comments:**\n",
    "* The model is underfiting\n",
    "* Feature `wind` does not effect on model"
   ]
  },
  {
   "cell_type": "markdown",
   "id": "6596c78a",
   "metadata": {},
   "source": [
    "### Linear SVM\n"
   ]
  },
  {
   "cell_type": "code",
   "execution_count": 29,
   "id": "2ad3f7ff",
   "metadata": {},
   "outputs": [],
   "source": [
    "svm_linear = make_pipeline(preprocess_pipeline, SVC(kernel='linear', max_iter=-1))\n",
    "linear_svm_train_errs, linear_svm_val_errs, linear_svm_best, linear_svm_num_top_wind = Run_One_Hyper_Model([1, 2, 3, 4, 5, 6, 7, 8, 10, 14, 18], svm_linear)"
   ]
  },
  {
   "cell_type": "code",
   "execution_count": 30,
   "id": "89f18705",
   "metadata": {},
   "outputs": [
    {
     "name": "stdout",
     "output_type": "stream",
     "text": [
      "Best hyperparameter: 1\n",
      "Best validation errors: 0.0\n"
     ]
    },
    {
     "data": {
      "image/png": "[encoded data removed]",
      "text/plain": [
       "<Figure size 720x360 with 1 Axes>"
      ]
     },
     "metadata": {},
     "output_type": "display_data"
    }
   ],
   "source": [
    "print('Best hyperparameter: {0}'.format(linear_svm_num_top_wind))\n",
    "print('Best validation errors: {0}'.format(linear_svm_best))\n",
    "Draw_Train_Val_errs(linear_svm_train_errs, linear_svm_val_errs, [1, 2, 3, 4, 5, 6, 7, 8, 10, 14, 18])"
   ]
  },
  {
   "cell_type": "markdown",
   "id": "d283b871",
   "metadata": {},
   "source": [
    "**Comment:**\n",
    "* The model is underfitting\n",
    "* It is even bad than logistic regression\n",
    "* Feature `wind` does not effect on model"
   ]
  },
  {
   "cell_type": "markdown",
   "id": "d5ac3a9c",
   "metadata": {},
   "source": [
    "## No-linear models\n",
    "### kNN model\n",
    "kNN model has 2 hyperparameters, the number of neighbors and the number of top wind."
   ]
  },
  {
   "cell_type": "code",
   "execution_count": 31,
   "id": "dd830211",
   "metadata": {},
   "outputs": [],
   "source": [
    "from sklearn.neighbors import KNeighborsClassifier"
   ]
  },
  {
   "cell_type": "code",
   "execution_count": 32,
   "id": "5c672b00",
   "metadata": {},
   "outputs": [],
   "source": [
    "knn_model = make_pipeline(preprocess_pipeline, KNeighborsClassifier())\n",
    "n_neighbors_s = [5, 7, 9, 11, 13]\n",
    "knn_train_errs, knn_val_errs, knn_best, knn_neighbors, knn_num_top_wind = [], [], -float('inf'), None, None\n",
    "for n_neighbors in n_neighbors_s:\n",
    "    knn_model.set_params(kneighborsclassifier__n_neighbors=n_neighbors)\n",
    "    train_errs, val_errs, best_val, best_para = Run_One_Hyper_Model([4, 6, 8, 10, 14], knn_model)\n",
    "    knn_train_errs.append(train_errs)\n",
    "    knn_val_errs.append(val_errs)\n",
    "    if best_val > knn_best:\n",
    "        knn_best = best_val\n",
    "        knn_num_top_wind = best_para\n",
    "        knn_neighbors = n_neighbors\n",
    "\n",
    "# knn_train_errs, knn_val_errs, knn_best, knn_num_top_wind = Run_One_Hyper_Model([1, 2, 3, 4, 5, 6, 7, 8, 10, 14, 18], knn_model)"
   ]
  },
  {
   "cell_type": "code",
   "execution_count": 33,
   "id": "1fa7b074",
   "metadata": {},
   "outputs": [],
   "source": [
    "def Table_Train_Val_errs(train_errs, val_errs, index, columns, xlabel, ylabel):\n",
    "    train_errs_df = pd.DataFrame(data=np.array(train_errs),\n",
    "                             index=index, columns=columns)\n",
    "    val_errs_df = pd.DataFrame(data=np.array(val_errs), index=index, columns=columns)\n",
    "    min_err = min(np.array(train_errs).min(), np.array(val_errs).min())\n",
    "    max_err = max(np.array(train_errs).max(), np.array(val_errs).max())\n",
    "    plt.figure(figsize=(10, 5))\n",
    "    plt.subplot(1, 2, 1)\n",
    "    sns.heatmap(train_errs_df, vmin=min_err, vmax=max_err, square=True, \n",
    "                annot=True, cbar=False, fmt='.1f', cmap='Reds')\n",
    "    plt.title('train errors'); plt.xlabel(xlabel); plt.ylabel(ylabel)\n",
    "    plt.subplot(1, 2, 2)\n",
    "    sns.heatmap(val_errs_df, vmin=min_err, vmax=max_err, square=True, \n",
    "                annot=True, cbar=False, fmt='.1f', cmap='Reds')\n",
    "    plt.title('validation errors'); plt.xlabel(xlabel); plt.ylabel(ylabel);"
   ]
  },
  {
   "cell_type": "code",
   "execution_count": 34,
   "id": "13f5ca78",
   "metadata": {},
   "outputs": [
    {
     "name": "stdout",
     "output_type": "stream",
     "text": [
      "Best num_top_wind: 4\n",
      "Best neighbors: 5\n",
      "Best validation errors: 0.07894736842105263\n"
     ]
    },
    {
     "data": {
      "image/png": "[encoded data removed]",
      "text/plain": [
       "<Figure size 720x360 with 2 Axes>"
      ]
     },
     "metadata": {},
     "output_type": "display_data"
    }
   ],
   "source": [
    "print('Best num_top_wind: {0}'.format(knn_num_top_wind))\n",
    "print('Best neighbors: {0}'.format(knn_neighbors))\n",
    "print('Best validation errors: {0}'.format(knn_best))\n",
    "Table_Train_Val_errs(knn_train_errs, knn_val_errs, [5, 7, 9, 11, 13], [4, 6, 8, 10, 14], 'num_top_wind', 'neighbors')"
   ]
  },
  {
   "cell_type": "markdown",
   "id": "c3038834",
   "metadata": {},
   "source": [
    "**Comment:**\n",
    "* The model is underfitting\n",
    "* It is even bad than linear models\n",
    "* Feature `wind` does not effect on model\n",
    "* As low hyperparameter `neighbors`, as good model is"
   ]
  },
  {
   "cell_type": "markdown",
   "id": "eb1bffbb",
   "metadata": {},
   "source": [
    "### Nonlinear SVM\n",
    "#### Kernel: Poly\n",
    "We use kernel poly. The model has 2 hyperparameters, the degreeses of poly and the number of top wind."
   ]
  },
  {
   "cell_type": "code",
   "execution_count": 35,
   "id": "c70538ef",
   "metadata": {},
   "outputs": [],
   "source": [
    "svm_nonlinear = make_pipeline(preprocess_pipeline, SVC(kernel = 'poly', max_iter=-1))\n",
    "degreeses = [2, 3, 4]\n",
    "svm_nonlinear_train_errs, svm_nonlinear_val_errs, svm_nonlinear_best, svm_nonlinear_degrees, svm_nonlinear_num_top_wind = [], [], -float('inf'), None, None\n",
    "for degrees in degreeses:\n",
    "    svm_nonlinear.set_params(svc__degree=degrees)\n",
    "    train_errs, val_errs, best_val, best_para = Run_One_Hyper_Model([4, 6, 8, 10, 14], svm_nonlinear)\n",
    "    svm_nonlinear_train_errs.append(train_errs)\n",
    "    svm_nonlinear_val_errs.append(val_errs)\n",
    "    if best_val > svm_nonlinear_best:\n",
    "        svm_nonlinear_best = best_val\n",
    "        svm_nonlinear_num_top_wind = best_para\n",
    "        svm_nonlinear_degrees = degrees\n",
    "\n",
    "# svm_nonlinear = make_pipeline(preprocess_pipeline, SVC(kernel = 'poly', max_iter=-1))\n",
    "# svm_nonlinear_train_errs, svm_nonlinear_val_errs, svm_nonlinear_best, svm_nonlinear_num_top_wind = Run_Linear_Model([1, 2, 3, 4, 5, 6, 7, 8, 10, 14, 18], svm_nonlinear)"
   ]
  },
  {
   "cell_type": "code",
   "execution_count": 36,
   "id": "1e97c619",
   "metadata": {},
   "outputs": [
    {
     "name": "stdout",
     "output_type": "stream",
     "text": [
      "Best num_top_wind: 4\n",
      "Best degrees: 2\n",
      "Best validation errors: 0.0\n"
     ]
    },
    {
     "data": {
      "image/png": "[encoded data removed]",
      "text/plain": [
       "<Figure size 720x360 with 2 Axes>"
      ]
     },
     "metadata": {},
     "output_type": "display_data"
    }
   ],
   "source": [
    "print('Best num_top_wind: {0}'.format(svm_nonlinear_num_top_wind))\n",
    "print('Best degrees: {0}'.format(svm_nonlinear_degrees))\n",
    "print('Best validation errors: {0}'.format(svm_nonlinear_best))\n",
    "Table_Train_Val_errs(svm_nonlinear_train_errs, svm_nonlinear_val_errs, [2, 3, 4], [4, 6, 8, 10, 14], 'num_top_wind', 'degrees')"
   ]
  },
  {
   "cell_type": "markdown",
   "id": "a991a57e",
   "metadata": {},
   "source": [
    "**Comment:**\n",
    "* The model is underfitting\n",
    "* It is the worst\n",
    "* Feature `wind` does not affect on model"
   ]
  },
  {
   "cell_type": "markdown",
   "id": "ed77832f",
   "metadata": {},
   "source": [
    "## Tree\n",
    "### Decision Tree"
   ]
  },
  {
   "cell_type": "code",
   "execution_count": 37,
   "id": "6edd154e",
   "metadata": {},
   "outputs": [],
   "source": [
    "from sklearn.tree import DecisionTreeClassifier"
   ]
  },
  {
   "cell_type": "code",
   "execution_count": 38,
   "id": "f4faad12",
   "metadata": {},
   "outputs": [],
   "source": [
    "tree_model = make_pipeline(preprocess_pipeline, DecisionTreeClassifier())\n",
    "tree_train_errs, tree_val_errs, tree_best, tree_num_top_wind = Run_One_Hyper_Model([1, 2, 3, 4, 5, 6, 7, 8, 10, 14, 18], tree_model)"
   ]
  },
  {
   "cell_type": "code",
   "execution_count": 39,
   "id": "08a02d7c",
   "metadata": {},
   "outputs": [
    {
     "name": "stdout",
     "output_type": "stream",
     "text": [
      "Best num_top_wind: 7\n",
      "Best validation errors: 0.4426229508196721\n"
     ]
    },
    {
     "data": {
      "image/png": "[encoded data removed]",
      "text/plain": [
       "<Figure size 720x360 with 1 Axes>"
      ]
     },
     "metadata": {},
     "output_type": "display_data"
    }
   ],
   "source": [
    "print('Best num_top_wind: {0}'.format(tree_num_top_wind))\n",
    "print('Best validation errors: {0}'.format(tree_best))\n",
    "Draw_Train_Val_errs(tree_train_errs, tree_val_errs, [1, 2, 3, 4, 5, 6, 7, 8, 10, 14, 18])"
   ]
  },
  {
   "cell_type": "markdown",
   "id": "17259e13",
   "metadata": {},
   "source": [
    "**Comment:**\n",
    "* The model is very overfitting, the score is high on training set but low in on validation\n",
    "* It has the best perfrom from now\n",
    "* We do know why the best `num_top_wind` is 18"
   ]
  },
  {
   "cell_type": "markdown",
   "id": "a0f3a547",
   "metadata": {},
   "source": [
    "### Random forest\n",
    "This model has 2 hyperparameters. The first is `max_depth`, we use it to prevent overfitting. "
   ]
  },
  {
   "cell_type": "code",
   "execution_count": 40,
   "id": "653d68a1",
   "metadata": {},
   "outputs": [],
   "source": [
    "from sklearn.ensemble import RandomForestClassifier"
   ]
  },
  {
   "cell_type": "code",
   "execution_count": 41,
   "id": "c64038d3",
   "metadata": {},
   "outputs": [],
   "source": [
    "trees_model = make_pipeline(preprocess_pipeline, RandomForestClassifier())\n",
    "trees_train_errs, trees_val_errs, trees_best, trees_max_depth, trees_num_top_wind = [], [], -float('inf'), None, None\n",
    "max_depths = [3, 5, 8, 10, 15]\n",
    "for max_depth in max_depths:\n",
    "    trees_model.set_params(randomforestclassifier__max_depth=max_depth)\n",
    "    train_errs, val_errs, best_val, best_para = Run_One_Hyper_Model([4, 6, 8, 10, 14], trees_model)\n",
    "    trees_train_errs.append(train_errs)\n",
    "    trees_val_errs.append(val_errs)\n",
    "    if best_val > trees_best:\n",
    "        trees_best = best_val\n",
    "        trees_num_top_wind = best_para\n",
    "        trees_max_depth = max_depth\n",
    "\n",
    "# trees_train_errs, trees_val_errs, trees_best, trees_num_top_wind = Run_One_Hyper_Model([1, 2, 3, 4, 5, 6, 7, 8, 10, 14, 18], tree_model)"
   ]
  },
  {
   "cell_type": "code",
   "execution_count": 42,
   "id": "d7a5134b",
   "metadata": {},
   "outputs": [
    {
     "name": "stdout",
     "output_type": "stream",
     "text": [
      "Best num_top_wind: 10\n",
      "Best max_depth: 15\n",
      "Best validation errors: 0.29885057471264365\n"
     ]
    },
    {
     "data": {
      "image/png": "[encoded data removed]",
      "text/plain": [
       "<Figure size 720x360 with 2 Axes>"
      ]
     },
     "metadata": {},
     "output_type": "display_data"
    }
   ],
   "source": [
    "print('Best num_top_wind: {0}'.format(trees_num_top_wind))\n",
    "print('Best max_depth: {0}'.format(trees_max_depth))\n",
    "print('Best validation errors: {0}'.format(trees_best))\n",
    "Table_Train_Val_errs(trees_train_errs, trees_val_errs, [3, 5, 8, 10, 15], [4, 6, 8, 10, 14], 'num_top_wind', 'max_depth')"
   ]
  },
  {
   "cell_type": "markdown",
   "id": "ac1a225c",
   "metadata": {},
   "source": [
    "**Comment:**\n",
    "* The model is overfitting, the error is high on training set but low in on validation\n",
    "* It has the best perfrom from now\n",
    "* As large `max_depth` is, as overfitting model is, and as high the f1 score validation is.\n",
    "* Feature `wind` seems does not effect very much"
   ]
  },
  {
   "cell_type": "markdown",
   "id": "1115bfda",
   "metadata": {},
   "source": [
    "## Deep learning: Muti layer perceptron\n"
   ]
  },
  {
   "cell_type": "code",
   "execution_count": 43,
   "id": "114c3aa8",
   "metadata": {},
   "outputs": [],
   "source": [
    "from sklearn.neural_network import MLPClassifier\n",
    "mlp_model = make_pipeline(preprocess_pipeline, MLPClassifier(hidden_layer_sizes = (100)))\n",
    "mlp_train_errs, mlp_val_errs, mlp_best, mlp_alpha, mlp_num_top_wind = [], [], -float('inf'), None, None\n",
    "alphas = [0.001, 0.01, 0.1, 1, 10]\n",
    "for alpha in alphas:\n",
    "    mlp_model.set_params(mlpclassifier__alpha=alpha)\n",
    "    train_errs, val_errs, best_val, best_para = Run_One_Hyper_Model([4, 6, 8, 10, 14], mlp_model)\n",
    "    mlp_train_errs.append(train_errs)\n",
    "    mlp_val_errs.append(val_errs)\n",
    "    if best_val > mlp_best:\n",
    "        mlp_best = best_val\n",
    "        mlp_num_top_wind = best_para\n",
    "        mlp_alpha = alpha"
   ]
  },
  {
   "cell_type": "code",
   "execution_count": 44,
   "id": "d450226a",
   "metadata": {},
   "outputs": [
    {
     "name": "stdout",
     "output_type": "stream",
     "text": [
      "Best num_top_wind: 8\n",
      "Best alpha: 0.01\n",
      "Best validation errors: 0.1894736842105263\n"
     ]
    },
    {
     "data": {
      "image/png": "[encoded data removed]",
      "text/plain": [
       "<Figure size 720x360 with 2 Axes>"
      ]
     },
     "metadata": {},
     "output_type": "display_data"
    }
   ],
   "source": [
    "print('Best num_top_wind: {0}'.format(mlp_num_top_wind))\n",
    "print('Best alpha: {0}'.format(mlp_alpha))\n",
    "print('Best validation errors: {0}'.format(mlp_best))\n",
    "Table_Train_Val_errs(mlp_train_errs, mlp_val_errs, [0.001, 0.01, 0.1, 1, 10], [4, 6, 8, 10, 14], 'num_top_wind', 'alpha')"
   ]
  },
  {
   "cell_type": "markdown",
   "id": "2b8eb2a0",
   "metadata": {},
   "source": [
    "**Comments:**\n",
    "* "
   ]
  },
  {
   "cell_type": "markdown",
   "id": "d0fea2f7",
   "metadata": {},
   "source": [
    "# Observation:\n",
    "* Simple models such as linear models have better results than more complex models, like SVM, kNN.\n",
    "* As more onverfitting models (decision tree, random forest)\n",
    "## Explain\n",
    "* Because our data is skew to much, so that, the complex models (such as SVM, kNN) try to fit the dominated class than the minority class, therefore, their results is low.\n",
    "* The more overfitting models (decision tree, random forest) try to fit all data. Despite they fit too much but at least they try to fit, therefore, their results is quite better.\n",
    "## Conclusion\n",
    "So the main reason, that makes our algorithms is too week, is the unblance data and the data is not enough. We have some idea to fix it:\n",
    "* Collect more data\n",
    "* Oversample data\n",
    "* Use more proper algorithms"
   ]
  },
  {
   "cell_type": "code",
   "execution_count": null,
   "id": "ac2ee360",
   "metadata": {},
   "outputs": [],
   "source": []
  }
 ],
 "metadata": {
  "kernelspec": {
   "display_name": "Python 3 (ipykernel)",
   "language": "python",
   "name": "python3"
  },
  "language_info": {
   "codemirror_mode": {
    "name": "ipython",
    "version": 3
   },
   "file_extension": ".py",
   "mimetype": "text/x-python",
   "name": "python",
   "nbconvert_exporter": "python",
   "pygments_lexer": "ipython3",
   "version": "3.8.3"
  },
  "toc": {
   "base_numbering": 1,
   "nav_menu": {},
   "number_sections": false,
   "sideBar": true,
   "skip_h1_title": false,
   "title_cell": "Table of Contents",
   "title_sidebar": "Contents",
   "toc_cell": false,
   "toc_position": {},
   "toc_section_display": true,
   "toc_window_display": false
  }
 },
 "nbformat": 4,
 "nbformat_minor": 5
}
