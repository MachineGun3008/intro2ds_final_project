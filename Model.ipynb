{
 "cells": [
  {
   "cell_type": "markdown",
   "id": "a6213500",
   "metadata": {},
   "source": [
    "## Models\n",
    "### Split data into training, validation and testing"
   ]
  },
  {
   "cell_type": "code",
   "execution_count": 1,
   "id": "1fff9a17",
   "metadata": {},
   "outputs": [],
   "source": [
    "%matplotlib inline\n",
    "import matplotlib.pyplot as plt\n",
    "import numpy as np\n",
    "import pandas as pd\n",
    "import seaborn as sns\n",
    "\n",
    "import re\n",
    "\n",
    "from sklearn.model_selection import train_test_split\n",
    "from sklearn.preprocessing import OneHotEncoder, StandardScaler\n",
    "from sklearn.impute import SimpleImputer\n",
    "from sklearn.base import BaseEstimator, TransformerMixin\n",
    "from sklearn.pipeline import Pipeline, make_pipeline\n",
    "from sklearn.compose import ColumnTransformer, make_column_transformer\n",
    "from sklearn.neural_network import MLPClassifier\n",
    "from sklearn import set_config\n",
    "set_config(display='diagram') # Để trực quan hóa pipeline\n",
    "from sklearn.utils import shuffle"
   ]
  },
  {
   "cell_type": "code",
   "execution_count": 2,
   "id": "6ae228e5",
   "metadata": {},
   "outputs": [],
   "source": [
    "df = pd.read_csv('data/Preprossing_data.csv')"
   ]
  },
  {
   "cell_type": "markdown",
   "id": "8a0d6f49",
   "metadata": {},
   "source": [
    "We shuffle data"
   ]
  },
  {
   "cell_type": "code",
   "execution_count": 3,
   "id": "5eb3eb55",
   "metadata": {},
   "outputs": [
    {
     "data": {
      "text/html": [
       "<div>\n",
       "<style scoped>\n",
       "    .dataframe tbody tr th:only-of-type {\n",
       "        vertical-align: middle;\n",
       "    }\n",
       "\n",
       "    .dataframe tbody tr th {\n",
       "        vertical-align: top;\n",
       "    }\n",
       "\n",
       "    .dataframe thead th {\n",
       "        text-align: right;\n",
       "    }\n",
       "</style>\n",
       "<table border=\"1\" class=\"dataframe\">\n",
       "  <thead>\n",
       "    <tr style=\"text-align: right;\">\n",
       "      <th></th>\n",
       "      <th>date</th>\n",
       "      <th>time</th>\n",
       "      <th>temperature</th>\n",
       "      <th>dew_point</th>\n",
       "      <th>humidity</th>\n",
       "      <th>wind</th>\n",
       "      <th>wind_speed</th>\n",
       "      <th>wind_gust</th>\n",
       "      <th>pressure</th>\n",
       "      <th>precip.</th>\n",
       "      <th>condition</th>\n",
       "    </tr>\n",
       "  </thead>\n",
       "  <tbody>\n",
       "    <tr>\n",
       "      <th>573</th>\n",
       "      <td>2021-07-12</td>\n",
       "      <td>10:30 PM</td>\n",
       "      <td>81</td>\n",
       "      <td>77</td>\n",
       "      <td>89</td>\n",
       "      <td>VAR</td>\n",
       "      <td>3</td>\n",
       "      <td>0</td>\n",
       "      <td>29.79</td>\n",
       "      <td>0.0</td>\n",
       "      <td>Others</td>\n",
       "    </tr>\n",
       "    <tr>\n",
       "      <th>1875</th>\n",
       "      <td>2021-08-09</td>\n",
       "      <td>5:00 AM</td>\n",
       "      <td>82</td>\n",
       "      <td>79</td>\n",
       "      <td>89</td>\n",
       "      <td>SW</td>\n",
       "      <td>9</td>\n",
       "      <td>0</td>\n",
       "      <td>29.73</td>\n",
       "      <td>0.0</td>\n",
       "      <td>Others</td>\n",
       "    </tr>\n",
       "    <tr>\n",
       "      <th>2965</th>\n",
       "      <td>2021-08-31</td>\n",
       "      <td>11:00 PM</td>\n",
       "      <td>79</td>\n",
       "      <td>77</td>\n",
       "      <td>94</td>\n",
       "      <td>CALM</td>\n",
       "      <td>0</td>\n",
       "      <td>0</td>\n",
       "      <td>29.79</td>\n",
       "      <td>0.0</td>\n",
       "      <td>Others</td>\n",
       "    </tr>\n",
       "    <tr>\n",
       "      <th>2791</th>\n",
       "      <td>2021-08-28</td>\n",
       "      <td>8:00 AM</td>\n",
       "      <td>81</td>\n",
       "      <td>77</td>\n",
       "      <td>89</td>\n",
       "      <td>VAR</td>\n",
       "      <td>1</td>\n",
       "      <td>0</td>\n",
       "      <td>29.73</td>\n",
       "      <td>0.0</td>\n",
       "      <td>Others</td>\n",
       "    </tr>\n",
       "    <tr>\n",
       "      <th>2056</th>\n",
       "      <td>2021-08-12</td>\n",
       "      <td>11:30 PM</td>\n",
       "      <td>82</td>\n",
       "      <td>77</td>\n",
       "      <td>84</td>\n",
       "      <td>VAR</td>\n",
       "      <td>2</td>\n",
       "      <td>0</td>\n",
       "      <td>29.82</td>\n",
       "      <td>0.0</td>\n",
       "      <td>Others</td>\n",
       "    </tr>\n",
       "  </tbody>\n",
       "</table>\n",
       "</div>"
      ],
      "text/plain": [
       "            date      time  temperature  dew_point  humidity  wind  \\\n",
       "573   2021-07-12  10:30 PM           81         77        89   VAR   \n",
       "1875  2021-08-09   5:00 AM           82         79        89    SW   \n",
       "2965  2021-08-31  11:00 PM           79         77        94  CALM   \n",
       "2791  2021-08-28   8:00 AM           81         77        89   VAR   \n",
       "2056  2021-08-12  11:30 PM           82         77        84   VAR   \n",
       "\n",
       "      wind_speed  wind_gust  pressure  precip. condition  \n",
       "573            3          0     29.79      0.0    Others  \n",
       "1875           9          0     29.73      0.0    Others  \n",
       "2965           0          0     29.79      0.0    Others  \n",
       "2791           1          0     29.73      0.0    Others  \n",
       "2056           2          0     29.82      0.0    Others  "
      ]
     },
     "execution_count": 3,
     "metadata": {},
     "output_type": "execute_result"
    }
   ],
   "source": [
    "df_shuffle = shuffle(df, random_state=4)\n",
    "df_shuffle.head(5)"
   ]
  },
  {
   "cell_type": "markdown",
   "id": "405e1e33",
   "metadata": {},
   "source": [
    "Separate `condition` from data"
   ]
  },
  {
   "cell_type": "code",
   "execution_count": 4,
   "id": "ed0750ec",
   "metadata": {},
   "outputs": [],
   "source": [
    "y_sr = df_shuffle['condition']\n",
    "X_df = df_shuffle.drop(columns='condition')"
   ]
  },
  {
   "cell_type": "markdown",
   "id": "27a42fcd",
   "metadata": {},
   "source": [
    "We split data into training and testing set with $80\\%$, $20\\%$ respectively"
   ]
  },
  {
   "cell_type": "code",
   "execution_count": 5,
   "id": "8b0f7d7a",
   "metadata": {},
   "outputs": [],
   "source": [
    "X_df, test_X_df, y_sr, test_y_sr = train_test_split(X_df, y_sr, test_size=0.2, random_state=0)"
   ]
  },
  {
   "cell_type": "code",
   "execution_count": 6,
   "id": "85b6fe83",
   "metadata": {},
   "outputs": [
    {
     "data": {
      "text/plain": [
       "(2523, 10)"
      ]
     },
     "execution_count": 6,
     "metadata": {},
     "output_type": "execute_result"
    }
   ],
   "source": [
    "X_df.shape"
   ]
  },
  {
   "cell_type": "code",
   "execution_count": 7,
   "id": "00709823",
   "metadata": {},
   "outputs": [
    {
     "data": {
      "text/plain": [
       "(2523,)"
      ]
     },
     "execution_count": 7,
     "metadata": {},
     "output_type": "execute_result"
    }
   ],
   "source": [
    "y_sr.shape"
   ]
  },
  {
   "cell_type": "code",
   "execution_count": 8,
   "id": "b1b743f3",
   "metadata": {},
   "outputs": [
    {
     "data": {
      "text/plain": [
       "(631, 10)"
      ]
     },
     "execution_count": 8,
     "metadata": {},
     "output_type": "execute_result"
    }
   ],
   "source": [
    "test_X_df.shape"
   ]
  },
  {
   "cell_type": "code",
   "execution_count": 9,
   "id": "ab0fbf5a",
   "metadata": {},
   "outputs": [
    {
     "data": {
      "text/plain": [
       "(631,)"
      ]
     },
     "execution_count": 9,
     "metadata": {},
     "output_type": "execute_result"
    }
   ],
   "source": [
    "test_y_sr.shape"
   ]
  },
  {
   "cell_type": "markdown",
   "id": "ff217066",
   "metadata": {},
   "source": [
    "Let check the distribution of two set"
   ]
  },
  {
   "cell_type": "code",
   "execution_count": 10,
   "id": "66e85990",
   "metadata": {},
   "outputs": [
    {
     "data": {
      "text/plain": [
       "Others    2259\n",
       "Rain       264\n",
       "Name: condition, dtype: int64"
      ]
     },
     "execution_count": 10,
     "metadata": {},
     "output_type": "execute_result"
    }
   ],
   "source": [
    "y_sr.value_counts()"
   ]
  },
  {
   "cell_type": "code",
   "execution_count": 11,
   "id": "a59764a4",
   "metadata": {},
   "outputs": [
    {
     "data": {
      "image/png": "[encoded data removed]",
      "text/plain": [
       "<Figure size 1440x1440 with 1 Axes>"
      ]
     },
     "metadata": {},
     "output_type": "display_data"
    }
   ],
   "source": [
    "y_sr.value_counts().plot.pie(figsize=(20, 20))\n",
    "plt.show()"
   ]
  },
  {
   "cell_type": "code",
   "execution_count": 12,
   "id": "f4b62f89",
   "metadata": {},
   "outputs": [
    {
     "data": {
      "text/plain": [
       "Others    572\n",
       "Rain       59\n",
       "Name: condition, dtype: int64"
      ]
     },
     "execution_count": 12,
     "metadata": {},
     "output_type": "execute_result"
    }
   ],
   "source": [
    "test_y_sr.value_counts()"
   ]
  },
  {
   "cell_type": "code",
   "execution_count": 13,
   "id": "7434e583",
   "metadata": {},
   "outputs": [
    {
     "data": {
      "image/png": "[encoded data removed]",
      "text/plain": [
       "<Figure size 1440x1440 with 1 Axes>"
      ]
     },
     "metadata": {},
     "output_type": "display_data"
    }
   ],
   "source": [
    "test_y_sr.value_counts().plot.pie(figsize=(20, 20))\n",
    "plt.show()"
   ]
  },
  {
   "cell_type": "markdown",
   "id": "77bb512f",
   "metadata": {},
   "source": [
    "The distribution of two set is approximate  \n",
    "Next, we split training data into training and validation set"
   ]
  },
  {
   "cell_type": "code",
   "execution_count": 14,
   "id": "ac1fab9f",
   "metadata": {},
   "outputs": [],
   "source": [
    "train_X_df, val_X_df, train_y_sr, val_y_sr = train_test_split(X_df, y_sr, test_size=0.25, random_state=0)"
   ]
  },
  {
   "cell_type": "code",
   "execution_count": 15,
   "id": "bb859aa8",
   "metadata": {},
   "outputs": [
    {
     "data": {
      "image/png": "[encoded data removed]",
      "text/plain": [
       "<Figure size 1440x1440 with 1 Axes>"
      ]
     },
     "metadata": {},
     "output_type": "display_data"
    }
   ],
   "source": [
    "train_y_sr.value_counts().plot.pie(figsize=(20, 20))\n",
    "plt.show()"
   ]
  },
  {
   "cell_type": "code",
   "execution_count": 16,
   "id": "2d262208",
   "metadata": {},
   "outputs": [
    {
     "data": {
      "image/png": "[encoded data removed]",
      "text/plain": [
       "<Figure size 1440x1440 with 1 Axes>"
      ]
     },
     "metadata": {},
     "output_type": "display_data"
    }
   ],
   "source": [
    "val_y_sr.value_counts().plot.pie(figsize=(20, 20))\n",
    "plt.show()"
   ]
  },
  {
   "cell_type": "markdown",
   "id": "c6f47dce",
   "metadata": {},
   "source": [
    "Save training, validation, testing data"
   ]
  },
  {
   "cell_type": "code",
   "execution_count": 17,
   "id": "72a6a957",
   "metadata": {},
   "outputs": [],
   "source": [
    "pd.concat([train_X_df, train_y_sr], axis=1).to_csv('data/training.csv', index=False)\n",
    "pd.concat([val_X_df, val_y_sr], axis=1).to_csv('data/validation.csv', index=False)\n",
    "pd.concat([test_X_df, test_y_sr], axis=1).to_csv('data/testing.csv', index=False)"
   ]
  },
  {
   "cell_type": "markdown",
   "id": "47cdb151",
   "metadata": {},
   "source": [
    "## Preprocess data\n",
    "After spliting data, we can free to preprocess data. Accroding to analysis in exploring data. There are what we will do:\n",
    "* Remove `precip.`, `wind_gust` columns because it does not supply any useful information.\n",
    "* Remove `date` column. The month can effect on weather, but the data we have only 3 months (July, August, September), therfore with new data, which occure in another months, model can be confused. In addition, we want to make model learning online, it means the data and model will be updated frequently, so that we think `date` column is not useful.\n",
    "* With two unorder categorical columns `time` and `wind`, we use one hot encoding, in addition, because some values in wind appear very few, so that, we use a hyperparameter to keep the most frequent values."
   ]
  },
  {
   "cell_type": "code",
   "execution_count": 3,
   "id": "d8b4fdf1",
   "metadata": {},
   "outputs": [],
   "source": [
    "train_X_df = pd.read_csv('data/training.csv')\n",
    "train_y_sr = train_X_df['condition']\n",
    "train_X_df.drop(columns='condition', inplace=True)\n",
    "\n",
    "val_X_df = pd.read_csv('data/validation.csv')\n",
    "val_y_sr = val_X_df['condition']\n",
    "val_X_df.drop(columns='condition', inplace=True)\n",
    "\n",
    "test_X_df = pd.read_csv('data/testing.csv')\n",
    "test_y_sr = test_X_df['condition']\n",
    "test_X_df.drop(columns='condition', inplace=True)"
   ]
  },
  {
   "cell_type": "code",
   "execution_count": 4,
   "id": "b0581dbf",
   "metadata": {},
   "outputs": [],
   "source": [
    "class Preprocess(BaseEstimator, TransformerMixin):\n",
    "    def __init__(self, num_top_wind=1):\n",
    "        self.num_top_wind = num_top_wind\n",
    "    def fit(self, X_df, y=None):\n",
    "        wind_col = X_df.wind\n",
    "        self.wind_counts_ = wind_col.value_counts()\n",
    "        wind = list(self.wind_counts_.index)\n",
    "        self.top_wind_ = wind[:max(1, min(self.num_top_wind, len(wind)))]\n",
    "        return self\n",
    "    def transform(self, X_df, y=None):\n",
    "        temp_df = X_df.copy(deep = True)\n",
    "        wind_col = temp_df.wind.str.extract(r'([A-Z]+)',expand = False)\n",
    "        wind_col[~wind_col.isin(self.top_wind_)] = 'Others'\n",
    "        temp_df['day_night'] =  temp_df.time.str.extract(r'([A-Z]+)')\n",
    "        temp = pd.DataFrame(temp_df.time.str.split().tolist(),columns = ['t','dn'])\n",
    "        temp_df['time'] = list(temp['t'])\n",
    "        temp_df.drop(['precip.','date','wind_gust'], axis=1, inplace=True)\n",
    "        return temp_df"
   ]
  },
  {
   "cell_type": "markdown",
   "id": "d59b59ea",
   "metadata": {},
   "source": [
    "Test `Preprocess` class"
   ]
  },
  {
   "cell_type": "code",
   "execution_count": 5,
   "id": "7f950e19",
   "metadata": {},
   "outputs": [],
   "source": [
    "col_preprocess = Preprocess(num_top_wind=4)"
   ]
  },
  {
   "cell_type": "code",
   "execution_count": 6,
   "id": "63c87a6c",
   "metadata": {},
   "outputs": [],
   "source": [
    "fewer_cols_train_X_df = col_preprocess.fit_transform(train_X_df)"
   ]
  },
  {
   "cell_type": "code",
   "execution_count": 7,
   "id": "3ea56e87",
   "metadata": {},
   "outputs": [
    {
     "data": {
      "text/html": [
       "<div>\n",
       "<style scoped>\n",
       "    .dataframe tbody tr th:only-of-type {\n",
       "        vertical-align: middle;\n",
       "    }\n",
       "\n",
       "    .dataframe tbody tr th {\n",
       "        vertical-align: top;\n",
       "    }\n",
       "\n",
       "    .dataframe thead th {\n",
       "        text-align: right;\n",
       "    }\n",
       "</style>\n",
       "<table border=\"1\" class=\"dataframe\">\n",
       "  <thead>\n",
       "    <tr style=\"text-align: right;\">\n",
       "      <th></th>\n",
       "      <th>time</th>\n",
       "      <th>temperature</th>\n",
       "      <th>dew_point</th>\n",
       "      <th>humidity</th>\n",
       "      <th>wind</th>\n",
       "      <th>wind_speed</th>\n",
       "      <th>pressure</th>\n",
       "      <th>day_night</th>\n",
       "    </tr>\n",
       "  </thead>\n",
       "  <tbody>\n",
       "    <tr>\n",
       "      <th>0</th>\n",
       "      <td>2:30</td>\n",
       "      <td>79</td>\n",
       "      <td>75</td>\n",
       "      <td>89</td>\n",
       "      <td>VAR</td>\n",
       "      <td>2</td>\n",
       "      <td>29.73</td>\n",
       "      <td>AM</td>\n",
       "    </tr>\n",
       "    <tr>\n",
       "      <th>1</th>\n",
       "      <td>4:30</td>\n",
       "      <td>79</td>\n",
       "      <td>77</td>\n",
       "      <td>94</td>\n",
       "      <td>SW</td>\n",
       "      <td>5</td>\n",
       "      <td>29.70</td>\n",
       "      <td>AM</td>\n",
       "    </tr>\n",
       "    <tr>\n",
       "      <th>2</th>\n",
       "      <td>11:00</td>\n",
       "      <td>90</td>\n",
       "      <td>77</td>\n",
       "      <td>66</td>\n",
       "      <td>SW</td>\n",
       "      <td>12</td>\n",
       "      <td>29.70</td>\n",
       "      <td>AM</td>\n",
       "    </tr>\n",
       "    <tr>\n",
       "      <th>3</th>\n",
       "      <td>2:30</td>\n",
       "      <td>91</td>\n",
       "      <td>77</td>\n",
       "      <td>63</td>\n",
       "      <td>WSW</td>\n",
       "      <td>9</td>\n",
       "      <td>29.67</td>\n",
       "      <td>PM</td>\n",
       "    </tr>\n",
       "    <tr>\n",
       "      <th>4</th>\n",
       "      <td>2:30</td>\n",
       "      <td>79</td>\n",
       "      <td>77</td>\n",
       "      <td>94</td>\n",
       "      <td>VAR</td>\n",
       "      <td>1</td>\n",
       "      <td>29.76</td>\n",
       "      <td>AM</td>\n",
       "    </tr>\n",
       "  </tbody>\n",
       "</table>\n",
       "</div>"
      ],
      "text/plain": [
       "    time  temperature  dew_point  humidity wind  wind_speed  pressure  \\\n",
       "0   2:30           79         75        89  VAR           2     29.73   \n",
       "1   4:30           79         77        94   SW           5     29.70   \n",
       "2  11:00           90         77        66   SW          12     29.70   \n",
       "3   2:30           91         77        63  WSW           9     29.67   \n",
       "4   2:30           79         77        94  VAR           1     29.76   \n",
       "\n",
       "  day_night  \n",
       "0        AM  \n",
       "1        AM  \n",
       "2        AM  \n",
       "3        PM  \n",
       "4        AM  "
      ]
     },
     "execution_count": 7,
     "metadata": {},
     "output_type": "execute_result"
    }
   ],
   "source": [
    "fewer_cols_train_X_df.head(5)"
   ]
  },
  {
   "cell_type": "markdown",
   "id": "51cb0914",
   "metadata": {},
   "source": [
    "We will continue to preprocess following these steps:\n",
    "\n",
    "- Numerical columns, we will fill in missing values with mean value\n",
    "- Unorder categorical columns: `time` and `wind`: \n",
    "    - Convert to numerical using one-hot encoding method.\n",
    "- Normalize data.\n",
    "\n",
    "We will create a pipeline that executes these steps and also include the `Preprocess` class above."
   ]
  },
  {
   "cell_type": "code",
   "execution_count": 5,
   "id": "b40ed4f1",
   "metadata": {},
   "outputs": [],
   "source": [
    "num_cols = ['temperature','dew_point','humidity','wind_speed','pressure']\n",
    "cate_cols = ['time','wind','day_night']\n",
    "\n",
    "preprocess_pipeline = Pipeline(steps = [('preprocess_cate',Preprocess(num_top_wind=4)),\n",
    "                                    ('imputer', ColumnTransformer(transformers=[('nume', SimpleImputer(missing_values = np.nan, strategy='mean'),num_cols),\n",
    "                                        ('cate', OneHotEncoder(categories='auto', handle_unknown='ignore'), cate_cols)])),\n",
    "                                   ('scale', StandardScaler(with_mean=False))])"
   ]
  },
  {
   "cell_type": "code",
   "execution_count": 56,
   "id": "f9cd086d",
   "metadata": {},
   "outputs": [
    {
     "data": {
      "text/html": [
       "<style>#sk-c3dd3526-a051-4dea-b3a5-275f2ceb81eb {color: black;background-color: white;}#sk-c3dd3526-a051-4dea-b3a5-275f2ceb81eb pre{padding: 0;}#sk-c3dd3526-a051-4dea-b3a5-275f2ceb81eb div.sk-toggleable {background-color: white;}#sk-c3dd3526-a051-4dea-b3a5-275f2ceb81eb label.sk-toggleable__label {cursor: pointer;display: block;width: 100%;margin-bottom: 0;padding: 0.2em 0.3em;box-sizing: border-box;text-align: center;}#sk-c3dd3526-a051-4dea-b3a5-275f2ceb81eb div.sk-toggleable__content {max-height: 0;max-width: 0;overflow: hidden;text-align: left;background-color: #f0f8ff;}#sk-c3dd3526-a051-4dea-b3a5-275f2ceb81eb div.sk-toggleable__content pre {margin: 0.2em;color: black;border-radius: 0.25em;background-color: #f0f8ff;}#sk-c3dd3526-a051-4dea-b3a5-275f2ceb81eb input.sk-toggleable__control:checked~div.sk-toggleable__content {max-height: 200px;max-width: 100%;overflow: auto;}#sk-c3dd3526-a051-4dea-b3a5-275f2ceb81eb div.sk-estimator input.sk-toggleable__control:checked~label.sk-toggleable__label {background-color: #d4ebff;}#sk-c3dd3526-a051-4dea-b3a5-275f2ceb81eb div.sk-label input.sk-toggleable__control:checked~label.sk-toggleable__label {background-color: #d4ebff;}#sk-c3dd3526-a051-4dea-b3a5-275f2ceb81eb input.sk-hidden--visually {border: 0;clip: rect(1px 1px 1px 1px);clip: rect(1px, 1px, 1px, 1px);height: 1px;margin: -1px;overflow: hidden;padding: 0;position: absolute;width: 1px;}#sk-c3dd3526-a051-4dea-b3a5-275f2ceb81eb div.sk-estimator {font-family: monospace;background-color: #f0f8ff;margin: 0.25em 0.25em;border: 1px dotted black;border-radius: 0.25em;box-sizing: border-box;}#sk-c3dd3526-a051-4dea-b3a5-275f2ceb81eb div.sk-estimator:hover {background-color: #d4ebff;}#sk-c3dd3526-a051-4dea-b3a5-275f2ceb81eb div.sk-parallel-item::after {content: \"\";width: 100%;border-bottom: 1px solid gray;flex-grow: 1;}#sk-c3dd3526-a051-4dea-b3a5-275f2ceb81eb div.sk-label:hover label.sk-toggleable__label {background-color: #d4ebff;}#sk-c3dd3526-a051-4dea-b3a5-275f2ceb81eb div.sk-serial::before {content: \"\";position: absolute;border-left: 1px solid gray;box-sizing: border-box;top: 2em;bottom: 0;left: 50%;}#sk-c3dd3526-a051-4dea-b3a5-275f2ceb81eb div.sk-serial {display: flex;flex-direction: column;align-items: center;background-color: white;}#sk-c3dd3526-a051-4dea-b3a5-275f2ceb81eb div.sk-item {z-index: 1;}#sk-c3dd3526-a051-4dea-b3a5-275f2ceb81eb div.sk-parallel {display: flex;align-items: stretch;justify-content: center;background-color: white;}#sk-c3dd3526-a051-4dea-b3a5-275f2ceb81eb div.sk-parallel-item {display: flex;flex-direction: column;position: relative;background-color: white;}#sk-c3dd3526-a051-4dea-b3a5-275f2ceb81eb div.sk-parallel-item:first-child::after {align-self: flex-end;width: 50%;}#sk-c3dd3526-a051-4dea-b3a5-275f2ceb81eb div.sk-parallel-item:last-child::after {align-self: flex-start;width: 50%;}#sk-c3dd3526-a051-4dea-b3a5-275f2ceb81eb div.sk-parallel-item:only-child::after {width: 0;}#sk-c3dd3526-a051-4dea-b3a5-275f2ceb81eb div.sk-dashed-wrapped {border: 1px dashed gray;margin: 0.2em;box-sizing: border-box;padding-bottom: 0.1em;background-color: white;position: relative;}#sk-c3dd3526-a051-4dea-b3a5-275f2ceb81eb div.sk-label label {font-family: monospace;font-weight: bold;background-color: white;display: inline-block;line-height: 1.2em;}#sk-c3dd3526-a051-4dea-b3a5-275f2ceb81eb div.sk-label-container {position: relative;z-index: 2;text-align: center;}#sk-c3dd3526-a051-4dea-b3a5-275f2ceb81eb div.sk-container {display: inline-block;position: relative;}</style><div id=\"sk-c3dd3526-a051-4dea-b3a5-275f2ceb81eb\" class\"sk-top-container\"><div class=\"sk-container\"><div class=\"sk-item sk-dashed-wrapped\"><div class=\"sk-label-container\"><div class=\"sk-label sk-toggleable\"><input class=\"sk-toggleable__control sk-hidden--visually\" id=\"dccbd6f0-5c89-44d9-bea6-efda46625f9d\" type=\"checkbox\" ><label class=\"sk-toggleable__label\" for=\"dccbd6f0-5c89-44d9-bea6-efda46625f9d\">Pipeline</label><div class=\"sk-toggleable__content\"><pre>Pipeline(steps=[('preprocess_cate', Preprocess(num_top_wind=4)),\n",
       "                ('imputer',\n",
       "                 ColumnTransformer(transformers=[('nume', SimpleImputer(),\n",
       "                                                  ['temperature', 'dew_point',\n",
       "                                                   'humidity', 'wind_speed',\n",
       "                                                   'pressure']),\n",
       "                                                 ('cate',\n",
       "                                                  OneHotEncoder(handle_unknown='ignore'),\n",
       "                                                  ['time', 'wind',\n",
       "                                                   'day_night'])])),\n",
       "                ('scale', StandardScaler(with_mean=False))])</pre></div></div></div><div class=\"sk-serial\"><div class=\"sk-item\"><div class=\"sk-estimator sk-toggleable\"><input class=\"sk-toggleable__control sk-hidden--visually\" id=\"6a5ed291-9835-4d3f-a172-cea3c1cf2832\" type=\"checkbox\" ><label class=\"sk-toggleable__label\" for=\"6a5ed291-9835-4d3f-a172-cea3c1cf2832\">Preprocess</label><div class=\"sk-toggleable__content\"><pre>Preprocess(num_top_wind=4)</pre></div></div></div><div class=\"sk-item sk-dashed-wrapped\"><div class=\"sk-label-container\"><div class=\"sk-label sk-toggleable\"><input class=\"sk-toggleable__control sk-hidden--visually\" id=\"169412b0-3080-4a7c-9f82-d45dd20a3d90\" type=\"checkbox\" ><label class=\"sk-toggleable__label\" for=\"169412b0-3080-4a7c-9f82-d45dd20a3d90\">imputer: ColumnTransformer</label><div class=\"sk-toggleable__content\"><pre>ColumnTransformer(transformers=[('nume', SimpleImputer(),\n",
       "                                 ['temperature', 'dew_point', 'humidity',\n",
       "                                  'wind_speed', 'pressure']),\n",
       "                                ('cate', OneHotEncoder(handle_unknown='ignore'),\n",
       "                                 ['time', 'wind', 'day_night'])])</pre></div></div></div><div class=\"sk-parallel\"><div class=\"sk-parallel-item\"><div class=\"sk-item\"><div class=\"sk-label-container\"><div class=\"sk-label sk-toggleable\"><input class=\"sk-toggleable__control sk-hidden--visually\" id=\"3daf9051-d253-46f0-b7e7-87640d543bc9\" type=\"checkbox\" ><label class=\"sk-toggleable__label\" for=\"3daf9051-d253-46f0-b7e7-87640d543bc9\">nume</label><div class=\"sk-toggleable__content\"><pre>['temperature', 'dew_point', 'humidity', 'wind_speed', 'pressure']</pre></div></div></div><div class=\"sk-serial\"><div class=\"sk-item\"><div class=\"sk-estimator sk-toggleable\"><input class=\"sk-toggleable__control sk-hidden--visually\" id=\"0a23cf54-74ac-46a8-9109-233b02a6d4da\" type=\"checkbox\" ><label class=\"sk-toggleable__label\" for=\"0a23cf54-74ac-46a8-9109-233b02a6d4da\">SimpleImputer</label><div class=\"sk-toggleable__content\"><pre>SimpleImputer()</pre></div></div></div></div></div></div><div class=\"sk-parallel-item\"><div class=\"sk-item\"><div class=\"sk-label-container\"><div class=\"sk-label sk-toggleable\"><input class=\"sk-toggleable__control sk-hidden--visually\" id=\"a044539f-7ca1-49e4-ba54-343eefd40ca2\" type=\"checkbox\" ><label class=\"sk-toggleable__label\" for=\"a044539f-7ca1-49e4-ba54-343eefd40ca2\">cate</label><div class=\"sk-toggleable__content\"><pre>['time', 'wind', 'day_night']</pre></div></div></div><div class=\"sk-serial\"><div class=\"sk-item\"><div class=\"sk-estimator sk-toggleable\"><input class=\"sk-toggleable__control sk-hidden--visually\" id=\"dce867ef-d0f8-4532-a582-3cf13890cba1\" type=\"checkbox\" ><label class=\"sk-toggleable__label\" for=\"dce867ef-d0f8-4532-a582-3cf13890cba1\">OneHotEncoder</label><div class=\"sk-toggleable__content\"><pre>OneHotEncoder(handle_unknown='ignore')</pre></div></div></div></div></div></div></div></div><div class=\"sk-item\"><div class=\"sk-estimator sk-toggleable\"><input class=\"sk-toggleable__control sk-hidden--visually\" id=\"c7120083-4894-479a-ae77-76b46320357e\" type=\"checkbox\" ><label class=\"sk-toggleable__label\" for=\"c7120083-4894-479a-ae77-76b46320357e\">StandardScaler</label><div class=\"sk-toggleable__content\"><pre>StandardScaler(with_mean=False)</pre></div></div></div></div></div></div></div>"
      ],
      "text/plain": [
       "Pipeline(steps=[('preprocess_cate', Preprocess(num_top_wind=4)),\n",
       "                ('imputer',\n",
       "                 ColumnTransformer(transformers=[('nume', SimpleImputer(),\n",
       "                                                  ['temperature', 'dew_point',\n",
       "                                                   'humidity', 'wind_speed',\n",
       "                                                   'pressure']),\n",
       "                                                 ('cate',\n",
       "                                                  OneHotEncoder(handle_unknown='ignore'),\n",
       "                                                  ['time', 'wind',\n",
       "                                                   'day_night'])])),\n",
       "                ('scale', StandardScaler(with_mean=False))])"
      ]
     },
     "execution_count": 56,
     "metadata": {},
     "output_type": "execute_result"
    }
   ],
   "source": [
    "preprocess_pipeline"
   ]
  },
  {
   "cell_type": "markdown",
   "id": "d33902f8",
   "metadata": {},
   "source": [
    "Test pipeline"
   ]
  },
  {
   "cell_type": "code",
   "execution_count": 9,
   "id": "d6fc98fb",
   "metadata": {},
   "outputs": [],
   "source": [
    "preprocessed_train_X = preprocess_pipeline.fit_transform(train_X_df)"
   ]
  },
  {
   "cell_type": "code",
   "execution_count": 15,
   "id": "9f5f5fef",
   "metadata": {},
   "outputs": [
    {
     "data": {
      "text/plain": [
       "(1892, 49)"
      ]
     },
     "execution_count": 15,
     "metadata": {},
     "output_type": "execute_result"
    }
   ],
   "source": [
    "preprocessed_train_X.shape"
   ]
  },
  {
   "cell_type": "markdown",
   "id": "ee91ace2",
   "metadata": {},
   "source": [
    "# Models\n",
    "We will try some models and evaluate them to get a good model. There are models we will run:\n",
    "* Traditional Machine Learning:\n",
    "    * Linear model:\n",
    "        * Logistic model\n",
    "        * Linear SVM\n",
    "    * Non-linear model:\n",
    "        * kNN\n",
    "        * Nonlinear SVM\n",
    "    * Tree:\n",
    "        * Decision tree\n",
    "        * Random Forest\n",
    "* Deep learning: Neural network\n",
    "\n",
    "Because we focus on forcast raining weather, and in our data, raining condition is minoriy. Therefore, we use f1 score of raining class to be our metric.\n",
    "Each model, we iterate hyperparameters and calculate the score on training and validation, then we choose hyparameters get the best result. The number of hyperparameters depends on models"
   ]
  },
  {
   "cell_type": "code",
   "execution_count": 6,
   "id": "9bb9b81e",
   "metadata": {},
   "outputs": [],
   "source": [
    "from sklearn.linear_model import LogisticRegression\n",
    "from sklearn import tree\n",
    "from sklearn.svm import SVC\n",
    "from sklearn.metrics import classification_report, f1_score"
   ]
  },
  {
   "cell_type": "markdown",
   "id": "1371f9d9",
   "metadata": {},
   "source": [
    "## Linear models\n",
    "### Logistic model\n",
    "Create pipeline for logisstic model"
   ]
  },
  {
   "cell_type": "code",
   "execution_count": 7,
   "id": "fc103dcd",
   "metadata": {},
   "outputs": [],
   "source": [
    "logistic_model = make_pipeline(preprocess_pipeline, LogisticRegression(max_iter=500))"
   ]
  },
  {
   "cell_type": "code",
   "execution_count": 57,
   "id": "ac04d58e",
   "metadata": {},
   "outputs": [
    {
     "data": {
      "text/html": [
       "<style>#sk-1cc5fada-f777-4a3f-a5a8-0346216e522f {color: black;background-color: white;}#sk-1cc5fada-f777-4a3f-a5a8-0346216e522f pre{padding: 0;}#sk-1cc5fada-f777-4a3f-a5a8-0346216e522f div.sk-toggleable {background-color: white;}#sk-1cc5fada-f777-4a3f-a5a8-0346216e522f label.sk-toggleable__label {cursor: pointer;display: block;width: 100%;margin-bottom: 0;padding: 0.2em 0.3em;box-sizing: border-box;text-align: center;}#sk-1cc5fada-f777-4a3f-a5a8-0346216e522f div.sk-toggleable__content {max-height: 0;max-width: 0;overflow: hidden;text-align: left;background-color: #f0f8ff;}#sk-1cc5fada-f777-4a3f-a5a8-0346216e522f div.sk-toggleable__content pre {margin: 0.2em;color: black;border-radius: 0.25em;background-color: #f0f8ff;}#sk-1cc5fada-f777-4a3f-a5a8-0346216e522f input.sk-toggleable__control:checked~div.sk-toggleable__content {max-height: 200px;max-width: 100%;overflow: auto;}#sk-1cc5fada-f777-4a3f-a5a8-0346216e522f div.sk-estimator input.sk-toggleable__control:checked~label.sk-toggleable__label {background-color: #d4ebff;}#sk-1cc5fada-f777-4a3f-a5a8-0346216e522f div.sk-label input.sk-toggleable__control:checked~label.sk-toggleable__label {background-color: #d4ebff;}#sk-1cc5fada-f777-4a3f-a5a8-0346216e522f input.sk-hidden--visually {border: 0;clip: rect(1px 1px 1px 1px);clip: rect(1px, 1px, 1px, 1px);height: 1px;margin: -1px;overflow: hidden;padding: 0;position: absolute;width: 1px;}#sk-1cc5fada-f777-4a3f-a5a8-0346216e522f div.sk-estimator {font-family: monospace;background-color: #f0f8ff;margin: 0.25em 0.25em;border: 1px dotted black;border-radius: 0.25em;box-sizing: border-box;}#sk-1cc5fada-f777-4a3f-a5a8-0346216e522f div.sk-estimator:hover {background-color: #d4ebff;}#sk-1cc5fada-f777-4a3f-a5a8-0346216e522f div.sk-parallel-item::after {content: \"\";width: 100%;border-bottom: 1px solid gray;flex-grow: 1;}#sk-1cc5fada-f777-4a3f-a5a8-0346216e522f div.sk-label:hover label.sk-toggleable__label {background-color: #d4ebff;}#sk-1cc5fada-f777-4a3f-a5a8-0346216e522f div.sk-serial::before {content: \"\";position: absolute;border-left: 1px solid gray;box-sizing: border-box;top: 2em;bottom: 0;left: 50%;}#sk-1cc5fada-f777-4a3f-a5a8-0346216e522f div.sk-serial {display: flex;flex-direction: column;align-items: center;background-color: white;}#sk-1cc5fada-f777-4a3f-a5a8-0346216e522f div.sk-item {z-index: 1;}#sk-1cc5fada-f777-4a3f-a5a8-0346216e522f div.sk-parallel {display: flex;align-items: stretch;justify-content: center;background-color: white;}#sk-1cc5fada-f777-4a3f-a5a8-0346216e522f div.sk-parallel-item {display: flex;flex-direction: column;position: relative;background-color: white;}#sk-1cc5fada-f777-4a3f-a5a8-0346216e522f div.sk-parallel-item:first-child::after {align-self: flex-end;width: 50%;}#sk-1cc5fada-f777-4a3f-a5a8-0346216e522f div.sk-parallel-item:last-child::after {align-self: flex-start;width: 50%;}#sk-1cc5fada-f777-4a3f-a5a8-0346216e522f div.sk-parallel-item:only-child::after {width: 0;}#sk-1cc5fada-f777-4a3f-a5a8-0346216e522f div.sk-dashed-wrapped {border: 1px dashed gray;margin: 0.2em;box-sizing: border-box;padding-bottom: 0.1em;background-color: white;position: relative;}#sk-1cc5fada-f777-4a3f-a5a8-0346216e522f div.sk-label label {font-family: monospace;font-weight: bold;background-color: white;display: inline-block;line-height: 1.2em;}#sk-1cc5fada-f777-4a3f-a5a8-0346216e522f div.sk-label-container {position: relative;z-index: 2;text-align: center;}#sk-1cc5fada-f777-4a3f-a5a8-0346216e522f div.sk-container {display: inline-block;position: relative;}</style><div id=\"sk-1cc5fada-f777-4a3f-a5a8-0346216e522f\" class\"sk-top-container\"><div class=\"sk-container\"><div class=\"sk-item sk-dashed-wrapped\"><div class=\"sk-label-container\"><div class=\"sk-label sk-toggleable\"><input class=\"sk-toggleable__control sk-hidden--visually\" id=\"2675257a-0b08-417c-b9c6-bf26fe86bf74\" type=\"checkbox\" ><label class=\"sk-toggleable__label\" for=\"2675257a-0b08-417c-b9c6-bf26fe86bf74\">Pipeline</label><div class=\"sk-toggleable__content\"><pre>Pipeline(steps=[('pipeline',\n",
       "                 Pipeline(steps=[('preprocess_cate',\n",
       "                                  Preprocess(num_top_wind=4)),\n",
       "                                 ('imputer',\n",
       "                                  ColumnTransformer(transformers=[('nume',\n",
       "                                                                   SimpleImputer(),\n",
       "                                                                   ['temperature',\n",
       "                                                                    'dew_point',\n",
       "                                                                    'humidity',\n",
       "                                                                    'wind_speed',\n",
       "                                                                    'pressure']),\n",
       "                                                                  ('cate',\n",
       "                                                                   OneHotEncoder(handle_unknown='ignore'),\n",
       "                                                                   ['time',\n",
       "                                                                    'wind',\n",
       "                                                                    'day_night'])])),\n",
       "                                 ('scale', StandardScaler(with_mean=False))])),\n",
       "                ('logisticregression', LogisticRegression(max_iter=500))])</pre></div></div></div><div class=\"sk-serial\"><div class=\"sk-item\"><div class=\"sk-label-container\"><div class=\"sk-label sk-toggleable\"><input class=\"sk-toggleable__control sk-hidden--visually\" id=\"0663b22c-0d3b-4bda-b203-3876d6e39423\" type=\"checkbox\" ><label class=\"sk-toggleable__label\" for=\"0663b22c-0d3b-4bda-b203-3876d6e39423\">pipeline: Pipeline</label><div class=\"sk-toggleable__content\"><pre>Pipeline(steps=[('preprocess_cate', Preprocess(num_top_wind=4)),\n",
       "                ('imputer',\n",
       "                 ColumnTransformer(transformers=[('nume', SimpleImputer(),\n",
       "                                                  ['temperature', 'dew_point',\n",
       "                                                   'humidity', 'wind_speed',\n",
       "                                                   'pressure']),\n",
       "                                                 ('cate',\n",
       "                                                  OneHotEncoder(handle_unknown='ignore'),\n",
       "                                                  ['time', 'wind',\n",
       "                                                   'day_night'])])),\n",
       "                ('scale', StandardScaler(with_mean=False))])</pre></div></div></div><div class=\"sk-serial\"><div class=\"sk-item\"><div class=\"sk-estimator sk-toggleable\"><input class=\"sk-toggleable__control sk-hidden--visually\" id=\"3c23ff3b-40d5-4bd0-bd5d-f76dbf33beef\" type=\"checkbox\" ><label class=\"sk-toggleable__label\" for=\"3c23ff3b-40d5-4bd0-bd5d-f76dbf33beef\">Preprocess</label><div class=\"sk-toggleable__content\"><pre>Preprocess(num_top_wind=4)</pre></div></div></div><div class=\"sk-item sk-dashed-wrapped\"><div class=\"sk-label-container\"><div class=\"sk-label sk-toggleable\"><input class=\"sk-toggleable__control sk-hidden--visually\" id=\"b1164df9-be59-402d-a114-a27d240b3c18\" type=\"checkbox\" ><label class=\"sk-toggleable__label\" for=\"b1164df9-be59-402d-a114-a27d240b3c18\">imputer: ColumnTransformer</label><div class=\"sk-toggleable__content\"><pre>ColumnTransformer(transformers=[('nume', SimpleImputer(),\n",
       "                                 ['temperature', 'dew_point', 'humidity',\n",
       "                                  'wind_speed', 'pressure']),\n",
       "                                ('cate', OneHotEncoder(handle_unknown='ignore'),\n",
       "                                 ['time', 'wind', 'day_night'])])</pre></div></div></div><div class=\"sk-parallel\"><div class=\"sk-parallel-item\"><div class=\"sk-item\"><div class=\"sk-label-container\"><div class=\"sk-label sk-toggleable\"><input class=\"sk-toggleable__control sk-hidden--visually\" id=\"ffc65b61-1eae-4b12-90aa-ede88ec84077\" type=\"checkbox\" ><label class=\"sk-toggleable__label\" for=\"ffc65b61-1eae-4b12-90aa-ede88ec84077\">nume</label><div class=\"sk-toggleable__content\"><pre>['temperature', 'dew_point', 'humidity', 'wind_speed', 'pressure']</pre></div></div></div><div class=\"sk-serial\"><div class=\"sk-item\"><div class=\"sk-estimator sk-toggleable\"><input class=\"sk-toggleable__control sk-hidden--visually\" id=\"ae496e6f-8da4-4507-88e9-5c6aa9bfaf76\" type=\"checkbox\" ><label class=\"sk-toggleable__label\" for=\"ae496e6f-8da4-4507-88e9-5c6aa9bfaf76\">SimpleImputer</label><div class=\"sk-toggleable__content\"><pre>SimpleImputer()</pre></div></div></div></div></div></div><div class=\"sk-parallel-item\"><div class=\"sk-item\"><div class=\"sk-label-container\"><div class=\"sk-label sk-toggleable\"><input class=\"sk-toggleable__control sk-hidden--visually\" id=\"c6fe9e22-af97-48ab-8923-bc5f1f8afc7d\" type=\"checkbox\" ><label class=\"sk-toggleable__label\" for=\"c6fe9e22-af97-48ab-8923-bc5f1f8afc7d\">cate</label><div class=\"sk-toggleable__content\"><pre>['time', 'wind', 'day_night']</pre></div></div></div><div class=\"sk-serial\"><div class=\"sk-item\"><div class=\"sk-estimator sk-toggleable\"><input class=\"sk-toggleable__control sk-hidden--visually\" id=\"d961a36b-6f2e-4709-9138-67557c45f51b\" type=\"checkbox\" ><label class=\"sk-toggleable__label\" for=\"d961a36b-6f2e-4709-9138-67557c45f51b\">OneHotEncoder</label><div class=\"sk-toggleable__content\"><pre>OneHotEncoder(handle_unknown='ignore')</pre></div></div></div></div></div></div></div></div><div class=\"sk-item\"><div class=\"sk-estimator sk-toggleable\"><input class=\"sk-toggleable__control sk-hidden--visually\" id=\"d94c7532-c9dd-4a9f-b327-5fde1e5714b6\" type=\"checkbox\" ><label class=\"sk-toggleable__label\" for=\"d94c7532-c9dd-4a9f-b327-5fde1e5714b6\">StandardScaler</label><div class=\"sk-toggleable__content\"><pre>StandardScaler(with_mean=False)</pre></div></div></div></div></div><div class=\"sk-item\"><div class=\"sk-estimator sk-toggleable\"><input class=\"sk-toggleable__control sk-hidden--visually\" id=\"3946c73a-3877-4891-8010-2dc9ddefaa69\" type=\"checkbox\" ><label class=\"sk-toggleable__label\" for=\"3946c73a-3877-4891-8010-2dc9ddefaa69\">LogisticRegression</label><div class=\"sk-toggleable__content\"><pre>LogisticRegression(max_iter=500)</pre></div></div></div></div></div></div></div>"
      ],
      "text/plain": [
       "Pipeline(steps=[('pipeline',\n",
       "                 Pipeline(steps=[('preprocess_cate',\n",
       "                                  Preprocess(num_top_wind=4)),\n",
       "                                 ('imputer',\n",
       "                                  ColumnTransformer(transformers=[('nume',\n",
       "                                                                   SimpleImputer(),\n",
       "                                                                   ['temperature',\n",
       "                                                                    'dew_point',\n",
       "                                                                    'humidity',\n",
       "                                                                    'wind_speed',\n",
       "                                                                    'pressure']),\n",
       "                                                                  ('cate',\n",
       "                                                                   OneHotEncoder(handle_unknown='ignore'),\n",
       "                                                                   ['time',\n",
       "                                                                    'wind',\n",
       "                                                                    'day_night'])])),\n",
       "                                 ('scale', StandardScaler(with_mean=False))])),\n",
       "                ('logisticregression', LogisticRegression(max_iter=500))])"
      ]
     },
     "execution_count": 57,
     "metadata": {},
     "output_type": "execute_result"
    }
   ],
   "source": [
    "logistic_model"
   ]
  },
  {
   "cell_type": "markdown",
   "id": "557018cf",
   "metadata": {},
   "source": [
    "Because most of algorithms we use have only one hyperparameter, we write function `Run_One_Hyper_Model` to train and evaluate that algorithms. The function takes `top_winds` and `model` are the parameters. `top_winds` is a list of `num_tio_wind`. The function returns traning errors, validation errors, the best validation error and the best value of hyperparameter."
   ]
  },
  {
   "cell_type": "code",
   "execution_count": 8,
   "id": "193c4024",
   "metadata": {},
   "outputs": [],
   "source": [
    "# logistic_model.get_params().keys()\n",
    "def Run_One_Hyper_Model(top_winds, model):\n",
    "    train_errs = []\n",
    "    val_errs = []\n",
    "    best_val_err = -float('inf')\n",
    "    best_num_top_wind = None\n",
    "#     top_winds = [4, 6, 8, 10, 14]\n",
    "    for num_top_wind in top_winds:\n",
    "        model.set_params(pipeline__preprocess_cate__num_top_wind=num_top_wind)\n",
    "#         print(model.get_params(pipeline__preprocess_cate__num_top_wind))\n",
    "        model.fit(train_X_df, train_y_sr)\n",
    "        train_preds = model.predict(train_X_df)\n",
    "        train_errs.append(f1_score(train_y_sr, train_preds, pos_label = 'Rain'))\n",
    "        val_preds = model.predict(val_X_df)\n",
    "        val_errs.append(f1_score(val_y_sr, val_preds,  pos_label = 'Rain'))\n",
    "        if val_errs[-1] > best_val_err:\n",
    "            best_val_err = val_errs[-1]\n",
    "            best_num_top_wind = num_top_wind\n",
    "      \n",
    "    return train_errs, val_errs, best_val_err, best_num_top_wind\n",
    "\n",
    "# logistic_train_errs, logistic_val_errs, logistic_best, best_num_top_wind = Run_Linear_Model([1, 2, 3, 4, 5, 6, 7, 8, 10, 14, 18], logistic_model)\n",
    "# logistic_model.fit(train_X_df, train_y_sr)"
   ]
  },
  {
   "cell_type": "markdown",
   "id": "dc1553c3",
   "metadata": {},
   "source": [
    "`Draw_Train_Val_errs` is the function to plot training and validation errors for easlier judge model."
   ]
  },
  {
   "cell_type": "code",
   "execution_count": 9,
   "id": "61ff1b8b",
   "metadata": {},
   "outputs": [],
   "source": [
    "def Draw_Train_Val_errs(train_errs, val_errs, top_winds):\n",
    "    plt.figure(figsize=(10, 5))\n",
    "    plt.plot(top_winds, train_errs, 'o-', color = 'red')\n",
    "    plt.plot(top_winds, val_errs, 'o-', color='blue')\n",
    "    plt.show()\n",
    "    \n",
    "# Draw_Train_Val_errs(logistic_train_errs, logistic_val_errs, [1, 2, 3, 4, 5, 6, 7, 8, 10, 14, 18])"
   ]
  },
  {
   "cell_type": "markdown",
   "id": "144da1b8",
   "metadata": {},
   "source": [
    "The result of logistic regression model"
   ]
  },
  {
   "cell_type": "code",
   "execution_count": 10,
   "id": "8782bb2f",
   "metadata": {},
   "outputs": [
    {
     "name": "stdout",
     "output_type": "stream",
     "text": [
      "Best hyperparameter: 1\n",
      "Best validation errors: 0.16091954022988506\n"
     ]
    },
    {
     "data": {
      "image/png": "[encoded data removed]",
      "text/plain": [
       "<Figure size 720x360 with 1 Axes>"
      ]
     },
     "metadata": {
      "needs_background": "light"
     },
     "output_type": "display_data"
    }
   ],
   "source": [
    "logistic_train_errs, logistic_val_errs, logistic_best, logistic_wind = Run_One_Hyper_Model([1, 2, 3, 4, 5, 6, 7, 8, 10, 14, 18], logistic_model)\n",
    "print('Best hyperparameter: {0}'.format(logistic_wind))\n",
    "print('Best validation errors: {0}'.format(logistic_best))\n",
    "Draw_Train_Val_errs(logistic_train_errs, logistic_val_errs, [1, 2, 3, 4, 5, 6, 7, 8, 10, 14, 18])"
   ]
  },
  {
   "cell_type": "markdown",
   "id": "478e51ad",
   "metadata": {},
   "source": [
    "**Comments:**\n",
    "* The model is underfiting\n",
    "* Feature `wind` does not effect on model"
   ]
  },
  {
   "cell_type": "markdown",
   "id": "6596c78a",
   "metadata": {},
   "source": [
    "### Linear SVM\n"
   ]
  },
  {
   "cell_type": "code",
   "execution_count": 11,
   "id": "2ad3f7ff",
   "metadata": {},
   "outputs": [],
   "source": [
    "svm_linear = make_pipeline(preprocess_pipeline, SVC(kernel='linear', max_iter=-1))\n",
    "linear_svm_train_errs, linear_svm_val_errs, linear_svm_best, linear_svm_num_top_wind = Run_One_Hyper_Model([1, 2, 3, 4, 5, 6, 7, 8, 10, 14, 18], svm_linear)"
   ]
  },
  {
   "cell_type": "code",
   "execution_count": 13,
   "id": "89f18705",
   "metadata": {},
   "outputs": [
    {
     "name": "stdout",
     "output_type": "stream",
     "text": [
      "Best hyperparameter: 1\n",
      "Best validation errors: 0.02631578947368421\n"
     ]
    },
    {
     "data": {
      "image/png": "[encoded data removed]",
      "text/plain": [
       "<Figure size 720x360 with 1 Axes>"
      ]
     },
     "metadata": {
      "needs_background": "light"
     },
     "output_type": "display_data"
    }
   ],
   "source": [
    "print('Best hyperparameter: {0}'.format(linear_svm_num_top_wind))\n",
    "print('Best validation errors: {0}'.format(linear_svm_best))\n",
    "Draw_Train_Val_errs(linear_svm_train_errs, linear_svm_val_errs, [1, 2, 3, 4, 5, 6, 7, 8, 10, 14, 18])"
   ]
  },
  {
   "cell_type": "markdown",
   "id": "d283b871",
   "metadata": {},
   "source": [
    "**Comment:**\n",
    "* The model is underfitting\n",
    "* It is even bad than logistic regression\n",
    "* Feature `wind` does not effect on model"
   ]
  },
  {
   "cell_type": "markdown",
   "id": "d5ac3a9c",
   "metadata": {},
   "source": [
    "## No-linear models\n",
    "### kNN model\n",
    "kNN model has 2 hyperparameters, the number of neighbors and the number of top wind."
   ]
  },
  {
   "cell_type": "code",
   "execution_count": 14,
   "id": "dd830211",
   "metadata": {},
   "outputs": [],
   "source": [
    "from sklearn.neighbors import KNeighborsClassifier"
   ]
  },
  {
   "cell_type": "code",
   "execution_count": 15,
   "id": "5c672b00",
   "metadata": {},
   "outputs": [],
   "source": [
    "knn_model = make_pipeline(preprocess_pipeline, KNeighborsClassifier())\n",
    "n_neighbors_s = [5, 7, 9, 11, 13]\n",
    "knn_train_errs, knn_val_errs, knn_best, knn_neighbors, knn_num_top_wind = [], [], -float('inf'), None, None\n",
    "for n_neighbors in n_neighbors_s:\n",
    "    knn_model.set_params(kneighborsclassifier__n_neighbors=n_neighbors)\n",
    "    train_errs, val_errs, best_val, best_para = Run_One_Hyper_Model([4, 6, 8, 10, 14], knn_model)\n",
    "    knn_train_errs.append(train_errs)\n",
    "    knn_val_errs.append(val_errs)\n",
    "    if best_val > knn_best:\n",
    "        knn_best = best_val\n",
    "        knn_num_top_wind = best_para\n",
    "        knn_neighbors = n_neighbors\n",
    "\n",
    "# knn_train_errs, knn_val_errs, knn_best, knn_num_top_wind = Run_One_Hyper_Model([1, 2, 3, 4, 5, 6, 7, 8, 10, 14, 18], knn_model)"
   ]
  },
  {
   "cell_type": "code",
   "execution_count": 16,
   "id": "1fa7b074",
   "metadata": {},
   "outputs": [],
   "source": [
    "def Table_Train_Val_errs(train_errs, val_errs, index, columns, xlabel, ylabel):\n",
    "    train_errs_df = pd.DataFrame(data=np.array(train_errs),\n",
    "                             index=index, columns=columns)\n",
    "    val_errs_df = pd.DataFrame(data=np.array(val_errs), index=index, columns=columns)\n",
    "    min_err = min(np.array(train_errs).min(), np.array(val_errs).min())\n",
    "    max_err = max(np.array(train_errs).max(), np.array(val_errs).max())\n",
    "    plt.figure(figsize=(10, 5))\n",
    "    plt.subplot(1, 2, 1)\n",
    "    sns.heatmap(train_errs_df, vmin=min_err, vmax=max_err, square=True, \n",
    "                annot=True, cbar=False, fmt='.1f', cmap='Reds')\n",
    "    plt.title('train errors'); plt.xlabel(xlabel); plt.ylabel(ylabel)\n",
    "    plt.subplot(1, 2, 2)\n",
    "    sns.heatmap(val_errs_df, vmin=min_err, vmax=max_err, square=True, \n",
    "                annot=True, cbar=False, fmt='.1f', cmap='Reds')\n",
    "    plt.title('validation errors'); plt.xlabel(xlabel); plt.ylabel(ylabel);"
   ]
  },
  {
   "cell_type": "code",
   "execution_count": 17,
   "id": "13f5ca78",
   "metadata": {},
   "outputs": [
    {
     "name": "stdout",
     "output_type": "stream",
     "text": [
      "Best num_top_wind: 4\n",
      "Best neighbors: 5\n",
      "Best validation errors: 0.05\n"
     ]
    },
    {
     "data": {
      "image/png": "[encoded data removed]",
      "text/plain": [
       "<Figure size 720x360 with 2 Axes>"
      ]
     },
     "metadata": {
      "needs_background": "light"
     },
     "output_type": "display_data"
    }
   ],
   "source": [
    "print('Best num_top_wind: {0}'.format(knn_num_top_wind))\n",
    "print('Best neighbors: {0}'.format(knn_neighbors))\n",
    "print('Best validation errors: {0}'.format(knn_best))\n",
    "Table_Train_Val_errs(knn_train_errs, knn_val_errs, [5, 7, 9, 11, 13], [4, 6, 8, 10, 14], 'num_top_wind', 'neighbors')"
   ]
  },
  {
   "cell_type": "markdown",
   "id": "c3038834",
   "metadata": {},
   "source": [
    "**Comment:**\n",
    "* The model is underfitting\n",
    "* It is even bad than linear models\n",
    "* Feature `wind` does not effect on model\n",
    "* As low hyperparameter `neighbors`, as good model is"
   ]
  },
  {
   "cell_type": "markdown",
   "id": "eb1bffbb",
   "metadata": {},
   "source": [
    "### Nonlinear SVM\n",
    "#### Kernel: Poly\n",
    "We use kernel poly. The model has 2 hyperparameters, the degreeses of poly and the number of top wind."
   ]
  },
  {
   "cell_type": "code",
   "execution_count": 18,
   "id": "c70538ef",
   "metadata": {},
   "outputs": [],
   "source": [
    "svm_nonlinear = make_pipeline(preprocess_pipeline, SVC(kernel = 'poly', max_iter=-1))\n",
    "degreeses = [2, 3, 4]\n",
    "svm_nonlinear_train_errs, svm_nonlinear_val_errs, svm_nonlinear_best, svm_nonlinear_degrees, svm_nonlinear_num_top_wind = [], [], -float('inf'), None, None\n",
    "for degrees in degreeses:\n",
    "    svm_nonlinear.set_params(svc__degree=degrees)\n",
    "    train_errs, val_errs, best_val, best_para = Run_One_Hyper_Model([4, 6, 8, 10, 14], svm_nonlinear)\n",
    "    svm_nonlinear_train_errs.append(train_errs)\n",
    "    svm_nonlinear_val_errs.append(val_errs)\n",
    "    if best_val > svm_nonlinear_best:\n",
    "        svm_nonlinear_best = best_val\n",
    "        svm_nonlinear_num_top_wind = best_para\n",
    "        svm_nonlinear_degrees = degrees\n",
    "\n",
    "# svm_nonlinear = make_pipeline(preprocess_pipeline, SVC(kernel = 'poly', max_iter=-1))\n",
    "# svm_nonlinear_train_errs, svm_nonlinear_val_errs, svm_nonlinear_best, svm_nonlinear_num_top_wind = Run_Linear_Model([1, 2, 3, 4, 5, 6, 7, 8, 10, 14, 18], svm_nonlinear)"
   ]
  },
  {
   "cell_type": "code",
   "execution_count": 19,
   "id": "1e97c619",
   "metadata": {},
   "outputs": [
    {
     "name": "stdout",
     "output_type": "stream",
     "text": [
      "Best num_top_wind: 4\n",
      "Best degrees: 2\n",
      "Best validation errors: 0.0\n"
     ]
    },
    {
     "data": {
      "image/png": "[encoded data removed]",
      "text/plain": [
       "<Figure size 720x360 with 2 Axes>"
      ]
     },
     "metadata": {
      "needs_background": "light"
     },
     "output_type": "display_data"
    }
   ],
   "source": [
    "print('Best num_top_wind: {0}'.format(svm_nonlinear_num_top_wind))\n",
    "print('Best degrees: {0}'.format(svm_nonlinear_degrees))\n",
    "print('Best validation errors: {0}'.format(svm_nonlinear_best))\n",
    "Table_Train_Val_errs(svm_nonlinear_train_errs, svm_nonlinear_val_errs, [2, 3, 4], [4, 6, 8, 10, 14], 'num_top_wind', 'degrees')"
   ]
  },
  {
   "cell_type": "markdown",
   "id": "a991a57e",
   "metadata": {},
   "source": [
    "**Comment:**\n",
    "* The model is underfitting\n",
    "* It is the worst\n",
    "* Feature `wind` does not effect on model"
   ]
  },
  {
   "cell_type": "markdown",
   "id": "ed77832f",
   "metadata": {},
   "source": [
    "## Tree\n",
    "### Decision Tree"
   ]
  },
  {
   "cell_type": "code",
   "execution_count": 20,
   "id": "6edd154e",
   "metadata": {},
   "outputs": [],
   "source": [
    "from sklearn.tree import DecisionTreeClassifier"
   ]
  },
  {
   "cell_type": "code",
   "execution_count": 21,
   "id": "f4faad12",
   "metadata": {},
   "outputs": [],
   "source": [
    "tree_model = make_pipeline(preprocess_pipeline, DecisionTreeClassifier())\n",
    "tree_train_errs, tree_val_errs, tree_best, tree_num_top_wind = Run_One_Hyper_Model([1, 2, 3, 4, 5, 6, 7, 8, 10, 14, 18], tree_model)"
   ]
  },
  {
   "cell_type": "code",
   "execution_count": 22,
   "id": "08a02d7c",
   "metadata": {},
   "outputs": [
    {
     "name": "stdout",
     "output_type": "stream",
     "text": [
      "Best num_top_wind: 18\n",
      "Best validation errors: 0.352\n"
     ]
    },
    {
     "data": {
      "image/png": "[encoded data removed]",
      "text/plain": [
       "<Figure size 720x360 with 1 Axes>"
      ]
     },
     "metadata": {
      "needs_background": "light"
     },
     "output_type": "display_data"
    }
   ],
   "source": [
    "print('Best num_top_wind: {0}'.format(tree_num_top_wind))\n",
    "print('Best validation errors: {0}'.format(tree_best))\n",
    "Draw_Train_Val_errs(tree_train_errs, tree_val_errs, [1, 2, 3, 4, 5, 6, 7, 8, 10, 14, 18])"
   ]
  },
  {
   "cell_type": "markdown",
   "id": "17259e13",
   "metadata": {},
   "source": [
    "**Comment:**\n",
    "* The model is very overfitting, the score is high on training set but low in on validation\n",
    "* It has the best perfrom from now\n",
    "* We do know why the best `num_top_wind` is 18"
   ]
  },
  {
   "cell_type": "markdown",
   "id": "a0f3a547",
   "metadata": {},
   "source": [
    "### Random forest\n",
    "This model has 2 hyperparameters. The first is `max_depth`, we use it to prevent overfitting. "
   ]
  },
  {
   "cell_type": "code",
   "execution_count": 23,
   "id": "653d68a1",
   "metadata": {},
   "outputs": [],
   "source": [
    "from sklearn.ensemble import RandomForestClassifier"
   ]
  },
  {
   "cell_type": "code",
   "execution_count": 43,
   "id": "c64038d3",
   "metadata": {},
   "outputs": [],
   "source": [
    "trees_model = make_pipeline(preprocess_pipeline, RandomForestClassifier())\n",
    "trees_train_errs, trees_val_errs, trees_best, trees_max_depth, trees_num_top_wind = [], [], -float('inf'), None, None\n",
    "max_depths = [3, 5, 8, 10, 15]\n",
    "for max_depth in max_depths:\n",
    "    trees_model.set_params(randomforestclassifier__max_depth=max_depth)\n",
    "    train_errs, val_errs, best_val, best_para = Run_One_Hyper_Model([4, 6, 8, 10, 14], trees_model)\n",
    "    trees_train_errs.append(train_errs)\n",
    "    trees_val_errs.append(val_errs)\n",
    "    if best_val > trees_best:\n",
    "        trees_best = best_val\n",
    "        trees_num_top_wind = best_para\n",
    "        trees_max_depth = max_depth\n",
    "\n",
    "# trees_train_errs, trees_val_errs, trees_best, trees_num_top_wind = Run_One_Hyper_Model([1, 2, 3, 4, 5, 6, 7, 8, 10, 14, 18], tree_model)"
   ]
  },
  {
   "cell_type": "code",
   "execution_count": 45,
   "id": "d7a5134b",
   "metadata": {},
   "outputs": [
    {
     "name": "stdout",
     "output_type": "stream",
     "text": [
      "Best num_top_wind: 10\n",
      "Best max_depth: 15\n",
      "Best validation errors: 0.25000000000000006\n"
     ]
    },
    {
     "data": {
      "image/png": "[encoded data removed]",
      "text/plain": [
       "<Figure size 720x360 with 2 Axes>"
      ]
     },
     "metadata": {
      "needs_background": "light"
     },
     "output_type": "display_data"
    }
   ],
   "source": [
    "print('Best num_top_wind: {0}'.format(trees_num_top_wind))\n",
    "print('Best max_depth: {0}'.format(trees_max_depth))\n",
    "print('Best validation errors: {0}'.format(trees_best))\n",
    "Table_Train_Val_errs(trees_train_errs, trees_val_errs, [3, 5, 8, 10, 15], [4, 6, 8, 10, 14], 'num_top_wind', 'max_depth')"
   ]
  },
  {
   "cell_type": "markdown",
   "id": "ac1a225c",
   "metadata": {},
   "source": [
    "**Comment:**\n",
    "* The model is overfitting, the error is high on training set but low in on validation\n",
    "* It has the best perfrom from now\n",
    "* As large `max_depth` is, as overfitting model is, and as high the f1 score validation is.\n",
    "* Feature `wind` seems does not effect very much"
   ]
  },
  {
   "cell_type": "markdown",
   "id": "1115bfda",
   "metadata": {},
   "source": [
    "## Deep learning: Muti layer perceptron\n"
   ]
  },
  {
   "cell_type": "code",
   "execution_count": 46,
   "id": "114c3aa8",
   "metadata": {},
   "outputs": [],
   "source": [
    "from sklearn.neural_network import MLPClassifier\n",
    "mlp_model = make_pipeline(preprocess_pipeline, MLPClassifier(hidden_layer_sizes = (100)))\n",
    "mlp_train_errs, mlp_val_errs, mlp_best, mlp_alpha, mlp_num_top_wind = [], [], -float('inf'), None, None\n",
    "alphas = [0.001, 0.01, 0.1, 1, 10]\n",
    "for alpha in alphas:\n",
    "    mlp_model.set_params(mlpclassifier__alpha=alpha)\n",
    "    train_errs, val_errs, best_val, best_para = Run_One_Hyper_Model([4, 6, 8, 10, 14], mlp_model)\n",
    "    mlp_train_errs.append(train_errs)\n",
    "    mlp_val_errs.append(val_errs)\n",
    "    if best_val > mlp_best:\n",
    "        mlp_best = best_val\n",
    "        mlp_num_top_wind = best_para\n",
    "        mlp_alpha = alpha"
   ]
  },
  {
   "cell_type": "code",
   "execution_count": 48,
   "id": "d450226a",
   "metadata": {},
   "outputs": [
    {
     "name": "stdout",
     "output_type": "stream",
     "text": [
      "Best num_top_wind: 10\n",
      "Best alpha: 0.1\n",
      "Best validation errors: 0.1680672268907563\n"
     ]
    },
    {
     "data": {
      "image/png": "[encoded data removed]",
      "text/plain": [
       "<Figure size 720x360 with 2 Axes>"
      ]
     },
     "metadata": {
      "needs_background": "light"
     },
     "output_type": "display_data"
    }
   ],
   "source": [
    "print('Best num_top_wind: {0}'.format(mlp_num_top_wind))\n",
    "print('Best alpha: {0}'.format(mlp_alpha))\n",
    "print('Best validation errors: {0}'.format(mlp_best))\n",
    "Table_Train_Val_errs(mlp_train_errs, mlp_val_errs, [0.001, 0.01, 0.1, 1, 10], [4, 6, 8, 10, 14], 'num_top_wind', 'alpha')"
   ]
  },
  {
   "cell_type": "markdown",
   "id": "2b8eb2a0",
   "metadata": {},
   "source": [
    "**Comments:**\n",
    "* "
   ]
  },
  {
   "cell_type": "markdown",
   "id": "d0fea2f7",
   "metadata": {},
   "source": [
    "## Observation:\n",
    "* Simple models such as linear models haev better results than more complex models, like SVM, kNN.\n",
    "* As more onverfitting models (decision tree, random forest)\n",
    "## Explain\n",
    "* Because our data is skew to much, so that, the complex models (such as SVM, kNN) try to fit the dominated class than the minority class, therefore, their results is low.\n",
    "* The more overfitting models (decision tree, random forest) try to fit all data. Despite they fit too much but at least they try to fit, therefore, their results is quite better.\n",
    "## Conclusion\n",
    "So the main reason, that makes our algorithms is too week, is the unblance data and the data is not enough. We have some idea to fix it:\n",
    "* Collect more data\n",
    "* Oversample data\n",
    "* Use more proper algorithms"
   ]
  }
 ],
 "metadata": {
  "kernelspec": {
   "display_name": "Python 3 (ipykernel)",
   "language": "python",
   "name": "python3"
  },
  "language_info": {
   "codemirror_mode": {
    "name": "ipython",
    "version": 3
   },
   "file_extension": ".py",
   "mimetype": "text/x-python",
   "name": "python",
   "nbconvert_exporter": "python",
   "pygments_lexer": "ipython3",
   "version": "3.8.8"
  },
  "toc": {
   "base_numbering": 1,
   "nav_menu": {},
   "number_sections": false,
   "sideBar": true,
   "skip_h1_title": false,
   "title_cell": "Table of Contents",
   "title_sidebar": "Contents",
   "toc_cell": false,
   "toc_position": {},
   "toc_section_display": true,
   "toc_window_display": false
  }
 },
 "nbformat": 4,
 "nbformat_minor": 5
}
