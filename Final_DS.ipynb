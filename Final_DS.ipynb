{
 "cells": [
  {
   "cell_type": "code",
   "execution_count": 1,
   "metadata": {
    "colab": {
     "base_uri": "https://localhost:8080/"
    },
    "executionInfo": {
     "elapsed": 498,
     "status": "ok",
     "timestamp": 1630100755641,
     "user": {
      "displayName": "Ngoc Lam",
      "photoUrl": "",
      "userId": "11740330467737684407"
     },
     "user_tz": -420
    },
    "id": "C8XPmyqoGeDK",
    "outputId": "0db13a1c-8f83-4368-e2c3-385255dbe6b0"
   },
   "outputs": [
    {
     "name": "stdout",
     "output_type": "stream",
     "text": [
      "Drive already mounted at /content/drive; to attempt to forcibly remount, call drive.mount(\"/content/drive\", force_remount=True).\n"
     ]
    }
   ],
   "source": [
    "from google.colab import drive\n",
    "drive.mount('/content/drive')"
   ]
  },
  {
   "cell_type": "code",
   "execution_count": 2,
   "metadata": {
    "colab": {
     "base_uri": "https://localhost:8080/"
    },
    "executionInfo": {
     "elapsed": 22,
     "status": "ok",
     "timestamp": 1630100756151,
     "user": {
      "displayName": "Ngoc Lam",
      "photoUrl": "",
      "userId": "11740330467737684407"
     },
     "user_tz": -420
    },
    "id": "ZTSG7D5zGZqB",
    "outputId": "0fd392c5-b10c-4c26-8c58-058dd0a7fb40"
   },
   "outputs": [
    {
     "name": "stdout",
     "output_type": "stream",
     "text": [
      "/content/drive/MyDrive/DS\n"
     ]
    }
   ],
   "source": [
    "%cd '/content/drive/MyDrive/DS'"
   ]
  },
  {
   "cell_type": "code",
   "execution_count": 3,
   "metadata": {
    "colab": {
     "base_uri": "https://localhost:8080/"
    },
    "executionInfo": {
     "elapsed": 2850,
     "status": "ok",
     "timestamp": 1630100758993,
     "user": {
      "displayName": "Ngoc Lam",
      "photoUrl": "",
      "userId": "11740330467737684407"
     },
     "user_tz": -420
    },
    "id": "jkJGNdtrwgHB",
    "outputId": "8d998dcf-7d8c-4a8a-9c69-5f057fcc0067"
   },
   "outputs": [
    {
     "name": "stdout",
     "output_type": "stream",
     "text": [
      "Requirement already satisfied: requests_cache in /usr/local/lib/python3.7/dist-packages (0.7.4)\n",
      "Requirement already satisfied: attrs<22.0,>=21.2 in /usr/local/lib/python3.7/dist-packages (from requests_cache) (21.2.0)\n",
      "Requirement already satisfied: requests<3.0,>=2.17 in /usr/local/lib/python3.7/dist-packages (from requests_cache) (2.23.0)\n",
      "Requirement already satisfied: itsdangerous>=2.0.1 in /usr/local/lib/python3.7/dist-packages (from requests_cache) (2.0.1)\n",
      "Requirement already satisfied: pyyaml>=5.4 in /usr/local/lib/python3.7/dist-packages (from requests_cache) (5.4.1)\n",
      "Requirement already satisfied: url-normalize<2.0,>=1.4 in /usr/local/lib/python3.7/dist-packages (from requests_cache) (1.4.3)\n",
      "Requirement already satisfied: idna<3,>=2.5 in /usr/local/lib/python3.7/dist-packages (from requests<3.0,>=2.17->requests_cache) (2.10)\n",
      "Requirement already satisfied: chardet<4,>=3.0.2 in /usr/local/lib/python3.7/dist-packages (from requests<3.0,>=2.17->requests_cache) (3.0.4)\n",
      "Requirement already satisfied: urllib3!=1.25.0,!=1.25.1,<1.26,>=1.21.1 in /usr/local/lib/python3.7/dist-packages (from requests<3.0,>=2.17->requests_cache) (1.24.3)\n",
      "Requirement already satisfied: certifi>=2017.4.17 in /usr/local/lib/python3.7/dist-packages (from requests<3.0,>=2.17->requests_cache) (2021.5.30)\n",
      "Requirement already satisfied: six in /usr/local/lib/python3.7/dist-packages (from url-normalize<2.0,>=1.4->requests_cache) (1.15.0)\n"
     ]
    }
   ],
   "source": [
    "!pip install requests_cache"
   ]
  },
  {
   "cell_type": "code",
   "execution_count": 4,
   "metadata": {
    "executionInfo": {
     "elapsed": 972,
     "status": "ok",
     "timestamp": 1630100759937,
     "user": {
      "displayName": "Ngoc Lam",
      "photoUrl": "",
      "userId": "11740330467737684407"
     },
     "user_tz": -420
    },
    "id": "x2fc8pKlffQG"
   },
   "outputs": [],
   "source": [
    "import requests as req\n",
    "import requests_cache\n",
    "import time\n",
    "import json\n",
    "import numpy as np\n",
    "import pandas as pd\n",
    "from random import *"
   ]
  },
  {
   "cell_type": "code",
   "execution_count": 5,
   "metadata": {
    "executionInfo": {
     "elapsed": 42,
     "status": "ok",
     "timestamp": 1630100759941,
     "user": {
      "displayName": "Ngoc Lam",
      "photoUrl": "",
      "userId": "11740330467737684407"
     },
     "user_tz": -420
    },
    "id": "x_0PysMvfiox"
   },
   "outputs": [],
   "source": [
    "requests_cache.install_cache()"
   ]
  },
  {
   "cell_type": "code",
   "execution_count": 6,
   "metadata": {
    "executionInfo": {
     "elapsed": 34,
     "status": "ok",
     "timestamp": 1630100759945,
     "user": {
      "displayName": "Ngoc Lam",
      "photoUrl": "",
      "userId": "11740330467737684407"
     },
     "user_tz": -420
    },
    "id": "LWFFgz1F6b8j"
   },
   "outputs": [],
   "source": [
    "# k_p01dgqso : Top250Movies, bottom : [100 -> 220)\n",
    "# k_rjf0le7o : bottom : [:100]\n",
    "# k_3hi7jya4 : Top250Movies [0 -> 100)"
   ]
  },
  {
   "cell_type": "markdown",
   "metadata": {
    "id": "uhiVmWLtlVmT"
   },
   "source": [
    "* get_data function with parameters are api_key, start_ and end_"
   ]
  },
  {
   "cell_type": "code",
   "execution_count": 7,
   "metadata": {
    "executionInfo": {
     "elapsed": 32,
     "status": "ok",
     "timestamp": 1630100759947,
     "user": {
      "displayName": "Ngoc Lam",
      "photoUrl": "",
      "userId": "11740330467737684407"
     },
     "user_tz": -420
    },
    "id": "C2ySEphVwIZM"
   },
   "outputs": [],
   "source": [
    "def get_data(api_key,reviews,lst_id,start_=0,end_=100):\n",
    "  for id in lst_id[start_:end_]:\n",
    "    url = f'https://imdb-api.com/en/API/Reviews/{api_key}/{id}'\n",
    "    review = req.get(url)\n",
    "    if not review.from_cache:\n",
    "      time.sleep(1)\n",
    "    review = json.loads(review.text)\n",
    "    reviews.extend(review['items'])\n",
    "  return reviews"
   ]
  },
  {
   "cell_type": "markdown",
   "metadata": {
    "id": "5GiGNBNLWg0c"
   },
   "source": [
    "**GET DATA FROM 250 BOTTOM RATED FILMS**"
   ]
  },
  {
   "cell_type": "markdown",
   "metadata": {
    "id": "1l0-hWhNm09D"
   },
   "source": [
    "* Read file 'id_.txt', which stores id of films that have the lowest rating point, contains 250 ids. (Because of some restrictions, we cannot get these data by parsing HTML or using API so we get it by hand and save it in a text file)."
   ]
  },
  {
   "cell_type": "code",
   "execution_count": 8,
   "metadata": {
    "executionInfo": {
     "elapsed": 30,
     "status": "ok",
     "timestamp": 1630100759949,
     "user": {
      "displayName": "Ngoc Lam",
      "photoUrl": "",
      "userId": "11740330467737684407"
     },
     "user_tz": -420
    },
    "id": "Wkjkycfnuwb-"
   },
   "outputs": [],
   "source": [
    "lst_id = []\n",
    "with open('id_.txt') as f:\n",
    "  for l in f:\n",
    "    lst_id.append(l.split('\\n')[0])"
   ]
  },
  {
   "cell_type": "markdown",
   "metadata": {
    "id": "z6P72l3-YwVA"
   },
   "source": [
    "* Each id, invokes a get request to IMDb using API to get reviews and then stores these reviews into a list."
   ]
  },
  {
   "cell_type": "code",
   "execution_count": 9,
   "metadata": {
    "executionInfo": {
     "elapsed": 1125,
     "status": "ok",
     "timestamp": 1630100761047,
     "user": {
      "displayName": "Ngoc Lam",
      "photoUrl": "",
      "userId": "11740330467737684407"
     },
     "user_tz": -420
    },
    "id": "6iSFPDskuUyN"
   },
   "outputs": [],
   "source": [
    "reviews = []\n",
    "reviews = get_data('k_rjf0le7o',reviews,lst_id)"
   ]
  },
  {
   "cell_type": "code",
   "execution_count": 10,
   "metadata": {
    "executionInfo": {
     "elapsed": 1441,
     "status": "ok",
     "timestamp": 1630100762475,
     "user": {
      "displayName": "Ngoc Lam",
      "photoUrl": "",
      "userId": "11740330467737684407"
     },
     "user_tz": -420
    },
    "id": "JUoB34dKXe48"
   },
   "outputs": [],
   "source": [
    "reviews = get_data('k_p01dgqso',reviews,lst_id,100,220)"
   ]
  },
  {
   "cell_type": "markdown",
   "metadata": {
    "id": "SmE2ih57WmNG"
   },
   "source": [
    "**GET DATA FROM 250 TOP RATED FILMS**"
   ]
  },
  {
   "cell_type": "markdown",
   "metadata": {
    "id": "uZh8fQC1ZBE4"
   },
   "source": [
    "* Send a get request to IMDb to get a list of top-rated films."
   ]
  },
  {
   "cell_type": "code",
   "execution_count": 11,
   "metadata": {
    "colab": {
     "base_uri": "https://localhost:8080/"
    },
    "executionInfo": {
     "elapsed": 26,
     "status": "ok",
     "timestamp": 1630100762486,
     "user": {
      "displayName": "Ngoc Lam",
      "photoUrl": "",
      "userId": "11740330467737684407"
     },
     "user_tz": -420
    },
    "id": "s2E3Vhv5firh",
    "outputId": "c0f7bebc-708b-4bad-aaca-7addf7e5c4f9"
   },
   "outputs": [
    {
     "data": {
      "text/plain": [
       "True"
      ]
     },
     "execution_count": 11,
     "metadata": {},
     "output_type": "execute_result"
    }
   ],
   "source": [
    "url = 'https://imdb-api.com/en/API/Top250Movies/k_p01dgqso'\n",
    "r=req.get(url)\n",
    "data=r.text\n",
    "r.from_cache"
   ]
  },
  {
   "cell_type": "markdown",
   "metadata": {
    "id": "47yjB1xVZmN6"
   },
   "source": [
    "* Keep only the id of films from the result above then store it in list _id."
   ]
  },
  {
   "cell_type": "code",
   "execution_count": 12,
   "metadata": {
    "executionInfo": {
     "elapsed": 21,
     "status": "ok",
     "timestamp": 1630100762488,
     "user": {
      "displayName": "Ngoc Lam",
      "photoUrl": "",
      "userId": "11740330467737684407"
     },
     "user_tz": -420
    },
    "id": "N7tOsba3wIQb"
   },
   "outputs": [],
   "source": [
    "data = json.loads(data)\n",
    "data = data['items']\n",
    "id_ = []\n",
    "for item in data:\n",
    "  id_.append(item['id'])"
   ]
  },
  {
   "cell_type": "markdown",
   "metadata": {
    "id": "Xyxzz3BNj3Hd"
   },
   "source": [
    "* Use only top 100 films, invokes get_data function to get film's reviews then append into a list reviews."
   ]
  },
  {
   "cell_type": "code",
   "execution_count": 13,
   "metadata": {
    "executionInfo": {
     "elapsed": 19,
     "status": "ok",
     "timestamp": 1630100762489,
     "user": {
      "displayName": "Ngoc Lam",
      "photoUrl": "",
      "userId": "11740330467737684407"
     },
     "user_tz": -420
    },
    "id": "UVFvVADBs3fI"
   },
   "outputs": [],
   "source": [
    "lst_id = id_[:100]"
   ]
  },
  {
   "cell_type": "code",
   "execution_count": 14,
   "metadata": {
    "executionInfo": {
     "elapsed": 1352,
     "status": "ok",
     "timestamp": 1630100763823,
     "user": {
      "displayName": "Ngoc Lam",
      "photoUrl": "",
      "userId": "11740330467737684407"
     },
     "user_tz": -420
    },
    "id": "k8s_CtxAlH8r"
   },
   "outputs": [],
   "source": [
    "reviews = get_data('k_3hi7jya4',reviews,lst_id)"
   ]
  },
  {
   "cell_type": "markdown",
   "metadata": {
    "id": "2oZ9Ph8XZe2Q"
   },
   "source": [
    "**PREPROCESS DATA**"
   ]
  },
  {
   "cell_type": "markdown",
   "metadata": {
    "id": "mkPGr-4SZMtF"
   },
   "source": [
    "* To avoid data from being skewed, we keep only first approximately 7000 reviews that our team can collect."
   ]
  },
  {
   "cell_type": "code",
   "execution_count": 15,
   "metadata": {
    "executionInfo": {
     "elapsed": 39,
     "status": "ok",
     "timestamp": 1630100763825,
     "user": {
      "displayName": "Ngoc Lam",
      "photoUrl": "",
      "userId": "11740330467737684407"
     },
     "user_tz": -420
    },
    "id": "mPTAuu-FuOWz"
   },
   "outputs": [],
   "source": [
    "get_ = reviews[:7100]"
   ]
  },
  {
   "cell_type": "markdown",
   "metadata": {
    "id": "nELhbLy0Zn_S"
   },
   "source": [
    "* Shuffle data in order to eliminate the clear separation of good and bad reviews clusters."
   ]
  },
  {
   "cell_type": "code",
   "execution_count": 16,
   "metadata": {
    "executionInfo": {
     "elapsed": 37,
     "status": "ok",
     "timestamp": 1630100763826,
     "user": {
      "displayName": "Ngoc Lam",
      "photoUrl": "",
      "userId": "11740330467737684407"
     },
     "user_tz": -420
    },
    "id": "k3_7g0IU9vx1"
   },
   "outputs": [],
   "source": [
    "seed(4)\n",
    "shuffle(get_)"
   ]
  },
  {
   "cell_type": "markdown",
   "metadata": {
    "id": "yNZOk4kWZ51o"
   },
   "source": [
    "* Store necessary information of review such as: title, content, and rate into corresponding lists."
   ]
  },
  {
   "cell_type": "code",
   "execution_count": 17,
   "metadata": {
    "executionInfo": {
     "elapsed": 37,
     "status": "ok",
     "timestamp": 1630100763828,
     "user": {
      "displayName": "Ngoc Lam",
      "photoUrl": "",
      "userId": "11740330467737684407"
     },
     "user_tz": -420
    },
    "id": "5Nn9NqJFyaH2"
   },
   "outputs": [],
   "source": [
    "titles, contents , rates = [],[],[]\n",
    "for r in get_:\n",
    "  if r['rate'] != '':\n",
    "    rates.append(float(int(r['rate'])))\n",
    "  else:\n",
    "    rates.append(np.nan)\n",
    "  if r['title'] != '':\n",
    "    titles.append(r['title'])\n",
    "  else:\n",
    "    titles.append(np.nan)\n",
    "  if r['content'] != '':\n",
    "    contents.append(r['content'])\n",
    "  else:\n",
    "    contents.append(np.nan)"
   ]
  },
  {
   "cell_type": "markdown",
   "metadata": {
    "id": "wtgatyQZarX1"
   },
   "source": [
    "* Create DataFrame based on data above, then remove rows that have an empty value."
   ]
  },
  {
   "cell_type": "code",
   "execution_count": 18,
   "metadata": {
    "executionInfo": {
     "elapsed": 36,
     "status": "ok",
     "timestamp": 1630100763829,
     "user": {
      "displayName": "Ngoc Lam",
      "photoUrl": "",
      "userId": "11740330467737684407"
     },
     "user_tz": -420
    },
    "id": "2ZjVkq56aAqE"
   },
   "outputs": [],
   "source": [
    "df = pd.DataFrame(columns = ['Title','Content','Rate'])\n",
    "df.Title = titles\n",
    "df.Content = contents\n",
    "df.Rate = rates\n",
    "df = df.dropna()"
   ]
  },
  {
   "cell_type": "code",
   "execution_count": 19,
   "metadata": {
    "colab": {
     "base_uri": "https://localhost:8080/",
     "height": 206
    },
    "executionInfo": {
     "elapsed": 37,
     "status": "ok",
     "timestamp": 1630100763831,
     "user": {
      "displayName": "Ngoc Lam",
      "photoUrl": "",
      "userId": "11740330467737684407"
     },
     "user_tz": -420
    },
    "id": "nadJLanp2mNH",
    "outputId": "04106b81-05fe-4efc-9765-b8bce55d2717"
   },
   "outputs": [
    {
     "data": {
      "text/html": [
       "<div>\n",
       "<style scoped>\n",
       "    .dataframe tbody tr th:only-of-type {\n",
       "        vertical-align: middle;\n",
       "    }\n",
       "\n",
       "    .dataframe tbody tr th {\n",
       "        vertical-align: top;\n",
       "    }\n",
       "\n",
       "    .dataframe thead th {\n",
       "        text-align: right;\n",
       "    }\n",
       "</style>\n",
       "<table border=\"1\" class=\"dataframe\">\n",
       "  <thead>\n",
       "    <tr style=\"text-align: right;\">\n",
       "      <th></th>\n",
       "      <th>Title</th>\n",
       "      <th>Content</th>\n",
       "      <th>Rate</th>\n",
       "    </tr>\n",
       "  </thead>\n",
       "  <tbody>\n",
       "    <tr>\n",
       "      <th>0</th>\n",
       "      <td>A crime against humanity, it's like a form of ...</td>\n",
       "      <td>This film is so bad that it would be preferabl...</td>\n",
       "      <td>1.0</td>\n",
       "    </tr>\n",
       "    <tr>\n",
       "      <th>2</th>\n",
       "      <td>4.0 what the hell</td>\n",
       "      <td>how can this film get a higher rating than par...</td>\n",
       "      <td>2.0</td>\n",
       "    </tr>\n",
       "    <tr>\n",
       "      <th>3</th>\n",
       "      <td>don't even think about it...</td>\n",
       "      <td>What shall I say, seeing the trailer was bad e...</td>\n",
       "      <td>1.0</td>\n",
       "    </tr>\n",
       "    <tr>\n",
       "      <th>4</th>\n",
       "      <td>It's not that bad</td>\n",
       "      <td>I barely understand why this film was harshly ...</td>\n",
       "      <td>5.0</td>\n",
       "    </tr>\n",
       "    <tr>\n",
       "      <th>6</th>\n",
       "      <td>What a goofy film!</td>\n",
       "      <td>Clumsy comedy with cheesy \"special effects\" (i...</td>\n",
       "      <td>3.0</td>\n",
       "    </tr>\n",
       "  </tbody>\n",
       "</table>\n",
       "</div>"
      ],
      "text/plain": [
       "                                               Title  ... Rate\n",
       "0  A crime against humanity, it's like a form of ...  ...  1.0\n",
       "2                                  4.0 what the hell  ...  2.0\n",
       "3                       don't even think about it...  ...  1.0\n",
       "4                                  It's not that bad  ...  5.0\n",
       "6                                 What a goofy film!  ...  3.0\n",
       "\n",
       "[5 rows x 3 columns]"
      ]
     },
     "execution_count": 19,
     "metadata": {},
     "output_type": "execute_result"
    }
   ],
   "source": [
    "df.head(5)"
   ]
  },
  {
   "cell_type": "markdown",
   "metadata": {
    "id": "XNrXyWLaeceG"
   },
   "source": [
    "* Convert values in Rate column from numerical to categorical (contains 2 values: Good which has rate greater than 5 and Bad for the otherwise)."
   ]
  },
  {
   "cell_type": "code",
   "execution_count": 20,
   "metadata": {
    "executionInfo": {
     "elapsed": 32,
     "status": "ok",
     "timestamp": 1630100763832,
     "user": {
      "displayName": "Ngoc Lam",
      "photoUrl": "",
      "userId": "11740330467737684407"
     },
     "user_tz": -420
    },
    "id": "v8Z1w0l-2KOn"
   },
   "outputs": [],
   "source": [
    "temp = [0,1,2,3,4,5]\n",
    "df.loc[df.Rate > 5, 'Rate'] = 'Good'\n",
    "df.loc[df.Rate.isin(temp), 'Rate'] = 'Bad'"
   ]
  },
  {
   "cell_type": "code",
   "execution_count": 21,
   "metadata": {
    "colab": {
     "base_uri": "https://localhost:8080/",
     "height": 206
    },
    "executionInfo": {
     "elapsed": 31,
     "status": "ok",
     "timestamp": 1630100763833,
     "user": {
      "displayName": "Ngoc Lam",
      "photoUrl": "",
      "userId": "11740330467737684407"
     },
     "user_tz": -420
    },
    "id": "qghyRBi87MQK",
    "outputId": "51b3161e-810e-422c-a002-ad6c9280511c"
   },
   "outputs": [
    {
     "data": {
      "text/html": [
       "<div>\n",
       "<style scoped>\n",
       "    .dataframe tbody tr th:only-of-type {\n",
       "        vertical-align: middle;\n",
       "    }\n",
       "\n",
       "    .dataframe tbody tr th {\n",
       "        vertical-align: top;\n",
       "    }\n",
       "\n",
       "    .dataframe thead th {\n",
       "        text-align: right;\n",
       "    }\n",
       "</style>\n",
       "<table border=\"1\" class=\"dataframe\">\n",
       "  <thead>\n",
       "    <tr style=\"text-align: right;\">\n",
       "      <th></th>\n",
       "      <th>Title</th>\n",
       "      <th>Content</th>\n",
       "      <th>Rate</th>\n",
       "    </tr>\n",
       "  </thead>\n",
       "  <tbody>\n",
       "    <tr>\n",
       "      <th>0</th>\n",
       "      <td>A crime against humanity, it's like a form of ...</td>\n",
       "      <td>This film is so bad that it would be preferabl...</td>\n",
       "      <td>Bad</td>\n",
       "    </tr>\n",
       "    <tr>\n",
       "      <th>2</th>\n",
       "      <td>4.0 what the hell</td>\n",
       "      <td>how can this film get a higher rating than par...</td>\n",
       "      <td>Bad</td>\n",
       "    </tr>\n",
       "    <tr>\n",
       "      <th>3</th>\n",
       "      <td>don't even think about it...</td>\n",
       "      <td>What shall I say, seeing the trailer was bad e...</td>\n",
       "      <td>Bad</td>\n",
       "    </tr>\n",
       "    <tr>\n",
       "      <th>4</th>\n",
       "      <td>It's not that bad</td>\n",
       "      <td>I barely understand why this film was harshly ...</td>\n",
       "      <td>Bad</td>\n",
       "    </tr>\n",
       "    <tr>\n",
       "      <th>6</th>\n",
       "      <td>What a goofy film!</td>\n",
       "      <td>Clumsy comedy with cheesy \"special effects\" (i...</td>\n",
       "      <td>Bad</td>\n",
       "    </tr>\n",
       "  </tbody>\n",
       "</table>\n",
       "</div>"
      ],
      "text/plain": [
       "                                               Title  ... Rate\n",
       "0  A crime against humanity, it's like a form of ...  ...  Bad\n",
       "2                                  4.0 what the hell  ...  Bad\n",
       "3                       don't even think about it...  ...  Bad\n",
       "4                                  It's not that bad  ...  Bad\n",
       "6                                 What a goofy film!  ...  Bad\n",
       "\n",
       "[5 rows x 3 columns]"
      ]
     },
     "execution_count": 21,
     "metadata": {},
     "output_type": "execute_result"
    }
   ],
   "source": [
    "df.head(5)"
   ]
  },
  {
   "cell_type": "markdown",
   "metadata": {
    "id": "6QqtyW2jiZHH"
   },
   "source": [
    "* Remove duplicate rows."
   ]
  },
  {
   "cell_type": "code",
   "execution_count": 22,
   "metadata": {
    "executionInfo": {
     "elapsed": 30,
     "status": "ok",
     "timestamp": 1630100763835,
     "user": {
      "displayName": "Ngoc Lam",
      "photoUrl": "",
      "userId": "11740330467737684407"
     },
     "user_tz": -420
    },
    "id": "JVsnFF2ZvHSX"
   },
   "outputs": [],
   "source": [
    "df.drop_duplicates(inplace=True)"
   ]
  },
  {
   "cell_type": "markdown",
   "metadata": {
    "id": "ZuO-swHoilJq"
   },
   "source": [
    "* Check whether the data is skewed."
   ]
  },
  {
   "cell_type": "code",
   "execution_count": 23,
   "metadata": {
    "colab": {
     "base_uri": "https://localhost:8080/"
    },
    "executionInfo": {
     "elapsed": 31,
     "status": "ok",
     "timestamp": 1630100763837,
     "user": {
      "displayName": "Ngoc Lam",
      "photoUrl": "",
      "userId": "11740330467737684407"
     },
     "user_tz": -420
    },
    "id": "_x8WY43C10WU",
    "outputId": "cffbbda4-b85d-41bc-d2f3-0e5f8215ed94"
   },
   "outputs": [
    {
     "data": {
      "text/plain": [
       "Good    2931\n",
       "Bad     2902\n",
       "Name: Rate, dtype: int64"
      ]
     },
     "execution_count": 23,
     "metadata": {},
     "output_type": "execute_result"
    }
   ],
   "source": [
    "df.Rate.value_counts()"
   ]
  },
  {
   "cell_type": "markdown",
   "metadata": {
    "id": "tNOp7iZOkLAl"
   },
   "source": [
    "* Save dataframe to excel file."
   ]
  },
  {
   "cell_type": "code",
   "execution_count": 24,
   "metadata": {
    "executionInfo": {
     "elapsed": 1849,
     "status": "ok",
     "timestamp": 1630100765660,
     "user": {
      "displayName": "Ngoc Lam",
      "photoUrl": "",
      "userId": "11740330467737684407"
     },
     "user_tz": -420
    },
    "id": "6qrbjd265h2q"
   },
   "outputs": [],
   "source": [
    "df.to_excel('./data/data_rates_cate.xlsx',index=False)"
   ]
  }
 ],
 "metadata": {
  "colab": {
   "authorship_tag": "ABX9TyO3Ffgr3D+dD4xsPBLsMmu9",
   "collapsed_sections": [],
   "name": "Final_DS.ipynb",
   "provenance": []
  },
  "kernelspec": {
   "display_name": "Python 3 (ipykernel)",
   "language": "python",
   "name": "python3"
  },
  "language_info": {
   "codemirror_mode": {
    "name": "ipython",
    "version": 3
   },
   "file_extension": ".py",
   "mimetype": "text/x-python",
   "name": "python",
   "nbconvert_exporter": "python",
   "pygments_lexer": "ipython3",
   "version": "3.8.8"
  }
 },
 "nbformat": 4,
 "nbformat_minor": 1
}
